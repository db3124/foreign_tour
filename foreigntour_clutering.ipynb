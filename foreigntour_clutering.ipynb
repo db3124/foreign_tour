{
 "cells": [
  {
   "cell_type": "markdown",
   "id": "ab4bf75f",
   "metadata": {},
   "source": [
    "# 1. Preprocessing"
   ]
  },
  {
   "cell_type": "code",
   "execution_count": 1,
   "id": "84e90473",
   "metadata": {
    "id": "84e90473"
   },
   "outputs": [],
   "source": [
    "import pandas as pd\n",
    "import os"
   ]
  },
  {
   "cell_type": "code",
   "execution_count": 2,
   "id": "8ef44289",
   "metadata": {
    "colab": {
     "base_uri": "https://localhost:8080/"
    },
    "executionInfo": {
     "elapsed": 3,
     "status": "ok",
     "timestamp": 1695205145471,
     "user": {
      "displayName": "JY",
      "userId": "03341484183860792662"
     },
     "user_tz": -540
    },
    "id": "8ef44289",
    "outputId": "1ed5b1e7-e61a-404a-f295-6b2387e37d65"
   },
   "outputs": [
    {
     "data": {
      "text/plain": [
       "['2022_data.xlsx', 'desktop.ini']"
      ]
     },
     "execution_count": 2,
     "metadata": {},
     "output_type": "execute_result"
    }
   ],
   "source": [
    "file_dir='./data/'\n",
    "os.listdir(file_dir)"
   ]
  },
  {
   "cell_type": "code",
   "execution_count": 3,
   "id": "6183b611",
   "metadata": {
    "colab": {
     "base_uri": "https://localhost:8080/",
     "height": 256
    },
    "executionInfo": {
     "elapsed": 38616,
     "status": "ok",
     "timestamp": 1695205184085,
     "user": {
      "displayName": "JY",
      "userId": "03341484183860792662"
     },
     "user_tz": -540
    },
    "id": "6183b611",
    "outputId": "7a6b0c18-9ebc-417e-b804-1f3e8b2c50a5",
    "scrolled": true
   },
   "outputs": [
    {
     "data": {
      "text/html": [
       "<div>\n",
       "<style scoped>\n",
       "    .dataframe tbody tr th:only-of-type {\n",
       "        vertical-align: middle;\n",
       "    }\n",
       "\n",
       "    .dataframe tbody tr th {\n",
       "        vertical-align: top;\n",
       "    }\n",
       "\n",
       "    .dataframe thead th {\n",
       "        text-align: right;\n",
       "    }\n",
       "</style>\n",
       "<table border=\"1\" class=\"dataframe\">\n",
       "  <thead>\n",
       "    <tr style=\"text-align: right;\">\n",
       "      <th></th>\n",
       "      <th>id</th>\n",
       "      <th>Q1</th>\n",
       "      <th>RQ1</th>\n",
       "      <th>Q3</th>\n",
       "      <th>Q3B1</th>\n",
       "      <th>Q3B2</th>\n",
       "      <th>Q3B3</th>\n",
       "      <th>Q4</th>\n",
       "      <th>Q4A01</th>\n",
       "      <th>Q4A02</th>\n",
       "      <th>...</th>\n",
       "      <th>Q9</th>\n",
       "      <th>D_MON</th>\n",
       "      <th>D_BUN</th>\n",
       "      <th>D_NAT</th>\n",
       "      <th>D_SEX</th>\n",
       "      <th>D_AGE</th>\n",
       "      <th>D_MOK</th>\n",
       "      <th>D_PLA</th>\n",
       "      <th>D_Q1</th>\n",
       "      <th>D_TYP</th>\n",
       "    </tr>\n",
       "  </thead>\n",
       "  <tbody>\n",
       "    <tr>\n",
       "      <th>0</th>\n",
       "      <td>276</td>\n",
       "      <td>1</td>\n",
       "      <td>1</td>\n",
       "      <td>4</td>\n",
       "      <td>NaN</td>\n",
       "      <td>NaN</td>\n",
       "      <td>NaN</td>\n",
       "      <td>1</td>\n",
       "      <td>1.0</td>\n",
       "      <td>2.0</td>\n",
       "      <td>...</td>\n",
       "      <td>5</td>\n",
       "      <td>1</td>\n",
       "      <td>1</td>\n",
       "      <td>13</td>\n",
       "      <td>2</td>\n",
       "      <td>2</td>\n",
       "      <td>4</td>\n",
       "      <td>2</td>\n",
       "      <td>1</td>\n",
       "      <td>1.0</td>\n",
       "    </tr>\n",
       "    <tr>\n",
       "      <th>1</th>\n",
       "      <td>283</td>\n",
       "      <td>1</td>\n",
       "      <td>1</td>\n",
       "      <td>4</td>\n",
       "      <td>NaN</td>\n",
       "      <td>NaN</td>\n",
       "      <td>NaN</td>\n",
       "      <td>1</td>\n",
       "      <td>1.0</td>\n",
       "      <td>2.0</td>\n",
       "      <td>...</td>\n",
       "      <td>5</td>\n",
       "      <td>1</td>\n",
       "      <td>1</td>\n",
       "      <td>13</td>\n",
       "      <td>2</td>\n",
       "      <td>2</td>\n",
       "      <td>4</td>\n",
       "      <td>2</td>\n",
       "      <td>1</td>\n",
       "      <td>1.0</td>\n",
       "    </tr>\n",
       "    <tr>\n",
       "      <th>2</th>\n",
       "      <td>286</td>\n",
       "      <td>1</td>\n",
       "      <td>1</td>\n",
       "      <td>4</td>\n",
       "      <td>NaN</td>\n",
       "      <td>NaN</td>\n",
       "      <td>NaN</td>\n",
       "      <td>1</td>\n",
       "      <td>1.0</td>\n",
       "      <td>2.0</td>\n",
       "      <td>...</td>\n",
       "      <td>5</td>\n",
       "      <td>1</td>\n",
       "      <td>1</td>\n",
       "      <td>13</td>\n",
       "      <td>1</td>\n",
       "      <td>2</td>\n",
       "      <td>4</td>\n",
       "      <td>2</td>\n",
       "      <td>1</td>\n",
       "      <td>NaN</td>\n",
       "    </tr>\n",
       "    <tr>\n",
       "      <th>3</th>\n",
       "      <td>289</td>\n",
       "      <td>4</td>\n",
       "      <td>4</td>\n",
       "      <td>2</td>\n",
       "      <td>13.0</td>\n",
       "      <td>NaN</td>\n",
       "      <td>NaN</td>\n",
       "      <td>1</td>\n",
       "      <td>1.0</td>\n",
       "      <td>2.0</td>\n",
       "      <td>...</td>\n",
       "      <td>5</td>\n",
       "      <td>1</td>\n",
       "      <td>1</td>\n",
       "      <td>13</td>\n",
       "      <td>1</td>\n",
       "      <td>2</td>\n",
       "      <td>2</td>\n",
       "      <td>2</td>\n",
       "      <td>4</td>\n",
       "      <td>1.0</td>\n",
       "    </tr>\n",
       "    <tr>\n",
       "      <th>4</th>\n",
       "      <td>300</td>\n",
       "      <td>1</td>\n",
       "      <td>1</td>\n",
       "      <td>4</td>\n",
       "      <td>NaN</td>\n",
       "      <td>NaN</td>\n",
       "      <td>NaN</td>\n",
       "      <td>1</td>\n",
       "      <td>1.0</td>\n",
       "      <td>2.0</td>\n",
       "      <td>...</td>\n",
       "      <td>5</td>\n",
       "      <td>1</td>\n",
       "      <td>1</td>\n",
       "      <td>2</td>\n",
       "      <td>2</td>\n",
       "      <td>2</td>\n",
       "      <td>4</td>\n",
       "      <td>3</td>\n",
       "      <td>1</td>\n",
       "      <td>1.0</td>\n",
       "    </tr>\n",
       "  </tbody>\n",
       "</table>\n",
       "<p>5 rows × 188 columns</p>\n",
       "</div>"
      ],
      "text/plain": [
       "    id  Q1  RQ1  Q3  Q3B1  Q3B2  Q3B3  Q4  Q4A01  Q4A02  ...  Q9  D_MON  \\\n",
       "0  276   1    1   4   NaN   NaN   NaN   1    1.0    2.0  ...   5      1   \n",
       "1  283   1    1   4   NaN   NaN   NaN   1    1.0    2.0  ...   5      1   \n",
       "2  286   1    1   4   NaN   NaN   NaN   1    1.0    2.0  ...   5      1   \n",
       "3  289   4    4   2  13.0   NaN   NaN   1    1.0    2.0  ...   5      1   \n",
       "4  300   1    1   4   NaN   NaN   NaN   1    1.0    2.0  ...   5      1   \n",
       "\n",
       "   D_BUN  D_NAT  D_SEX  D_AGE  D_MOK  D_PLA  D_Q1  D_TYP  \n",
       "0      1     13      2      2      4      2     1    1.0  \n",
       "1      1     13      2      2      4      2     1    1.0  \n",
       "2      1     13      1      2      4      2     1    NaN  \n",
       "3      1     13      1      2      2      2     4    1.0  \n",
       "4      1      2      2      2      4      3     1    1.0  \n",
       "\n",
       "[5 rows x 188 columns]"
      ]
     },
     "execution_count": 3,
     "metadata": {},
     "output_type": "execute_result"
    }
   ],
   "source": [
    "df=pd.read_excel(file_dir+'2022_data.xlsx')\n",
    "df.head(5)"
   ]
  },
  {
   "cell_type": "code",
   "execution_count": 4,
   "id": "eafbcb4c",
   "metadata": {
    "colab": {
     "base_uri": "https://localhost:8080/"
    },
    "executionInfo": {
     "elapsed": 25,
     "status": "ok",
     "timestamp": 1695205184085,
     "user": {
      "displayName": "JY",
      "userId": "03341484183860792662"
     },
     "user_tz": -540
    },
    "id": "eafbcb4c",
    "outputId": "5f6041ee-8766-428b-f66d-0e263ce4b691"
   },
   "outputs": [
    {
     "name": "stdout",
     "output_type": "stream",
     "text": [
      "<class 'pandas.core.frame.DataFrame'>\n",
      "RangeIndex: 19543 entries, 0 to 19542\n",
      "Columns: 188 entries, id to D_TYP\n",
      "dtypes: float64(167), int64(21)\n",
      "memory usage: 28.0 MB\n"
     ]
    }
   ],
   "source": [
    "df.info()"
   ]
  },
  {
   "cell_type": "code",
   "execution_count": 5,
   "id": "kgN5JQeAbxdN",
   "metadata": {
    "id": "kgN5JQeAbxdN"
   },
   "outputs": [],
   "source": [
    "df2=df.loc[(df['Q3']==1)|(df['Q3']==2),:]"
   ]
  },
  {
   "cell_type": "code",
   "execution_count": 6,
   "id": "598ba79a",
   "metadata": {
    "colab": {
     "base_uri": "https://localhost:8080/",
     "height": 193
    },
    "executionInfo": {
     "elapsed": 22,
     "status": "ok",
     "timestamp": 1695205184085,
     "user": {
      "displayName": "JY",
      "userId": "03341484183860792662"
     },
     "user_tz": -540
    },
    "id": "598ba79a",
    "outputId": "aa0d776c-36bf-4e0f-aa0d-9c606a919058"
   },
   "outputs": [
    {
     "data": {
      "text/html": [
       "<div>\n",
       "<style scoped>\n",
       "    .dataframe tbody tr th:only-of-type {\n",
       "        vertical-align: middle;\n",
       "    }\n",
       "\n",
       "    .dataframe tbody tr th {\n",
       "        vertical-align: top;\n",
       "    }\n",
       "\n",
       "    .dataframe thead th {\n",
       "        text-align: right;\n",
       "    }\n",
       "</style>\n",
       "<table border=\"1\" class=\"dataframe\">\n",
       "  <thead>\n",
       "    <tr style=\"text-align: right;\">\n",
       "      <th></th>\n",
       "      <th>id</th>\n",
       "      <th>Q1</th>\n",
       "      <th>RQ1</th>\n",
       "      <th>Q3</th>\n",
       "      <th>Q3B1</th>\n",
       "      <th>Q3B2</th>\n",
       "      <th>Q3B3</th>\n",
       "      <th>Q4</th>\n",
       "      <th>Q4A01</th>\n",
       "      <th>Q4A02</th>\n",
       "      <th>...</th>\n",
       "      <th>Q9</th>\n",
       "      <th>D_MON</th>\n",
       "      <th>D_BUN</th>\n",
       "      <th>D_NAT</th>\n",
       "      <th>D_SEX</th>\n",
       "      <th>D_AGE</th>\n",
       "      <th>D_MOK</th>\n",
       "      <th>D_PLA</th>\n",
       "      <th>D_Q1</th>\n",
       "      <th>D_TYP</th>\n",
       "    </tr>\n",
       "  </thead>\n",
       "  <tbody>\n",
       "    <tr>\n",
       "      <th>3</th>\n",
       "      <td>289</td>\n",
       "      <td>4</td>\n",
       "      <td>4</td>\n",
       "      <td>2</td>\n",
       "      <td>13.0</td>\n",
       "      <td>NaN</td>\n",
       "      <td>NaN</td>\n",
       "      <td>1</td>\n",
       "      <td>1.0</td>\n",
       "      <td>2.0</td>\n",
       "      <td>...</td>\n",
       "      <td>5</td>\n",
       "      <td>1</td>\n",
       "      <td>1</td>\n",
       "      <td>13</td>\n",
       "      <td>1</td>\n",
       "      <td>2</td>\n",
       "      <td>2</td>\n",
       "      <td>2</td>\n",
       "      <td>4</td>\n",
       "      <td>1.0</td>\n",
       "    </tr>\n",
       "    <tr>\n",
       "      <th>6</th>\n",
       "      <td>312</td>\n",
       "      <td>1</td>\n",
       "      <td>1</td>\n",
       "      <td>1</td>\n",
       "      <td>5.0</td>\n",
       "      <td>4.0</td>\n",
       "      <td>NaN</td>\n",
       "      <td>1</td>\n",
       "      <td>NaN</td>\n",
       "      <td>2.0</td>\n",
       "      <td>...</td>\n",
       "      <td>5</td>\n",
       "      <td>1</td>\n",
       "      <td>1</td>\n",
       "      <td>13</td>\n",
       "      <td>1</td>\n",
       "      <td>2</td>\n",
       "      <td>1</td>\n",
       "      <td>1</td>\n",
       "      <td>1</td>\n",
       "      <td>1.0</td>\n",
       "    </tr>\n",
       "    <tr>\n",
       "      <th>8</th>\n",
       "      <td>324</td>\n",
       "      <td>1</td>\n",
       "      <td>1</td>\n",
       "      <td>2</td>\n",
       "      <td>4.0</td>\n",
       "      <td>3.0</td>\n",
       "      <td>1.0</td>\n",
       "      <td>1</td>\n",
       "      <td>1.0</td>\n",
       "      <td>2.0</td>\n",
       "      <td>...</td>\n",
       "      <td>5</td>\n",
       "      <td>1</td>\n",
       "      <td>1</td>\n",
       "      <td>2</td>\n",
       "      <td>1</td>\n",
       "      <td>2</td>\n",
       "      <td>2</td>\n",
       "      <td>1</td>\n",
       "      <td>1</td>\n",
       "      <td>1.0</td>\n",
       "    </tr>\n",
       "  </tbody>\n",
       "</table>\n",
       "<p>3 rows × 188 columns</p>\n",
       "</div>"
      ],
      "text/plain": [
       "    id  Q1  RQ1  Q3  Q3B1  Q3B2  Q3B3  Q4  Q4A01  Q4A02  ...  Q9  D_MON  \\\n",
       "3  289   4    4   2  13.0   NaN   NaN   1    1.0    2.0  ...   5      1   \n",
       "6  312   1    1   1   5.0   4.0   NaN   1    NaN    2.0  ...   5      1   \n",
       "8  324   1    1   2   4.0   3.0   1.0   1    1.0    2.0  ...   5      1   \n",
       "\n",
       "   D_BUN  D_NAT  D_SEX  D_AGE  D_MOK  D_PLA  D_Q1  D_TYP  \n",
       "3      1     13      1      2      2      2     4    1.0  \n",
       "6      1     13      1      2      1      1     1    1.0  \n",
       "8      1      2      1      2      2      1     1    1.0  \n",
       "\n",
       "[3 rows x 188 columns]"
      ]
     },
     "execution_count": 6,
     "metadata": {},
     "output_type": "execute_result"
    }
   ],
   "source": [
    "df2.head(3)"
   ]
  },
  {
   "cell_type": "code",
   "execution_count": 7,
   "id": "503ed699",
   "metadata": {
    "colab": {
     "base_uri": "https://localhost:8080/"
    },
    "executionInfo": {
     "elapsed": 22,
     "status": "ok",
     "timestamp": 1695205184086,
     "user": {
      "displayName": "JY",
      "userId": "03341484183860792662"
     },
     "user_tz": -540
    },
    "id": "503ed699",
    "outputId": "abe6bc10-e8de-415b-a51d-8b935fe8b5fc"
   },
   "outputs": [
    {
     "name": "stdout",
     "output_type": "stream",
     "text": [
      "<class 'pandas.core.frame.DataFrame'>\n",
      "Int64Index: 9823 entries, 3 to 19542\n",
      "Columns: 188 entries, id to D_TYP\n",
      "dtypes: float64(167), int64(21)\n",
      "memory usage: 14.2 MB\n"
     ]
    }
   ],
   "source": [
    "df2.info()"
   ]
  },
  {
   "cell_type": "code",
   "execution_count": 8,
   "id": "nM5U_lfFtmGh",
   "metadata": {
    "colab": {
     "base_uri": "https://localhost:8080/"
    },
    "executionInfo": {
     "elapsed": 20,
     "status": "ok",
     "timestamp": 1695205184086,
     "user": {
      "displayName": "JY",
      "userId": "03341484183860792662"
     },
     "user_tz": -540
    },
    "id": "nM5U_lfFtmGh",
    "outputId": "507f81a0-d883-4829-c2af-2eff0a971574"
   },
   "outputs": [
    {
     "name": "stdout",
     "output_type": "stream",
     "text": [
      "<class 'pandas.core.frame.DataFrame'>\n",
      "Int64Index: 1249 entries, 34 to 19525\n",
      "Columns: 188 entries, id to D_TYP\n",
      "dtypes: float64(167), int64(21)\n",
      "memory usage: 1.8 MB\n"
     ]
    }
   ],
   "source": [
    "df2=df2.loc[(df2['Q3B1']==6)|(df2['Q3B2']==6)|(df2['Q3B3']==6), :]\n",
    "df2.info()"
   ]
  },
  {
   "cell_type": "code",
   "execution_count": 9,
   "id": "f2589b31",
   "metadata": {
    "id": "f2589b31"
   },
   "outputs": [],
   "source": [
    "df3=df2.drop(['id','Q1', 'RQ1', 'Q3', 'Q4',\n",
    "          '서울박TOT', '경기박TOT', '인천박TOT', '강원박TOT', '대전박TOT', '충북박TOT',\n",
    "          '대전박TOT', '충북박TOT', '충남박TOT', '세종박TOT', '경북박TOT', '경남박TOT', '대구박TOT', '울산박TOT',\n",
    "          '부산박TOT', '광주박TOT', '전북박TOT', '전남박TOT', '제주박TOT',\n",
    "          '서울일TOT', '경기일TOT', '인천일TOT', '강원일TOT', '대전일TOT', '충북일TOT',\n",
    "          '충남일TOT', '세종일TOT', '경북일TOT', '경남일TOT', '대구일TOT', '울산일TOT',\n",
    "          '부산일TOT', '광주일TOT', '전북일TOT', '전남일TOT', '제주일TOT',\n",
    "          'Q2a1', 'Q2a2', 'MQ2A2_61','RQ2A2',\n",
    "          '호텔숙박60', '모텔숙박60', '펜션숙박60', '콘도숙박60', '유스숙박60',\n",
    "          '야영숙박60', '연수숙박60', '한옥숙박60', '게스숙박60', '민박숙박60',\n",
    "          '휴양숙박60', '친지숙박60','기타숙박60',\n",
    "          '총액1인TOT', 'C총액1인MIS', '총액1인MIS', 'DAYall평균', 'DAY평균', 'RDAY평균',\n",
    "          'Q7','Q8', 'Q9',\n",
    "          'D_MON', 'D_BUN', 'D_NAT', 'D_SEX', 'D_AGE', 'D_MOK', 'D_PLA', 'D_Q1', 'D_TYP']\n",
    "         , axis=1)"
   ]
  },
  {
   "cell_type": "code",
   "execution_count": 10,
   "id": "6f6f236b",
   "metadata": {
    "colab": {
     "base_uri": "https://localhost:8080/"
    },
    "executionInfo": {
     "elapsed": 19,
     "status": "ok",
     "timestamp": 1695205184087,
     "user": {
      "displayName": "JY",
      "userId": "03341484183860792662"
     },
     "user_tz": -540
    },
    "id": "6f6f236b",
    "outputId": "2aec1d8c-961b-4ac3-fc8c-4ca1c1acdc53",
    "scrolled": true
   },
   "outputs": [
    {
     "name": "stdout",
     "output_type": "stream",
     "text": [
      "<class 'pandas.core.frame.DataFrame'>\n",
      "Int64Index: 1249 entries, 34 to 19525\n",
      "Columns: 114 entries, Q3B1 to Q11_1a17t\n",
      "dtypes: float64(113), int64(1)\n",
      "memory usage: 1.1 MB\n"
     ]
    }
   ],
   "source": [
    "df3.info()"
   ]
  },
  {
   "cell_type": "code",
   "execution_count": 11,
   "id": "ab273e9d",
   "metadata": {
    "colab": {
     "base_uri": "https://localhost:8080/",
     "height": 245
    },
    "executionInfo": {
     "elapsed": 15,
     "status": "ok",
     "timestamp": 1695205184088,
     "user": {
      "displayName": "JY",
      "userId": "03341484183860792662"
     },
     "user_tz": -540
    },
    "id": "ab273e9d",
    "outputId": "34d415a5-a81c-43d0-ae49-d43c472f62df"
   },
   "outputs": [
    {
     "data": {
      "text/html": [
       "<div>\n",
       "<style scoped>\n",
       "    .dataframe tbody tr th:only-of-type {\n",
       "        vertical-align: middle;\n",
       "    }\n",
       "\n",
       "    .dataframe tbody tr th {\n",
       "        vertical-align: top;\n",
       "    }\n",
       "\n",
       "    .dataframe thead th {\n",
       "        text-align: right;\n",
       "    }\n",
       "</style>\n",
       "<table border=\"1\" class=\"dataframe\">\n",
       "  <thead>\n",
       "    <tr style=\"text-align: right;\">\n",
       "      <th></th>\n",
       "      <th>Q3B1</th>\n",
       "      <th>Q3B2</th>\n",
       "      <th>Q3B3</th>\n",
       "      <th>Q4A01</th>\n",
       "      <th>Q4A02</th>\n",
       "      <th>Q4A03</th>\n",
       "      <th>Q4A04</th>\n",
       "      <th>Q4A05</th>\n",
       "      <th>Q4A06</th>\n",
       "      <th>Q4A07</th>\n",
       "      <th>...</th>\n",
       "      <th>세종일61</th>\n",
       "      <th>경북일61</th>\n",
       "      <th>경남일61</th>\n",
       "      <th>대구일61</th>\n",
       "      <th>울산일61</th>\n",
       "      <th>부산일61</th>\n",
       "      <th>광주일61</th>\n",
       "      <th>전북일61</th>\n",
       "      <th>전남일61</th>\n",
       "      <th>제주일61</th>\n",
       "    </tr>\n",
       "  </thead>\n",
       "  <tbody>\n",
       "    <tr>\n",
       "      <th>34</th>\n",
       "      <td>4.0</td>\n",
       "      <td>6.0</td>\n",
       "      <td>2.0</td>\n",
       "      <td>1.0</td>\n",
       "      <td>2.0</td>\n",
       "      <td>3.0</td>\n",
       "      <td>NaN</td>\n",
       "      <td>NaN</td>\n",
       "      <td>NaN</td>\n",
       "      <td>7.0</td>\n",
       "      <td>...</td>\n",
       "      <td>NaN</td>\n",
       "      <td>NaN</td>\n",
       "      <td>NaN</td>\n",
       "      <td>NaN</td>\n",
       "      <td>NaN</td>\n",
       "      <td>NaN</td>\n",
       "      <td>NaN</td>\n",
       "      <td>NaN</td>\n",
       "      <td>NaN</td>\n",
       "      <td>NaN</td>\n",
       "    </tr>\n",
       "    <tr>\n",
       "      <th>190</th>\n",
       "      <td>6.0</td>\n",
       "      <td>1.0</td>\n",
       "      <td>10.0</td>\n",
       "      <td>1.0</td>\n",
       "      <td>2.0</td>\n",
       "      <td>NaN</td>\n",
       "      <td>NaN</td>\n",
       "      <td>5.0</td>\n",
       "      <td>NaN</td>\n",
       "      <td>7.0</td>\n",
       "      <td>...</td>\n",
       "      <td>NaN</td>\n",
       "      <td>NaN</td>\n",
       "      <td>NaN</td>\n",
       "      <td>NaN</td>\n",
       "      <td>NaN</td>\n",
       "      <td>NaN</td>\n",
       "      <td>NaN</td>\n",
       "      <td>NaN</td>\n",
       "      <td>NaN</td>\n",
       "      <td>NaN</td>\n",
       "    </tr>\n",
       "    <tr>\n",
       "      <th>192</th>\n",
       "      <td>6.0</td>\n",
       "      <td>2.0</td>\n",
       "      <td>4.0</td>\n",
       "      <td>1.0</td>\n",
       "      <td>2.0</td>\n",
       "      <td>NaN</td>\n",
       "      <td>NaN</td>\n",
       "      <td>5.0</td>\n",
       "      <td>NaN</td>\n",
       "      <td>NaN</td>\n",
       "      <td>...</td>\n",
       "      <td>NaN</td>\n",
       "      <td>NaN</td>\n",
       "      <td>NaN</td>\n",
       "      <td>NaN</td>\n",
       "      <td>NaN</td>\n",
       "      <td>NaN</td>\n",
       "      <td>NaN</td>\n",
       "      <td>NaN</td>\n",
       "      <td>NaN</td>\n",
       "      <td>NaN</td>\n",
       "    </tr>\n",
       "  </tbody>\n",
       "</table>\n",
       "<p>3 rows × 114 columns</p>\n",
       "</div>"
      ],
      "text/plain": [
       "     Q3B1  Q3B2  Q3B3  Q4A01  Q4A02  Q4A03  Q4A04  Q4A05  Q4A06  Q4A07  ...  \\\n",
       "34    4.0   6.0   2.0    1.0    2.0    3.0    NaN    NaN    NaN    7.0  ...   \n",
       "190   6.0   1.0  10.0    1.0    2.0    NaN    NaN    5.0    NaN    7.0  ...   \n",
       "192   6.0   2.0   4.0    1.0    2.0    NaN    NaN    5.0    NaN    NaN  ...   \n",
       "\n",
       "     세종일61  경북일61  경남일61  대구일61  울산일61  부산일61  광주일61  전북일61  전남일61  제주일61  \n",
       "34     NaN    NaN    NaN    NaN    NaN    NaN    NaN    NaN    NaN    NaN  \n",
       "190    NaN    NaN    NaN    NaN    NaN    NaN    NaN    NaN    NaN    NaN  \n",
       "192    NaN    NaN    NaN    NaN    NaN    NaN    NaN    NaN    NaN    NaN  \n",
       "\n",
       "[3 rows x 114 columns]"
      ]
     },
     "execution_count": 11,
     "metadata": {},
     "output_type": "execute_result"
    }
   ],
   "source": [
    "df3.drop(df3.loc[:, '서울박60':'제주박60'], axis=1, inplace=True) # numerical\n",
    "df3.drop(df3.loc[:, '서울일61':'제주일61'], axis=1, inplace=True) # numerical\n",
    "stay_bak=df2.loc[:, '서울박60':'제주박60']\n",
    "stay_il=df2.loc[:, '서울일61':'제주일61']\n",
    "df3=pd.concat([df3, stay_bak, stay_il], axis=1)\n",
    "df3.head(3)"
   ]
  },
  {
   "cell_type": "code",
   "execution_count": 12,
   "id": "ca40d953",
   "metadata": {
    "colab": {
     "base_uri": "https://localhost:8080/"
    },
    "executionInfo": {
     "elapsed": 14,
     "status": "ok",
     "timestamp": 1695205184088,
     "user": {
      "displayName": "JY",
      "userId": "03341484183860792662"
     },
     "user_tz": -540
    },
    "id": "ca40d953",
    "outputId": "a9cd6b2f-5dd4-41c1-d9f5-9c45138a8149",
    "scrolled": true
   },
   "outputs": [
    {
     "name": "stdout",
     "output_type": "stream",
     "text": [
      "<class 'pandas.core.frame.DataFrame'>\n",
      "Int64Index: 1249 entries, 34 to 19525\n",
      "Columns: 114 entries, Q3B1 to 제주일61\n",
      "dtypes: float64(113), int64(1)\n",
      "memory usage: 1.1 MB\n"
     ]
    }
   ],
   "source": [
    "df3.info()"
   ]
  },
  {
   "cell_type": "code",
   "execution_count": 13,
   "id": "96ca27ce",
   "metadata": {
    "colab": {
     "base_uri": "https://localhost:8080/"
    },
    "executionInfo": {
     "elapsed": 12,
     "status": "ok",
     "timestamp": 1695205184088,
     "user": {
      "displayName": "JY",
      "userId": "03341484183860792662"
     },
     "user_tz": -540
    },
    "id": "96ca27ce",
    "outputId": "8bc02287-9581-4b32-f776-75cdee505225"
   },
   "outputs": [
    {
     "data": {
      "text/plain": [
       "Index(['서울박60', '경기박60', '인천박60', '강원박60', '대전박60', '충북박60', '충남박60', '세종박60',\n",
       "       '경북박60', '경남박60', '대구박60', '울산박60', '부산박60', '광주박60', '전북박60', '전남박60',\n",
       "       '제주박60', '서울일61', '경기일61', '인천일61', '강원일61', '대전일61', '충북일61', '충남일61',\n",
       "       '세종일61', '경북일61', '경남일61', '대구일61', '울산일61', '부산일61', '광주일61', '전북일61',\n",
       "       '전남일61', '제주일61'],\n",
       "      dtype='object')"
      ]
     },
     "execution_count": 13,
     "metadata": {},
     "output_type": "execute_result"
    }
   ],
   "source": [
    "df3.columns[80:]"
   ]
  },
  {
   "cell_type": "code",
   "execution_count": 14,
   "id": "ZBylZYLtSAYL",
   "metadata": {
    "colab": {
     "base_uri": "https://localhost:8080/"
    },
    "executionInfo": {
     "elapsed": 609,
     "status": "ok",
     "timestamp": 1695205184687,
     "user": {
      "displayName": "JY",
      "userId": "03341484183860792662"
     },
     "user_tz": -540
    },
    "id": "ZBylZYLtSAYL",
    "outputId": "3a26401e-97c2-4c7d-f3ae-89d6cafa243b"
   },
   "outputs": [
    {
     "name": "stdout",
     "output_type": "stream",
     "text": [
      "<class 'pandas.core.frame.DataFrame'>\n",
      "Int64Index: 1249 entries, 34 to 19525\n",
      "Columns: 114 entries, Q3B1 to 제주일61\n",
      "dtypes: float64(34), object(80)\n",
      "memory usage: 1.1+ MB\n"
     ]
    }
   ],
   "source": [
    "df3.iloc[:, :80]=df3.iloc[:, :80].fillna('')\n",
    "df3.iloc[:, 80:]=df3.iloc[:, 80:].fillna(0)\n",
    "df3.iloc[:, :80]=df3.iloc[:, :80].astype('str')\n",
    "df3.iloc[:, 80:]=df3.iloc[:, 80:].astype('float')\n",
    "df3.info()"
   ]
  },
  {
   "cell_type": "code",
   "execution_count": 15,
   "id": "bc93b193",
   "metadata": {
    "colab": {
     "base_uri": "https://localhost:8080/"
    },
    "executionInfo": {
     "elapsed": 8,
     "status": "ok",
     "timestamp": 1695205184687,
     "user": {
      "displayName": "JY",
      "userId": "03341484183860792662"
     },
     "user_tz": -540
    },
    "id": "bc93b193",
    "outputId": "52cd3f48-6c73-44ef-a296-1daf0a4ab9ca"
   },
   "outputs": [
    {
     "name": "stdout",
     "output_type": "stream",
     "text": [
      "Q3B1\n",
      "Q3B2\n",
      "Q3B3\n",
      "Q4A01\n",
      "Q4A02\n",
      "Q4A03\n",
      "Q4A04\n",
      "Q4A05\n",
      "Q4A06\n",
      "Q4A07\n",
      "Q4A08\n",
      "Q4A09\n",
      "Q4A10\n",
      "Q4A11\n",
      "Q4A12\n",
      "Q4A13\n",
      "Q4A14\n",
      "Q4A15\n",
      "Q4A16\n",
      "Q4A17\n",
      "Q4B1\n",
      "Q4B2\n",
      "Q4B3\n",
      "Q5A01\n",
      "Q5A02\n",
      "Q5A03\n",
      "Q5A04\n",
      "Q5A05\n",
      "Q5A06\n",
      "Q5A07\n",
      "Q5A08\n",
      "Q5A09\n",
      "Q5A10\n",
      "Q5A11\n",
      "Q5A12\n",
      "Q5A13\n",
      "Q5A14\n",
      "Q5A15\n",
      "Q5A16\n",
      "Q5A17\n",
      "KWON1\n",
      "KWON2\n",
      "KWON3\n",
      "KWON4\n",
      "KWON5\n",
      "KWON6\n",
      "KWON7\n",
      "KWON8\n",
      "Q11A$01\n",
      "Q11A$02\n",
      "Q11A$03\n",
      "Q11A$04\n",
      "Q11A$05\n",
      "Q11A$06\n",
      "Q11A$07\n",
      "Q11A$08\n",
      "Q11A$09\n",
      "Q11A$10\n",
      "Q11A$11\n",
      "Q11A$12\n",
      "Q11A$13\n",
      "Q11A$14\n",
      "Q11A$98\n",
      "Q11_1a01t\n",
      "Q11_1a02t\n",
      "Q11_1a03t\n",
      "Q11_1a04t\n",
      "Q11_1a05t\n",
      "Q11_1a06t\n",
      "Q11_1a07t\n",
      "Q11_1a08t\n",
      "Q11_1a09t\n",
      "Q11_1a10t\n",
      "Q11_1a11t\n",
      "Q11_1a12t\n",
      "Q11_1a13t\n",
      "Q11_1a14t\n",
      "Q11_1a15t\n",
      "Q11_1a16t\n",
      "Q11_1a17t\n",
      "서울박60\n",
      "경기박60\n",
      "인천박60\n",
      "강원박60\n",
      "대전박60\n",
      "충북박60\n",
      "충남박60\n",
      "세종박60\n",
      "경북박60\n",
      "경남박60\n",
      "대구박60\n",
      "울산박60\n",
      "부산박60\n",
      "광주박60\n",
      "전북박60\n",
      "전남박60\n",
      "제주박60\n",
      "서울일61\n",
      "경기일61\n",
      "인천일61\n",
      "강원일61\n",
      "대전일61\n",
      "충북일61\n",
      "충남일61\n",
      "세종일61\n",
      "경북일61\n",
      "경남일61\n",
      "대구일61\n",
      "울산일61\n",
      "부산일61\n",
      "광주일61\n",
      "전북일61\n",
      "전남일61\n",
      "제주일61\n"
     ]
    }
   ],
   "source": [
    "for i in df3.columns:\n",
    "    print(i)"
   ]
  },
  {
   "cell_type": "markdown",
   "id": "oO63fQdYF64a",
   "metadata": {
    "id": "oO63fQdYF64a"
   },
   "source": [
    "# 2. Model"
   ]
  },
  {
   "cell_type": "markdown",
   "id": "13Qg0GEYDHnr",
   "metadata": {
    "id": "13Qg0GEYDHnr"
   },
   "source": [
    "## 2.1. Model - KPrototypes"
   ]
  },
  {
   "cell_type": "code",
   "execution_count": 16,
   "id": "ZiJ_hLOLDHns",
   "metadata": {
    "colab": {
     "base_uri": "https://localhost:8080/"
    },
    "executionInfo": {
     "elapsed": 6769,
     "status": "ok",
     "timestamp": 1695205191993,
     "user": {
      "displayName": "JY",
      "userId": "03341484183860792662"
     },
     "user_tz": -540
    },
    "id": "ZiJ_hLOLDHns",
    "outputId": "3615b85d-76ec-4fe2-d81a-07117b9bf15a"
   },
   "outputs": [],
   "source": [
    "# !pip install kmodes"
   ]
  },
  {
   "cell_type": "code",
   "execution_count": 17,
   "id": "WNsl1fUMDHns",
   "metadata": {
    "id": "WNsl1fUMDHns"
   },
   "outputs": [],
   "source": [
    "import numpy as np\n",
    "from kmodes.kprototypes import KPrototypes\n",
    "import matplotlib.pyplot as plt"
   ]
  },
  {
   "cell_type": "markdown",
   "id": "2803ecfe",
   "metadata": {},
   "source": [
    "### 2.1.1. init='Cao'"
   ]
  },
  {
   "cell_type": "code",
   "execution_count": 18,
   "id": "ylvmX7xRDHnt",
   "metadata": {
    "colab": {
     "base_uri": "https://localhost:8080/"
    },
    "executionInfo": {
     "elapsed": 152725,
     "status": "ok",
     "timestamp": 1695205346087,
     "user": {
      "displayName": "JY",
      "userId": "03341484183860792662"
     },
     "user_tz": -540
    },
    "id": "ylvmX7xRDHnt",
    "outputId": "d784d4df-3b42-483d-8978-ec77683cfdbd",
    "scrolled": true
   },
   "outputs": [
    {
     "name": "stdout",
     "output_type": "stream",
     "text": [
      "Initialization method and algorithm are deterministic. Setting n_init to 1.\n",
      "Best run was number 1\n",
      "Initialization method and algorithm are deterministic. Setting n_init to 1.\n",
      "Best run was number 1\n",
      "Initialization method and algorithm are deterministic. Setting n_init to 1.\n",
      "Best run was number 1\n",
      "Initialization method and algorithm are deterministic. Setting n_init to 1.\n",
      "Best run was number 2\n",
      "Initialization method and algorithm are deterministic. Setting n_init to 1.\n",
      "Best run was number 1\n"
     ]
    }
   ],
   "source": [
    "cost_cao_df3=[]\n",
    "X=df3\n",
    "for num_clusters in list(range(2,7)):\n",
    "    kproto = KPrototypes(n_clusters=num_clusters, init='Cao', random_state=42,\n",
    "                         n_jobs=-2, max_iter=15, n_init=2, verbose=2)\n",
    "    kproto.fit_predict(X, categorical=[i for i in range(80)])\n",
    "    cost_cao_df3.append(kproto.cost_)"
   ]
  },
  {
   "cell_type": "code",
   "execution_count": 19,
   "id": "5Brz_DDKDHnt",
   "metadata": {
    "colab": {
     "base_uri": "https://localhost:8080/",
     "height": 490
    },
    "executionInfo": {
     "elapsed": 10,
     "status": "ok",
     "timestamp": 1695205346088,
     "user": {
      "displayName": "JY",
      "userId": "03341484183860792662"
     },
     "user_tz": -540
    },
    "id": "5Brz_DDKDHnt",
    "outputId": "2a5e40fb-401c-4b0b-aa36-8a4f7357dd0e",
    "scrolled": true
   },
   "outputs": [
    {
     "name": "stdout",
     "output_type": "stream",
     "text": [
      "[71952.30980258611, 51784.27940875746, 45911.39313132357, 41027.2796024132, 38076.425849418396]\n"
     ]
    },
    {
     "data": {
      "image/png": "[encoded data removed]",
      "text/plain": [
       "<Figure size 640x480 with 1 Axes>"
      ]
     },
     "metadata": {},
     "output_type": "display_data"
    }
   ],
   "source": [
    "plt.title('KPrototype Elbow Point')\n",
    "plt.plot(cost_cao_df3, marker='^')\n",
    "plt.xlabel('Number of Clusters')\n",
    "plt.ylabel('cost')\n",
    "plt.xticks(ticks=range(5),labels=[i for i in range(2,7)])\n",
    "\n",
    "print(cost_cao_df3)"
   ]
  },
  {
   "cell_type": "markdown",
   "id": "e048bca5",
   "metadata": {},
   "source": [
    "### 2.1.2. init='Huang'"
   ]
  },
  {
   "cell_type": "code",
   "execution_count": 20,
   "id": "R8yZjMqCDHnu",
   "metadata": {
    "colab": {
     "base_uri": "https://localhost:8080/"
    },
    "executionInfo": {
     "elapsed": 128096,
     "status": "ok",
     "timestamp": 1695205474178,
     "user": {
      "displayName": "JY",
      "userId": "03341484183860792662"
     },
     "user_tz": -540
    },
    "id": "R8yZjMqCDHnu",
    "outputId": "9dce2543-cb50-4a78-ba73-cdfc37713936",
    "scrolled": true
   },
   "outputs": [
    {
     "name": "stdout",
     "output_type": "stream",
     "text": [
      "Best run was number 1\n",
      "Best run was number 2\n",
      "Best run was number 2\n",
      "Best run was number 1\n",
      "Best run was number 2\n"
     ]
    }
   ],
   "source": [
    "cost_huang_df3=[]\n",
    "X=df3\n",
    "for num_clusters in list(range(2,7)):\n",
    "    kproto = KPrototypes(n_clusters=num_clusters, init='Huang', random_state=42, n_jobs=-2, max_iter=15, n_init=2, verbose=2)\n",
    "    kproto.fit_predict(X, categorical=[i for i in range(80)])\n",
    "    cost_huang_df3.append(kproto.cost_)"
   ]
  },
  {
   "cell_type": "code",
   "execution_count": 21,
   "id": "WZoIC-TGDHnu",
   "metadata": {
    "colab": {
     "base_uri": "https://localhost:8080/",
     "height": 490
    },
    "executionInfo": {
     "elapsed": 738,
     "status": "ok",
     "timestamp": 1695205474913,
     "user": {
      "displayName": "JY",
      "userId": "03341484183860792662"
     },
     "user_tz": -540
    },
    "id": "WZoIC-TGDHnu",
    "outputId": "63525e20-d424-43d7-b47f-cf7246627eda",
    "scrolled": true
   },
   "outputs": [
    {
     "name": "stdout",
     "output_type": "stream",
     "text": [
      "[71952.30980258611, 51784.27940875746, 44865.62279644035, 42677.004510763334, 36909.43483038889]\n"
     ]
    },
    {
     "data": {
      "image/png": "[encoded data removed]",
      "text/plain": [
       "<Figure size 640x480 with 1 Axes>"
      ]
     },
     "metadata": {},
     "output_type": "display_data"
    }
   ],
   "source": [
    "plt.title('KPrototype Elbow Point')\n",
    "plt.plot(cost_huang_df3, marker='^')\n",
    "plt.xlabel('Number of Clusters')\n",
    "plt.ylabel('cost')\n",
    "plt.xticks(ticks=range(5),labels=[i for i in range(2,7)])\n",
    "\n",
    "print(cost_huang_df3)"
   ]
  },
  {
   "cell_type": "markdown",
   "id": "b7a95d6d",
   "metadata": {
    "id": "b7a95d6d"
   },
   "source": [
    "## 2.2. Create optimal model: choose a number of clusters using a KneeLocator"
   ]
  },
  {
   "cell_type": "code",
   "execution_count": 22,
   "id": "Okr8GU09Pst0",
   "metadata": {
    "colab": {
     "base_uri": "https://localhost:8080/"
    },
    "executionInfo": {
     "elapsed": 5245,
     "status": "ok",
     "timestamp": 1695205931664,
     "user": {
      "displayName": "JY",
      "userId": "03341484183860792662"
     },
     "user_tz": -540
    },
    "id": "Okr8GU09Pst0",
    "outputId": "968dc3d5-0ae1-49fd-fae9-1976f4facc38"
   },
   "outputs": [],
   "source": [
    "# !pip install kneed"
   ]
  },
  {
   "cell_type": "code",
   "execution_count": 23,
   "id": "be2fa8df",
   "metadata": {
    "colab": {
     "base_uri": "https://localhost:8080/"
    },
    "executionInfo": {
     "elapsed": 33,
     "status": "ok",
     "timestamp": 1695205931664,
     "user": {
      "displayName": "JY",
      "userId": "03341484183860792662"
     },
     "user_tz": -540
    },
    "id": "be2fa8df",
    "outputId": "68158759-a6b7-4bc8-c9f5-5de6eef0fb7f"
   },
   "outputs": [
    {
     "name": "stdout",
     "output_type": "stream",
     "text": [
      "3\n"
     ]
    }
   ],
   "source": [
    "from kneed import KneeLocator\n",
    "cost_knee_cao_df3=KneeLocator(x=range(2,7), y=cost_cao_df3, S=0.1,\n",
    "                         curve='convex', direction='decreasing', online=True)\n",
    "K_cost_cao_df3=cost_knee_cao_df3.elbow\n",
    "print(f'{K_cost_cao_df3:.0f}')"
   ]
  },
  {
   "cell_type": "code",
   "execution_count": 24,
   "id": "a9eae450",
   "metadata": {
    "colab": {
     "base_uri": "https://localhost:8080/"
    },
    "executionInfo": {
     "elapsed": 25,
     "status": "ok",
     "timestamp": 1695205931664,
     "user": {
      "displayName": "JY",
      "userId": "03341484183860792662"
     },
     "user_tz": -540
    },
    "id": "a9eae450",
    "outputId": "4589fee1-9258-434a-b8e0-cf858d539488"
   },
   "outputs": [
    {
     "name": "stdout",
     "output_type": "stream",
     "text": [
      "3\n"
     ]
    }
   ],
   "source": [
    "from kneed import KneeLocator\n",
    "cost_knee_huang_df3=KneeLocator(x=range(2,7), y=cost_huang_df3, S=0.1,\n",
    "                         curve='convex', direction='decreasing', online=True)\n",
    "K_cost_huang_df3=cost_knee_huang_df3.elbow\n",
    "print(f'{K_cost_huang_df3:.0f}')"
   ]
  },
  {
   "cell_type": "markdown",
   "id": "3Y8XDjgXEb3r",
   "metadata": {
    "id": "3Y8XDjgXEb3r"
   },
   "source": [
    "## 2.3. Check the distribution of people by group"
   ]
  },
  {
   "cell_type": "code",
   "execution_count": 25,
   "id": "76a3f0e1",
   "metadata": {
    "colab": {
     "base_uri": "https://localhost:8080/"
    },
    "executionInfo": {
     "elapsed": 43578,
     "status": "ok",
     "timestamp": 1695205975234,
     "user": {
      "displayName": "JY",
      "userId": "03341484183860792662"
     },
     "user_tz": -540
    },
    "id": "76a3f0e1",
    "outputId": "4ed7fc6f-2e49-4113-ff31-327a2951ff3c"
   },
   "outputs": [
    {
     "name": "stdout",
     "output_type": "stream",
     "text": [
      "Initialization method and algorithm are deterministic. Setting n_init to 1.\n",
      "Best run was number 1\n"
     ]
    }
   ],
   "source": [
    "kproto = KPrototypes(n_clusters=K_cost_cao_df3, init='Cao', random_state=42, n_jobs=-2, max_iter=15, n_init=2, verbose=2)\n",
    "clusters=kproto.fit_predict(df3, categorical=[i for i in range(80)])\n",
    "df3['cao_cluster']=clusters"
   ]
  },
  {
   "cell_type": "code",
   "execution_count": 26,
   "id": "d5cd4bd9",
   "metadata": {
    "colab": {
     "base_uri": "https://localhost:8080/"
    },
    "executionInfo": {
     "elapsed": 54622,
     "status": "ok",
     "timestamp": 1695206029853,
     "user": {
      "displayName": "JY",
      "userId": "03341484183860792662"
     },
     "user_tz": -540
    },
    "id": "d5cd4bd9",
    "outputId": "2dd70340-af73-4382-9a4d-331a104c9ec0"
   },
   "outputs": [
    {
     "name": "stdout",
     "output_type": "stream",
     "text": [
      "Best run was number 1\n"
     ]
    }
   ],
   "source": [
    "kproto = KPrototypes(n_clusters=K_cost_huang_df3, init='Huang', random_state=42, n_jobs=-2, max_iter=15, n_init=2, verbose=2)\n",
    "clusters=kproto.fit_predict(df3, categorical=[i for i in range(80)])\n",
    "df3['hua_cluster']=clusters"
   ]
  },
  {
   "cell_type": "code",
   "execution_count": 27,
   "id": "f705d160",
   "metadata": {
    "colab": {
     "base_uri": "https://localhost:8080/",
     "height": 308
    },
    "executionInfo": {
     "elapsed": 24,
     "status": "ok",
     "timestamp": 1695206101621,
     "user": {
      "displayName": "JY",
      "userId": "03341484183860792662"
     },
     "user_tz": -540
    },
    "id": "f705d160",
    "outputId": "69d9236c-c1a0-4300-ddcd-b5af92781abc"
   },
   "outputs": [
    {
     "data": {
      "text/html": [
       "<div>\n",
       "<style scoped>\n",
       "    .dataframe tbody tr th:only-of-type {\n",
       "        vertical-align: middle;\n",
       "    }\n",
       "\n",
       "    .dataframe tbody tr th {\n",
       "        vertical-align: top;\n",
       "    }\n",
       "\n",
       "    .dataframe thead th {\n",
       "        text-align: right;\n",
       "    }\n",
       "</style>\n",
       "<table border=\"1\" class=\"dataframe\">\n",
       "  <thead>\n",
       "    <tr style=\"text-align: right;\">\n",
       "      <th></th>\n",
       "      <th>Q3B1</th>\n",
       "      <th>Q3B2</th>\n",
       "      <th>Q3B3</th>\n",
       "      <th>Q4A01</th>\n",
       "      <th>Q4A02</th>\n",
       "      <th>Q4A03</th>\n",
       "      <th>Q4A04</th>\n",
       "      <th>Q4A05</th>\n",
       "      <th>Q4A06</th>\n",
       "      <th>Q4A07</th>\n",
       "      <th>...</th>\n",
       "      <th>경남일61</th>\n",
       "      <th>대구일61</th>\n",
       "      <th>울산일61</th>\n",
       "      <th>부산일61</th>\n",
       "      <th>광주일61</th>\n",
       "      <th>전북일61</th>\n",
       "      <th>전남일61</th>\n",
       "      <th>제주일61</th>\n",
       "      <th>cao_cluster</th>\n",
       "      <th>hua_cluster</th>\n",
       "    </tr>\n",
       "  </thead>\n",
       "  <tbody>\n",
       "    <tr>\n",
       "      <th>34</th>\n",
       "      <td>4.0</td>\n",
       "      <td>6.0</td>\n",
       "      <td>2.0</td>\n",
       "      <td>1.0</td>\n",
       "      <td>2.0</td>\n",
       "      <td>3.0</td>\n",
       "      <td></td>\n",
       "      <td></td>\n",
       "      <td></td>\n",
       "      <td>7.0</td>\n",
       "      <td>...</td>\n",
       "      <td>0.0</td>\n",
       "      <td>0.0</td>\n",
       "      <td>0.0</td>\n",
       "      <td>0.0</td>\n",
       "      <td>0.0</td>\n",
       "      <td>0.0</td>\n",
       "      <td>0.0</td>\n",
       "      <td>0.0</td>\n",
       "      <td>2</td>\n",
       "      <td>1</td>\n",
       "    </tr>\n",
       "    <tr>\n",
       "      <th>190</th>\n",
       "      <td>6.0</td>\n",
       "      <td>1.0</td>\n",
       "      <td>10.0</td>\n",
       "      <td>1.0</td>\n",
       "      <td>2.0</td>\n",
       "      <td></td>\n",
       "      <td></td>\n",
       "      <td>5.0</td>\n",
       "      <td></td>\n",
       "      <td>7.0</td>\n",
       "      <td>...</td>\n",
       "      <td>0.0</td>\n",
       "      <td>0.0</td>\n",
       "      <td>0.0</td>\n",
       "      <td>0.0</td>\n",
       "      <td>0.0</td>\n",
       "      <td>0.0</td>\n",
       "      <td>0.0</td>\n",
       "      <td>0.0</td>\n",
       "      <td>2</td>\n",
       "      <td>1</td>\n",
       "    </tr>\n",
       "    <tr>\n",
       "      <th>192</th>\n",
       "      <td>6.0</td>\n",
       "      <td>2.0</td>\n",
       "      <td>4.0</td>\n",
       "      <td>1.0</td>\n",
       "      <td>2.0</td>\n",
       "      <td></td>\n",
       "      <td></td>\n",
       "      <td>5.0</td>\n",
       "      <td></td>\n",
       "      <td></td>\n",
       "      <td>...</td>\n",
       "      <td>0.0</td>\n",
       "      <td>0.0</td>\n",
       "      <td>0.0</td>\n",
       "      <td>0.0</td>\n",
       "      <td>0.0</td>\n",
       "      <td>0.0</td>\n",
       "      <td>0.0</td>\n",
       "      <td>0.0</td>\n",
       "      <td>2</td>\n",
       "      <td>1</td>\n",
       "    </tr>\n",
       "    <tr>\n",
       "      <th>329</th>\n",
       "      <td>6.0</td>\n",
       "      <td></td>\n",
       "      <td></td>\n",
       "      <td>1.0</td>\n",
       "      <td></td>\n",
       "      <td></td>\n",
       "      <td></td>\n",
       "      <td></td>\n",
       "      <td></td>\n",
       "      <td>7.0</td>\n",
       "      <td>...</td>\n",
       "      <td>0.0</td>\n",
       "      <td>0.0</td>\n",
       "      <td>0.0</td>\n",
       "      <td>0.0</td>\n",
       "      <td>0.0</td>\n",
       "      <td>0.0</td>\n",
       "      <td>0.0</td>\n",
       "      <td>0.0</td>\n",
       "      <td>1</td>\n",
       "      <td>0</td>\n",
       "    </tr>\n",
       "    <tr>\n",
       "      <th>332</th>\n",
       "      <td>13.0</td>\n",
       "      <td>6.0</td>\n",
       "      <td></td>\n",
       "      <td></td>\n",
       "      <td>2.0</td>\n",
       "      <td>3.0</td>\n",
       "      <td></td>\n",
       "      <td></td>\n",
       "      <td></td>\n",
       "      <td></td>\n",
       "      <td>...</td>\n",
       "      <td>0.0</td>\n",
       "      <td>0.0</td>\n",
       "      <td>0.0</td>\n",
       "      <td>0.0</td>\n",
       "      <td>0.0</td>\n",
       "      <td>0.0</td>\n",
       "      <td>0.0</td>\n",
       "      <td>0.0</td>\n",
       "      <td>1</td>\n",
       "      <td>0</td>\n",
       "    </tr>\n",
       "  </tbody>\n",
       "</table>\n",
       "<p>5 rows × 116 columns</p>\n",
       "</div>"
      ],
      "text/plain": [
       "     Q3B1 Q3B2  Q3B3 Q4A01 Q4A02 Q4A03 Q4A04 Q4A05 Q4A06 Q4A07  ... 경남일61  \\\n",
       "34    4.0  6.0   2.0   1.0   2.0   3.0                     7.0  ...   0.0   \n",
       "190   6.0  1.0  10.0   1.0   2.0               5.0         7.0  ...   0.0   \n",
       "192   6.0  2.0   4.0   1.0   2.0               5.0              ...   0.0   \n",
       "329   6.0              1.0                                 7.0  ...   0.0   \n",
       "332  13.0  6.0               2.0   3.0                          ...   0.0   \n",
       "\n",
       "    대구일61 울산일61 부산일61 광주일61 전북일61 전남일61 제주일61 cao_cluster hua_cluster  \n",
       "34    0.0   0.0   0.0   0.0   0.0   0.0   0.0           2           1  \n",
       "190   0.0   0.0   0.0   0.0   0.0   0.0   0.0           2           1  \n",
       "192   0.0   0.0   0.0   0.0   0.0   0.0   0.0           2           1  \n",
       "329   0.0   0.0   0.0   0.0   0.0   0.0   0.0           1           0  \n",
       "332   0.0   0.0   0.0   0.0   0.0   0.0   0.0           1           0  \n",
       "\n",
       "[5 rows x 116 columns]"
      ]
     },
     "execution_count": 27,
     "metadata": {},
     "output_type": "execute_result"
    }
   ],
   "source": [
    "df3.head()"
   ]
  },
  {
   "cell_type": "code",
   "execution_count": 28,
   "id": "zjpZ2wDpeCW-",
   "metadata": {
    "colab": {
     "base_uri": "https://localhost:8080/"
    },
    "executionInfo": {
     "elapsed": 18,
     "status": "ok",
     "timestamp": 1695206101622,
     "user": {
      "displayName": "JY",
      "userId": "03341484183860792662"
     },
     "user_tz": -540
    },
    "id": "zjpZ2wDpeCW-",
    "outputId": "6a095607-2c3f-4fb8-98d5-a4a837c1f8f7"
   },
   "outputs": [
    {
     "data": {
      "text/plain": [
       "cao_cluster\n",
       "0    368\n",
       "1    798\n",
       "2     83\n",
       "Name: cao_cluster, dtype: int64"
      ]
     },
     "execution_count": 28,
     "metadata": {},
     "output_type": "execute_result"
    }
   ],
   "source": [
    "df3.groupby(['cao_cluster'])['cao_cluster'].count()"
   ]
  },
  {
   "cell_type": "code",
   "execution_count": 29,
   "id": "R5AuU7jEeNce",
   "metadata": {
    "colab": {
     "base_uri": "https://localhost:8080/"
    },
    "executionInfo": {
     "elapsed": 15,
     "status": "ok",
     "timestamp": 1695206101622,
     "user": {
      "displayName": "JY",
      "userId": "03341484183860792662"
     },
     "user_tz": -540
    },
    "id": "R5AuU7jEeNce",
    "outputId": "16a1b34c-e980-49ee-d31b-9adce6ac6d32"
   },
   "outputs": [
    {
     "data": {
      "text/plain": [
       "hua_cluster\n",
       "0    798\n",
       "1     83\n",
       "2    368\n",
       "Name: hua_cluster, dtype: int64"
      ]
     },
     "execution_count": 29,
     "metadata": {},
     "output_type": "execute_result"
    }
   ],
   "source": [
    "df3.groupby(['hua_cluster'])['hua_cluster'].count()"
   ]
  },
  {
   "cell_type": "markdown",
   "id": "b3add228",
   "metadata": {},
   "source": [
    "- **Only the order of the groups is different, and the number of people per group is the same.**\n",
    "- **In this model, select a model with init 'huang' to proceed.**"
   ]
  },
  {
   "cell_type": "markdown",
   "id": "82a01ef2",
   "metadata": {
    "id": "82a01ef2"
   },
   "source": [
    "# 3. Dimensino reduction using FAMD(Factor Analysis of Mixed Data)"
   ]
  },
  {
   "cell_type": "markdown",
   "id": "100dddf0",
   "metadata": {},
   "source": [
    "- I choose a FAMD algorithm for dimension reduction since the data what we use is mixed data(numerical features and categorical features)."
   ]
  },
  {
   "cell_type": "markdown",
   "id": "2f655e64",
   "metadata": {},
   "source": [
    "## 3.1. FAMD"
   ]
  },
  {
   "cell_type": "code",
   "execution_count": 30,
   "id": "09CLXbsSV4z3",
   "metadata": {
    "colab": {
     "base_uri": "https://localhost:8080/"
    },
    "executionInfo": {
     "elapsed": 5500,
     "status": "ok",
     "timestamp": 1695206107114,
     "user": {
      "displayName": "JY",
      "userId": "03341484183860792662"
     },
     "user_tz": -540
    },
    "id": "09CLXbsSV4z3",
    "outputId": "f6b529df-1fc5-45bb-b2be-a7fb6f92e48f"
   },
   "outputs": [],
   "source": [
    "# !pip install prince"
   ]
  },
  {
   "cell_type": "code",
   "execution_count": 31,
   "id": "420d8a45",
   "metadata": {
    "id": "420d8a45",
    "scrolled": true
   },
   "outputs": [],
   "source": [
    "from prince import FAMD\n",
    "\n",
    "X=df3.iloc[:,:-2]\n",
    "\n",
    "famd = FAMD(\n",
    "    n_components=2,\n",
    "    n_iter=3,\n",
    "    copy=True,\n",
    "    check_input=True,\n",
    "    random_state=42,\n",
    "    engine=\"sklearn\",\n",
    "    handle_unknown=\"error\"\n",
    ")\n",
    "famd = famd.fit(X)"
   ]
  },
  {
   "cell_type": "code",
   "execution_count": 32,
   "id": "C2rRKzmmBfXQ",
   "metadata": {
    "colab": {
     "base_uri": "https://localhost:8080/",
     "height": 143
    },
    "executionInfo": {
     "elapsed": 9,
     "status": "ok",
     "timestamp": 1695206112032,
     "user": {
      "displayName": "JY",
      "userId": "03341484183860792662"
     },
     "user_tz": -540
    },
    "id": "C2rRKzmmBfXQ",
    "outputId": "653a41af-b8e9-4e95-fb3a-840d63806151"
   },
   "outputs": [
    {
     "data": {
      "text/html": [
       "<div>\n",
       "<style scoped>\n",
       "    .dataframe tbody tr th:only-of-type {\n",
       "        vertical-align: middle;\n",
       "    }\n",
       "\n",
       "    .dataframe tbody tr th {\n",
       "        vertical-align: top;\n",
       "    }\n",
       "\n",
       "    .dataframe thead th {\n",
       "        text-align: right;\n",
       "    }\n",
       "</style>\n",
       "<table border=\"1\" class=\"dataframe\">\n",
       "  <thead>\n",
       "    <tr style=\"text-align: right;\">\n",
       "      <th></th>\n",
       "      <th>eigenvalue</th>\n",
       "      <th>% of variance</th>\n",
       "      <th>% of variance (cumulative)</th>\n",
       "    </tr>\n",
       "    <tr>\n",
       "      <th>component</th>\n",
       "      <th></th>\n",
       "      <th></th>\n",
       "      <th></th>\n",
       "    </tr>\n",
       "  </thead>\n",
       "  <tbody>\n",
       "    <tr>\n",
       "      <th>0</th>\n",
       "      <td>308.475</td>\n",
       "      <td>3.46%</td>\n",
       "      <td>3.46%</td>\n",
       "    </tr>\n",
       "    <tr>\n",
       "      <th>1</th>\n",
       "      <td>177.253</td>\n",
       "      <td>1.99%</td>\n",
       "      <td>5.45%</td>\n",
       "    </tr>\n",
       "  </tbody>\n",
       "</table>\n",
       "</div>"
      ],
      "text/plain": [
       "          eigenvalue % of variance % of variance (cumulative)\n",
       "component                                                    \n",
       "0            308.475         3.46%                      3.46%\n",
       "1            177.253         1.99%                      5.45%"
      ]
     },
     "execution_count": 32,
     "metadata": {},
     "output_type": "execute_result"
    }
   ],
   "source": [
    "famd.eigenvalues_summary"
   ]
  },
  {
   "cell_type": "code",
   "execution_count": 33,
   "id": "rGdKZutwBf6_",
   "metadata": {
    "colab": {
     "base_uri": "https://localhost:8080/",
     "height": 206
    },
    "executionInfo": {
     "elapsed": 8,
     "status": "ok",
     "timestamp": 1695206112033,
     "user": {
      "displayName": "JY",
      "userId": "03341484183860792662"
     },
     "user_tz": -540
    },
    "id": "rGdKZutwBf6_",
    "outputId": "40402771-f559-4da5-ccc9-9300e44d3a82"
   },
   "outputs": [
    {
     "data": {
      "text/html": [
       "<div>\n",
       "<style scoped>\n",
       "    .dataframe tbody tr th:only-of-type {\n",
       "        vertical-align: middle;\n",
       "    }\n",
       "\n",
       "    .dataframe tbody tr th {\n",
       "        vertical-align: top;\n",
       "    }\n",
       "\n",
       "    .dataframe thead th {\n",
       "        text-align: right;\n",
       "    }\n",
       "</style>\n",
       "<table border=\"1\" class=\"dataframe\">\n",
       "  <thead>\n",
       "    <tr style=\"text-align: right;\">\n",
       "      <th>component</th>\n",
       "      <th>0</th>\n",
       "      <th>1</th>\n",
       "    </tr>\n",
       "  </thead>\n",
       "  <tbody>\n",
       "    <tr>\n",
       "      <th>34</th>\n",
       "      <td>-3.872790</td>\n",
       "      <td>41.893906</td>\n",
       "    </tr>\n",
       "    <tr>\n",
       "      <th>190</th>\n",
       "      <td>-9.110731</td>\n",
       "      <td>14.780930</td>\n",
       "    </tr>\n",
       "    <tr>\n",
       "      <th>192</th>\n",
       "      <td>-8.751761</td>\n",
       "      <td>16.536151</td>\n",
       "    </tr>\n",
       "    <tr>\n",
       "      <th>329</th>\n",
       "      <td>-19.724878</td>\n",
       "      <td>4.525741</td>\n",
       "    </tr>\n",
       "    <tr>\n",
       "      <th>332</th>\n",
       "      <td>0.762535</td>\n",
       "      <td>88.672803</td>\n",
       "    </tr>\n",
       "  </tbody>\n",
       "</table>\n",
       "</div>"
      ],
      "text/plain": [
       "component          0          1\n",
       "34         -3.872790  41.893906\n",
       "190        -9.110731  14.780930\n",
       "192        -8.751761  16.536151\n",
       "329       -19.724878   4.525741\n",
       "332         0.762535  88.672803"
      ]
     },
     "execution_count": 33,
     "metadata": {},
     "output_type": "execute_result"
    }
   ],
   "source": [
    "famd.row_coordinates(X).head()"
   ]
  },
  {
   "cell_type": "code",
   "execution_count": 34,
   "id": "pVPHAOTSBsAw",
   "metadata": {
    "colab": {
     "base_uri": "https://localhost:8080/",
     "height": 455
    },
    "executionInfo": {
     "elapsed": 8,
     "status": "ok",
     "timestamp": 1695206112033,
     "user": {
      "displayName": "JY",
      "userId": "03341484183860792662"
     },
     "user_tz": -540
    },
    "id": "pVPHAOTSBsAw",
    "outputId": "612c7a3f-ef20-462e-f19a-5b16c9bfb43c"
   },
   "outputs": [
    {
     "data": {
      "text/html": [
       "<div>\n",
       "<style scoped>\n",
       "    .dataframe tbody tr th:only-of-type {\n",
       "        vertical-align: middle;\n",
       "    }\n",
       "\n",
       "    .dataframe tbody tr th {\n",
       "        vertical-align: top;\n",
       "    }\n",
       "\n",
       "    .dataframe thead th {\n",
       "        text-align: right;\n",
       "    }\n",
       "</style>\n",
       "<table border=\"1\" class=\"dataframe\">\n",
       "  <thead>\n",
       "    <tr style=\"text-align: right;\">\n",
       "      <th>component</th>\n",
       "      <th>0</th>\n",
       "      <th>1</th>\n",
       "    </tr>\n",
       "    <tr>\n",
       "      <th>variable</th>\n",
       "      <th></th>\n",
       "      <th></th>\n",
       "    </tr>\n",
       "  </thead>\n",
       "  <tbody>\n",
       "    <tr>\n",
       "      <th>서울박60</th>\n",
       "      <td>0.050886</td>\n",
       "      <td>0.049562</td>\n",
       "    </tr>\n",
       "    <tr>\n",
       "      <th>경기박60</th>\n",
       "      <td>0.002171</td>\n",
       "      <td>0.070196</td>\n",
       "    </tr>\n",
       "    <tr>\n",
       "      <th>인천박60</th>\n",
       "      <td>0.002651</td>\n",
       "      <td>0.066516</td>\n",
       "    </tr>\n",
       "    <tr>\n",
       "      <th>강원박60</th>\n",
       "      <td>0.079678</td>\n",
       "      <td>0.021604</td>\n",
       "    </tr>\n",
       "    <tr>\n",
       "      <th>대전박60</th>\n",
       "      <td>0.008264</td>\n",
       "      <td>0.004296</td>\n",
       "    </tr>\n",
       "    <tr>\n",
       "      <th>...</th>\n",
       "      <td>...</td>\n",
       "      <td>...</td>\n",
       "    </tr>\n",
       "    <tr>\n",
       "      <th>Q5A13</th>\n",
       "      <td>0.435433</td>\n",
       "      <td>0.047618</td>\n",
       "    </tr>\n",
       "    <tr>\n",
       "      <th>Q5A14</th>\n",
       "      <td>0.131810</td>\n",
       "      <td>0.007142</td>\n",
       "    </tr>\n",
       "    <tr>\n",
       "      <th>Q5A15</th>\n",
       "      <td>0.054905</td>\n",
       "      <td>0.010515</td>\n",
       "    </tr>\n",
       "    <tr>\n",
       "      <th>Q5A16</th>\n",
       "      <td>0.176754</td>\n",
       "      <td>0.047072</td>\n",
       "    </tr>\n",
       "    <tr>\n",
       "      <th>Q5A17</th>\n",
       "      <td>0.201895</td>\n",
       "      <td>0.033845</td>\n",
       "    </tr>\n",
       "  </tbody>\n",
       "</table>\n",
       "<p>114 rows × 2 columns</p>\n",
       "</div>"
      ],
      "text/plain": [
       "component         0         1\n",
       "variable                     \n",
       "서울박60      0.050886  0.049562\n",
       "경기박60      0.002171  0.070196\n",
       "인천박60      0.002651  0.066516\n",
       "강원박60      0.079678  0.021604\n",
       "대전박60      0.008264  0.004296\n",
       "...             ...       ...\n",
       "Q5A13      0.435433  0.047618\n",
       "Q5A14      0.131810  0.007142\n",
       "Q5A15      0.054905  0.010515\n",
       "Q5A16      0.176754  0.047072\n",
       "Q5A17      0.201895  0.033845\n",
       "\n",
       "[114 rows x 2 columns]"
      ]
     },
     "execution_count": 34,
     "metadata": {},
     "output_type": "execute_result"
    }
   ],
   "source": [
    "famd.column_coordinates_"
   ]
  },
  {
   "cell_type": "code",
   "execution_count": 35,
   "id": "tu5nicA-Bst4",
   "metadata": {
    "colab": {
     "base_uri": "https://localhost:8080/",
     "height": 367
    },
    "executionInfo": {
     "elapsed": 1691,
     "status": "ok",
     "timestamp": 1695206113717,
     "user": {
      "displayName": "JY",
      "userId": "03341484183860792662"
     },
     "user_tz": -540
    },
    "id": "tu5nicA-Bst4",
    "outputId": "c3878966-6091-4dd4-c6c4-f4d3a4b9947c"
   },
   "outputs": [
    {
     "data": {
      "text/html": [
       "\n",
       "<style>\n",
       "  #altair-viz-905b28b83b6b47c9bba5be23db1aa2e0.vega-embed {\n",
       "    width: 100%;\n",
       "    display: flex;\n",
       "  }\n",
       "\n",
       "  #altair-viz-905b28b83b6b47c9bba5be23db1aa2e0.vega-embed details,\n",
       "  #altair-viz-905b28b83b6b47c9bba5be23db1aa2e0.vega-embed details summary {\n",
       "    position: relative;\n",
       "  }\n",
       "</style>\n",
       "<div id=\"altair-viz-905b28b83b6b47c9bba5be23db1aa2e0\"></div>\n",
       "<script type=\"text/javascript\">\n",
       "  var VEGA_DEBUG = (typeof VEGA_DEBUG == \"undefined\") ? {} : VEGA_DEBUG;\n",
       "  (function(spec, embedOpt){\n",
       "    let outputDiv = document.currentScript.previousElementSibling;\n",
       "    if (outputDiv.id !== \"altair-viz-905b28b83b6b47c9bba5be23db1aa2e0\") {\n",
       "      outputDiv = document.getElementById(\"altair-viz-905b28b83b6b47c9bba5be23db1aa2e0\");\n",
       "    }\n",
       "    const paths = {\n",
       "      \"vega\": \"https://cdn.jsdelivr.net/npm/vega@5?noext\",\n",
       "      \"vega-lib\": \"https://cdn.jsdelivr.net/npm/vega-lib?noext\",\n",
       "      \"vega-lite\": \"https://cdn.jsdelivr.net/npm/vega-lite@5.14.1?noext\",\n",
       "      \"vega-embed\": \"https://cdn.jsdelivr.net/npm/vega-embed@6?noext\",\n",
       "    };\n",
       "\n",
       "    function maybeLoadScript(lib, version) {\n",
       "      var key = `${lib.replace(\"-\", \"\")}_version`;\n",
       "      return (VEGA_DEBUG[key] == version) ?\n",
       "        Promise.resolve(paths[lib]) :\n",
       "        new Promise(function(resolve, reject) {\n",
       "          var s = document.createElement('script');\n",
       "          document.getElementsByTagName(\"head\")[0].appendChild(s);\n",
       "          s.async = true;\n",
       "          s.onload = () => {\n",
       "            VEGA_DEBUG[key] = version;\n",
       "            return resolve(paths[lib]);\n",
       "          };\n",
       "          s.onerror = () => reject(`Error loading script: ${paths[lib]}`);\n",
       "          s.src = paths[lib];\n",
       "        });\n",
       "    }\n",
       "\n",
       "    function showError(err) {\n",
       "      outputDiv.innerHTML = `<div class=\"error\" style=\"color:red;\">${err}</div>`;\n",
       "      throw err;\n",
       "    }\n",
       "\n",
       "    function displayChart(vegaEmbed) {\n",
       "      vegaEmbed(outputDiv, spec, embedOpt)\n",
       "        .catch(err => showError(`Javascript Error: ${err.message}<br>This usually means there's a typo in your chart specification. See the javascript console for the full traceback.`));\n",
       "    }\n",
       "\n",
       "    if(typeof define === \"function\" && define.amd) {\n",
       "      requirejs.config({paths});\n",
       "      require([\"vega-embed\"], displayChart, err => showError(`Error loading script: ${err.message}`));\n",
       "    } else {\n",
       "      maybeLoadScript(\"vega\", \"5\")\n",
       "        .then(() => maybeLoadScript(\"vega-lite\", \"5.14.1\"))\n",
       "        .then(() => maybeLoadScript(\"vega-embed\", \"6\"))\n",
       "        .catch(showError)\n",
       "        .then(() => displayChart(vegaEmbed));\n",
       "    }\n",
       "  })({\"config\": {\"view\": {\"continuousWidth\": 300, \"continuousHeight\": 300}}, \"layer\": [{\"mark\": {\"type\": \"circle\", \"size\": 50}, \"encoding\": {\"tooltip\": [{\"field\": \"index\", \"type\": \"quantitative\"}, {\"field\": \"component 0\", \"type\": \"quantitative\"}, {\"field\": \"component 1\", \"type\": \"quantitative\"}], \"x\": {\"axis\": {\"title\": \"component 0 \\u2014 3.46%\"}, \"field\": \"component 0\", \"scale\": {\"zero\": false}, \"type\": \"quantitative\"}, \"y\": {\"axis\": {\"title\": \"component 1 \\u2014 1.99%\"}, \"field\": \"component 1\", \"scale\": {\"zero\": false}, \"type\": \"quantitative\"}}, \"name\": \"view_1\"}, {\"data\": {\"name\": \"data-164bd055259f64e137b93bda4eb36f96\"}, \"mark\": {\"type\": \"square\", \"color\": \"green\", \"size\": 50}, \"encoding\": {\"tooltip\": [{\"field\": \"variable\", \"type\": \"nominal\"}], \"x\": {\"field\": \"component 0\", \"scale\": {\"zero\": false}, \"type\": \"quantitative\"}, \"y\": {\"field\": \"component 1\", \"scale\": {\"zero\": false}, \"type\": \"quantitative\"}}}], \"data\": {\"name\": \"data-c26fd04969ce78f3dacc24b6ddcf699d\"}, \"params\": [{\"name\": \"param_1\", \"select\": {\"type\": \"interval\", \"encodings\": [\"x\", \"y\"]}, \"bind\": \"scales\", \"views\": [\"view_1\"]}], \"$schema\": \"https://vega.github.io/schema/vega-lite/v5.14.1.json\", \"datasets\": {\"data-c26fd04969ce78f3dacc24b6ddcf699d\": [{\"index\": 34, \"component 0\": -3.87278999021521, \"component 1\": 41.893906242192976}, {\"index\": 190, \"component 0\": -9.110731236845936, \"component 1\": 14.78092991233075}, {\"index\": 192, \"component 0\": -8.75176126613165, \"component 1\": 16.536150816116148}, {\"index\": 329, \"component 0\": -19.724877841936564, \"component 1\": 4.525740708097636}, {\"index\": 332, \"component 0\": 0.7625353262433738, \"component 1\": 88.67280320134309}, {\"index\": 338, \"component 0\": -1.9674656686118173, \"component 1\": -3.35034255849074}, {\"index\": 684, \"component 0\": 23.090946753512693, \"component 1\": -11.19990358277397}, {\"index\": 798, \"component 0\": -0.774619577971237, \"component 1\": 93.45494391508058}, {\"index\": 904, \"component 0\": 74.94821746233909, \"component 1\": -8.302530417536193}, {\"index\": 905, \"component 0\": 82.22587347959393, \"component 1\": -8.260134090893883}, {\"index\": 908, \"component 0\": -6.149724588735731, \"component 1\": -2.8698566005590567}, {\"index\": 1074, \"component 0\": 20.018867809510763, \"component 1\": -4.836617690946696}, {\"index\": 1090, \"component 0\": 8.066570055161865, \"component 1\": 19.422173136195244}, {\"index\": 1260, \"component 0\": -2.2145484297301072, \"component 1\": 96.14032590963609}, {\"index\": 1341, \"component 0\": 53.294886431698366, \"component 1\": 45.13499921934003}, {\"index\": 1455, \"component 0\": -12.10709610275282, \"component 1\": -0.27578849589120846}, {\"index\": 1684, \"component 0\": 5.694872419454667, \"component 1\": -5.347987306916478}, {\"index\": 1700, \"component 0\": 3.9548228808412005, \"component 1\": -3.729573123314212}, {\"index\": 1734, \"component 0\": 30.80884164804054, \"component 1\": 30.759431497498863}, {\"index\": 1804, \"component 0\": 33.42564533551468, \"component 1\": -27.094721618187307}, {\"index\": 1807, \"component 0\": -3.7151701696705186, \"component 1\": 0.44861440630877447}, {\"index\": 1924, \"component 0\": 13.302344757085166, \"component 1\": -13.198245047819732}, {\"index\": 1958, \"component 0\": 6.639992219217625, \"component 1\": -11.72434307024508}, {\"index\": 1960, \"component 0\": 8.256584333788199, \"component 1\": -8.633662880227444}, {\"index\": 2018, \"component 0\": 8.33878119063842, \"component 1\": -14.48474811375533}, {\"index\": 2024, \"component 0\": -13.99857986700479, \"component 1\": 2.4773625919031277}, {\"index\": 2027, \"component 0\": -10.389002697265902, \"component 1\": -1.7838326368910162}, {\"index\": 2052, \"component 0\": 23.465349292565875, \"component 1\": -16.094743725712085}, {\"index\": 2057, \"component 0\": -12.14011034271542, \"component 1\": -0.16174064765931317}, {\"index\": 2113, \"component 0\": -9.666820822896334, \"component 1\": -1.7302908561801145}, {\"index\": 2115, \"component 0\": -1.7384396019124333, \"component 1\": -2.296296026678681}, {\"index\": 2116, \"component 0\": 3.1238917345111314, \"component 1\": 4.637110101523383}, {\"index\": 2143, \"component 0\": 26.216564993907475, \"component 1\": -6.357920038877928}, {\"index\": 2144, \"component 0\": 23.84969964476189, \"component 1\": -3.9110096613037495}, {\"index\": 2209, \"component 0\": 8.204956179399993, \"component 1\": -7.3834838409849555}, {\"index\": 2210, \"component 0\": 8.605251816099003, \"component 1\": -7.962374341948083}, {\"index\": 2318, \"component 0\": 5.800365494702835, \"component 1\": -4.953013884920306}, {\"index\": 2321, \"component 0\": 5.333991606490845, \"component 1\": -7.127409428013104}, {\"index\": 2386, \"component 0\": -10.169982319335212, \"component 1\": -4.919374819621505}, {\"index\": 2390, \"component 0\": 38.64533441175019, \"component 1\": -6.114313507485204}, {\"index\": 2406, \"component 0\": 83.33635783433095, \"component 1\": 115.62142195778085}, {\"index\": 2448, \"component 0\": 9.551122431108993, \"component 1\": -8.825428361533788}, {\"index\": 2456, \"component 0\": 4.512708878627339, \"component 1\": -3.235440698147393}, {\"index\": 2639, \"component 0\": -0.8511995402896027, \"component 1\": -6.577715947972779}, {\"index\": 2646, \"component 0\": 1.5646058896639454, \"component 1\": -7.932085389242845}, {\"index\": 2648, \"component 0\": -3.619347674963909, \"component 1\": -7.722849770069722}, {\"index\": 2685, \"component 0\": 13.594766776626173, \"component 1\": -8.325074413999822}, {\"index\": 2709, \"component 0\": -4.514783685862497, \"component 1\": 19.320215227953568}, {\"index\": 2728, \"component 0\": 2.496518300619754, \"component 1\": -8.643777878644011}, {\"index\": 2786, \"component 0\": -1.93339667676571, \"component 1\": 2.5181973889085785}, {\"index\": 2801, \"component 0\": -9.29050260405614, \"component 1\": 0.10912444363725404}, {\"index\": 2909, \"component 0\": -1.1455057252788237, \"component 1\": -3.8192341215600694}, {\"index\": 2961, \"component 0\": 25.19715431226626, \"component 1\": -15.810872568166648}, {\"index\": 2991, \"component 0\": 13.414232754443901, \"component 1\": 11.43708888531254}, {\"index\": 3094, \"component 0\": -15.320501637604316, \"component 1\": -0.023242823534763368}, {\"index\": 3105, \"component 0\": 19.752736602092025, \"component 1\": -1.851493819378379}, {\"index\": 3150, \"component 0\": -22.132909855465655, \"component 1\": 2.6191557442058997}, {\"index\": 3222, \"component 0\": 16.39673811578893, \"component 1\": -9.61444847876511}, {\"index\": 3232, \"component 0\": -6.583684628240334, \"component 1\": -1.26121509817251}, {\"index\": 3260, \"component 0\": -0.08452939006386995, \"component 1\": -0.7395880227456029}, {\"index\": 3261, \"component 0\": -11.148966571300331, \"component 1\": -2.268923330237801}, {\"index\": 3275, \"component 0\": -2.5714284736563537, \"component 1\": 1.247403023714574}, {\"index\": 3299, \"component 0\": 3.565187022868723, \"component 1\": -5.091805272638251}, {\"index\": 3300, \"component 0\": 6.990553770734972, \"component 1\": -4.745467850075682}, {\"index\": 3306, \"component 0\": -12.451165934662374, \"component 1\": -1.7741641681829399}, {\"index\": 3327, \"component 0\": -3.438130999438402, \"component 1\": -0.657347196540103}, {\"index\": 3334, \"component 0\": 8.226553980276652, \"component 1\": -5.659124240546576}, {\"index\": 3335, \"component 0\": 0.5626306771758571, \"component 1\": -7.276432083757347}, {\"index\": 3342, \"component 0\": 13.158528394551954, \"component 1\": -14.83417151039186}, {\"index\": 3364, \"component 0\": -5.8519814096794365, \"component 1\": 9.051693561671046}, {\"index\": 3365, \"component 0\": -15.425083709416095, \"component 1\": 7.749883528244967}, {\"index\": 3374, \"component 0\": -16.01550866368712, \"component 1\": -2.7353953900580557}, {\"index\": 3375, \"component 0\": -14.737862077712897, \"component 1\": -2.285274509037964}, {\"index\": 3376, \"component 0\": -11.871127648390242, \"component 1\": -2.165191165746873}, {\"index\": 3383, \"component 0\": -10.343433360292616, \"component 1\": -2.2880204974622336}, {\"index\": 3434, \"component 0\": 8.02974844743946, \"component 1\": -5.887500211998702}, {\"index\": 3489, \"component 0\": 21.527616327766207, \"component 1\": -13.298665976463587}, {\"index\": 3530, \"component 0\": 23.057711326644608, \"component 1\": -9.383634054197005}, {\"index\": 3542, \"component 0\": -5.873999243719111, \"component 1\": -2.4740447304230333}, {\"index\": 3555, \"component 0\": -2.833931854749125, \"component 1\": -8.315200896509426}, {\"index\": 3557, \"component 0\": 0.0469072148412093, \"component 1\": -7.401216624373516}, {\"index\": 3561, \"component 0\": 14.097589337357903, \"component 1\": 13.153322017329081}, {\"index\": 3562, \"component 0\": -6.241990633693839, \"component 1\": 3.699751103577274}, {\"index\": 3599, \"component 0\": 21.66363203897143, \"component 1\": -17.837774107662916}, {\"index\": 3663, \"component 0\": 10.525519632002027, \"component 1\": 7.997617806631655}, {\"index\": 3666, \"component 0\": -18.94926744917252, \"component 1\": 1.0374018590622152}, {\"index\": 3673, \"component 0\": -12.290888498883842, \"component 1\": -2.777965445745999}, {\"index\": 3696, \"component 0\": -8.436059737267634, \"component 1\": -2.6072770088890165}, {\"index\": 3727, \"component 0\": -3.900181618205617, \"component 1\": -4.320866153999105}, {\"index\": 3728, \"component 0\": 31.80679182398532, \"component 1\": 7.300446902570097}, {\"index\": 3743, \"component 0\": 3.0219312322824865, \"component 1\": -8.506660423716257}, {\"index\": 3744, \"component 0\": 8.790599948786578, \"component 1\": -11.947467123629593}, {\"index\": 3748, \"component 0\": 4.158028356748277, \"component 1\": -7.916835205464182}, {\"index\": 3756, \"component 0\": 10.810081530840792, \"component 1\": 26.647574586419616}, {\"index\": 3845, \"component 0\": -17.045105052684665, \"component 1\": 10.12094309217868}, {\"index\": 3915, \"component 0\": -8.899709767532668, \"component 1\": -1.466974500399186}, {\"index\": 3934, \"component 0\": -12.206153607908622, \"component 1\": 0.364630612436851}, {\"index\": 3944, \"component 0\": 1.2653794169999921, \"component 1\": -4.425740295380967}, {\"index\": 3976, \"component 0\": -16.992312007867675, \"component 1\": 0.16235806708476863}, {\"index\": 3982, \"component 0\": -3.0116156462092, \"component 1\": -4.394581992538696}, {\"index\": 3983, \"component 0\": -8.886545127658172, \"component 1\": -4.547203308906616}, {\"index\": 3999, \"component 0\": -15.337912042137003, \"component 1\": -0.339339051812774}, {\"index\": 4015, \"component 0\": -13.674206718282868, \"component 1\": 1.039987364306084}, {\"index\": 4020, \"component 0\": -15.64658539710031, \"component 1\": -1.026574367781718}, {\"index\": 4021, \"component 0\": -8.723769550687368, \"component 1\": -0.8732612518824249}, {\"index\": 4024, \"component 0\": -16.831486301545844, \"component 1\": 0.11634956477403269}, {\"index\": 4036, \"component 0\": 18.654771806195548, \"component 1\": -11.38888640172748}, {\"index\": 4037, \"component 0\": 18.02478364827842, \"component 1\": -15.768386729358824}, {\"index\": 4043, \"component 0\": 2.396465706057741, \"component 1\": -5.498501767418704}, {\"index\": 4048, \"component 0\": 4.385539210570993, \"component 1\": -5.446556912273393}, {\"index\": 4061, \"component 0\": -5.955741938834143, \"component 1\": -2.6490738615223903}, {\"index\": 4066, \"component 0\": -7.24205786878993, \"component 1\": -2.3779749066857727}, {\"index\": 4076, \"component 0\": 20.873842079255816, \"component 1\": 1.3470641357772226}, {\"index\": 4143, \"component 0\": -19.69543522496968, \"component 1\": 0.30215543775983544}, {\"index\": 4175, \"component 0\": 5.288591371694281, \"component 1\": -5.750514824976188}, {\"index\": 4181, \"component 0\": 0.46375490343794024, \"component 1\": -5.566546308154072}, {\"index\": 4236, \"component 0\": -15.476523405755486, \"component 1\": -2.6929221659071345}, {\"index\": 4240, \"component 0\": 7.750835177781184, \"component 1\": -9.78772886747726}, {\"index\": 4280, \"component 0\": -10.32319076007037, \"component 1\": 0.21501374307919802}, {\"index\": 4334, \"component 0\": -21.94355161458081, \"component 1\": 0.46297065315541897}, {\"index\": 4339, \"component 0\": -12.946378280589599, \"component 1\": -1.3585050230624642}, {\"index\": 4341, \"component 0\": -20.72944806897183, \"component 1\": 3.551289440200807}, {\"index\": 4431, \"component 0\": -10.766292984703586, \"component 1\": -2.2985752970674938}, {\"index\": 4434, \"component 0\": 30.58591045155111, \"component 1\": -21.391596675862885}, {\"index\": 4447, \"component 0\": 22.138510035540115, \"component 1\": -12.992949549470964}, {\"index\": 4504, \"component 0\": -0.9089452921706769, \"component 1\": -1.9359355700614096}, {\"index\": 4506, \"component 0\": 14.614055878738235, \"component 1\": -12.229810497630627}, {\"index\": 4545, \"component 0\": 30.270751983503704, \"component 1\": 56.55086417494797}, {\"index\": 4561, \"component 0\": 4.9125967252563, \"component 1\": -8.192011190592464}, {\"index\": 4569, \"component 0\": 25.69549146824064, \"component 1\": 58.77568287376202}, {\"index\": 4588, \"component 0\": -9.783743580902328, \"component 1\": -2.9030394486571955}, {\"index\": 4625, \"component 0\": 1.9198276540105468, \"component 1\": -3.427783489852432}, {\"index\": 4640, \"component 0\": -15.350282534438058, \"component 1\": -2.08671657363137}, {\"index\": 4670, \"component 0\": 6.464584637664544, \"component 1\": -2.5880778580959616}, {\"index\": 4702, \"component 0\": -21.00327249464315, \"component 1\": 3.0789936350250473}, {\"index\": 4712, \"component 0\": -20.593792254524196, \"component 1\": 0.6588424965788564}, {\"index\": 4803, \"component 0\": 39.83752829528665, \"component 1\": -5.4489135802492665}, {\"index\": 4804, \"component 0\": 39.93294791139337, \"component 1\": -5.660311561540404}, {\"index\": 4842, \"component 0\": 7.79799674800088, \"component 1\": -5.562695703345827}, {\"index\": 4916, \"component 0\": 50.93276361365868, \"component 1\": -13.639361170539223}, {\"index\": 4950, \"component 0\": 12.348319830725384, \"component 1\": -14.319246775740277}, {\"index\": 4991, \"component 0\": -11.279797058810965, \"component 1\": -3.6285613601252047}, {\"index\": 5067, \"component 0\": 6.0616697650123434, \"component 1\": -5.4603160935658135}, {\"index\": 5125, \"component 0\": 1.4330549377533792, \"component 1\": -6.626774895481541}, {\"index\": 5197, \"component 0\": 10.065522966946872, \"component 1\": -8.668246513845702}, {\"index\": 5222, \"component 0\": 6.205351734793313, \"component 1\": 65.33249633648518}, {\"index\": 5242, \"component 0\": 2.046775959645761, \"component 1\": -6.771322294159074}, {\"index\": 5247, \"component 0\": -14.380032495931822, \"component 1\": -0.4241276182020354}, {\"index\": 5268, \"component 0\": -2.7435558756290663, \"component 1\": -4.6401478586803435}, {\"index\": 5283, \"component 0\": 8.041626291897705, \"component 1\": -8.727610245044357}, {\"index\": 5288, \"component 0\": -4.97415742868609, \"component 1\": 12.607792917755326}, {\"index\": 5311, \"component 0\": -7.074796788575368, \"component 1\": -4.524217973049005}, {\"index\": 5341, \"component 0\": -4.496899621797315, \"component 1\": -4.666583952802954}, {\"index\": 5342, \"component 0\": -4.162098855115979, \"component 1\": -3.7058227200764513}, {\"index\": 5458, \"component 0\": 22.816343388123123, \"component 1\": -11.555641634713409}, {\"index\": 5465, \"component 0\": 2.1041487756250197, \"component 1\": -4.867064830294391}, {\"index\": 5477, \"component 0\": -0.7712790966851832, \"component 1\": -5.397485504186409}, {\"index\": 5539, \"component 0\": 9.004268209175331, \"component 1\": 3.1647583062802247}, {\"index\": 5541, \"component 0\": -6.989169967541844, \"component 1\": -3.2490576438272765}, {\"index\": 5637, \"component 0\": -2.8041911043108096, \"component 1\": -3.202966799852544}, {\"index\": 5679, \"component 0\": 13.462668743174845, \"component 1\": 0.5883739717587446}, {\"index\": 5723, \"component 0\": 2.0130856605312974, \"component 1\": -5.789461243240266}, {\"index\": 5743, \"component 0\": 12.275463373540545, \"component 1\": -8.626706505773452}, {\"index\": 5747, \"component 0\": 21.339087253437746, \"component 1\": 77.2233710499782}, {\"index\": 5786, \"component 0\": 4.1824508864849115, \"component 1\": -8.448249572836279}, {\"index\": 5790, \"component 0\": 1.4990178465040125, \"component 1\": -8.255407667803674}, {\"index\": 5798, \"component 0\": 20.752581061000313, \"component 1\": -12.037569190168522}, {\"index\": 5809, \"component 0\": -8.412186891592954, \"component 1\": 0.08071403878076566}, {\"index\": 5811, \"component 0\": 2.3149422487911275, \"component 1\": 28.193318634971867}, {\"index\": 5838, \"component 0\": -11.848871242225794, \"component 1\": 12.685141778981318}, {\"index\": 5930, \"component 0\": -19.2186343482328, \"component 1\": 4.635153373852978}, {\"index\": 6093, \"component 0\": -6.701888666954811, \"component 1\": -0.17343529626330978}, {\"index\": 6110, \"component 0\": -9.502325827830473, \"component 1\": 3.6023070968930253}, {\"index\": 6115, \"component 0\": -10.286803237309591, \"component 1\": -3.7276345051399087}, {\"index\": 6231, \"component 0\": 3.7627944108074693, \"component 1\": -7.081919024451505}, {\"index\": 6317, \"component 0\": 14.014361241866803, \"component 1\": -10.367053770905356}, {\"index\": 6353, \"component 0\": 1.402171760115217, \"component 1\": -3.4762748863058537}, {\"index\": 6387, \"component 0\": 24.129679844630875, \"component 1\": -8.693617969044645}, {\"index\": 6437, \"component 0\": -1.659258768432661, \"component 1\": -4.734515083510736}, {\"index\": 6444, \"component 0\": -6.740455335985637, \"component 1\": -2.701916066548984}, {\"index\": 6501, \"component 0\": -2.4684652762084762, \"component 1\": -4.341032695992655}, {\"index\": 6517, \"component 0\": -0.7648183220708704, \"component 1\": -6.3187768291083355}, {\"index\": 6550, \"component 0\": 15.85628904773739, \"component 1\": 4.30975874240963}, {\"index\": 6564, \"component 0\": -3.156778151339232, \"component 1\": -2.9121309215136497}, {\"index\": 6608, \"component 0\": -9.171486041661545, \"component 1\": 1.0109094589825842}, {\"index\": 6618, \"component 0\": 2.359974785229684, \"component 1\": 45.58597694514319}, {\"index\": 6653, \"component 0\": -21.68262342157298, \"component 1\": 1.107883374312705}, {\"index\": 6658, \"component 0\": 2.7840301169013744, \"component 1\": -8.21424372745639}, {\"index\": 6660, \"component 0\": 26.617199923295022, \"component 1\": -2.450737727585164}, {\"index\": 6670, \"component 0\": -4.181187201866107, \"component 1\": 26.126459596395154}, {\"index\": 6704, \"component 0\": -2.214349294549889, \"component 1\": -1.4394456454419506}, {\"index\": 6706, \"component 0\": -4.415484499991762, \"component 1\": -0.7858351113944202}, {\"index\": 6748, \"component 0\": 2.7505096733288723, \"component 1\": -8.80386832038789}, {\"index\": 6750, \"component 0\": -2.458677625766223, \"component 1\": -6.285542601343844}, {\"index\": 6800, \"component 0\": 14.73682368393741, \"component 1\": 13.885332298932031}, {\"index\": 6830, \"component 0\": -10.505037213147833, \"component 1\": -2.545875311759014}, {\"index\": 6835, \"component 0\": -21.678612285266055, \"component 1\": 1.1024916652991457}, {\"index\": 6837, \"component 0\": -14.233432517450328, \"component 1\": -1.3137953141372354}, {\"index\": 6843, \"component 0\": -2.7118448183296375, \"component 1\": -6.11081571176293}, {\"index\": 6858, \"component 0\": -12.750964994491637, \"component 1\": -1.0844115595317656}, {\"index\": 6869, \"component 0\": -19.5887238947151, \"component 1\": 2.3478637319410156}, {\"index\": 6881, \"component 0\": -18.17644358582762, \"component 1\": 1.804869555489079}, {\"index\": 6890, \"component 0\": -15.793597484506456, \"component 1\": -0.942761583897308}, {\"index\": 6892, \"component 0\": -1.1432513428971125, \"component 1\": -3.440449964586783}, {\"index\": 6905, \"component 0\": -18.333637902140815, \"component 1\": 0.9740475757119818}, {\"index\": 6906, \"component 0\": -18.962686993301396, \"component 1\": 1.6665640380839013}, {\"index\": 6974, \"component 0\": -16.43634037178275, \"component 1\": 6.113683146478392}, {\"index\": 6989, \"component 0\": 11.674606659171712, \"component 1\": -14.859916938023995}, {\"index\": 7024, \"component 0\": 9.617381440627728, \"component 1\": -14.573251302575557}, {\"index\": 7033, \"component 0\": 16.969648220998717, \"component 1\": -1.5103871168694605}, {\"index\": 7045, \"component 0\": 16.59172472675651, \"component 1\": 1.8835298966084975}, {\"index\": 7053, \"component 0\": 38.23454008216876, \"component 1\": -17.591003169415398}, {\"index\": 7055, \"component 0\": 27.37206562260389, \"component 1\": 4.076090236779924}, {\"index\": 7076, \"component 0\": 43.60735625549506, \"component 1\": -1.9440391473349568}, {\"index\": 7078, \"component 0\": -3.3862474610699054, \"component 1\": -0.6119176122284598}, {\"index\": 7088, \"component 0\": -2.099449973390024, \"component 1\": -4.306706507560994}, {\"index\": 7091, \"component 0\": -7.833649314125642, \"component 1\": -2.135072328947609}, {\"index\": 7097, \"component 0\": -10.843859742419589, \"component 1\": -4.268016797538616}, {\"index\": 7102, \"component 0\": 0.844990248243843, \"component 1\": 7.191147401693237}, {\"index\": 7103, \"component 0\": -20.2720719741086, \"component 1\": 1.626221290424631}, {\"index\": 7104, \"component 0\": -4.8499839598287195, \"component 1\": -2.5738841913274193}, {\"index\": 7106, \"component 0\": -13.094944090736364, \"component 1\": -0.04745964767993793}, {\"index\": 7109, \"component 0\": -14.507224399623839, \"component 1\": 0.4955345287719985}, {\"index\": 7118, \"component 0\": 4.186259563234662, \"component 1\": -6.3982507895964345}, {\"index\": 7121, \"component 0\": -20.551326987227952, \"component 1\": -0.053064978228721915}, {\"index\": 7122, \"component 0\": 11.614229903437744, \"component 1\": 7.287432299002774}, {\"index\": 7123, \"component 0\": -21.963607296115427, \"component 1\": 0.48992919822321523}, {\"index\": 7127, \"component 0\": -17.969910380591614, \"component 1\": -0.029388276562601567}, {\"index\": 7129, \"component 0\": -19.29413207748142, \"component 1\": -0.04197174359772837}, {\"index\": 7149, \"component 0\": -6.707025183417421, \"component 1\": -4.047261639745264}, {\"index\": 7173, \"component 0\": -19.00412833512846, \"component 1\": 0.5595112558677411}, {\"index\": 7177, \"component 0\": -17.194715224989586, \"component 1\": -0.4499439786993268}, {\"index\": 7178, \"component 0\": 36.61792357871776, \"component 1\": -12.261702082687394}, {\"index\": 7195, \"component 0\": -20.60983679975189, \"component 1\": 0.6804093326330936}, {\"index\": 7208, \"component 0\": -4.828307779140398, \"component 1\": -5.384660300067764}, {\"index\": 7209, \"component 0\": -7.516796450152082, \"component 1\": -5.717714158555019}, {\"index\": 7223, \"component 0\": -17.678189626693662, \"component 1\": 1.8083752214311504}, {\"index\": 7233, \"component 0\": 1.910803478255402, \"component 1\": -2.4187864907276335}, {\"index\": 7244, \"component 0\": 13.31272164828323, \"component 1\": -10.540060387390543}, {\"index\": 7252, \"component 0\": 21.471785511679556, \"component 1\": -1.803348840316519}, {\"index\": 7259, \"component 0\": -12.064444811324028, \"component 1\": -2.0751851095351306}, {\"index\": 7270, \"component 0\": 6.759086425081593, \"component 1\": -9.482162626595079}, {\"index\": 7286, \"component 0\": 29.679666177490375, \"component 1\": -12.801375186781005}, {\"index\": 7314, \"component 0\": -18.67582505726066, \"component 1\": -0.9847174431437684}, {\"index\": 7315, \"component 0\": -16.56633179774382, \"component 1\": -0.30113344466219594}, {\"index\": 7350, \"component 0\": 2.615208362414939, \"component 1\": -7.097440294464998}, {\"index\": 7390, \"component 0\": -3.937445965717549, \"component 1\": -1.7632735163840525}, {\"index\": 7395, \"component 0\": 13.498637517878002, \"component 1\": -15.041306056235477}, {\"index\": 7397, \"component 0\": 8.720920041282895, \"component 1\": 7.39519074095174}, {\"index\": 7401, \"component 0\": -19.137061077686543, \"component 1\": 3.9441937643101044}, {\"index\": 7469, \"component 0\": -2.1889265529955546, \"component 1\": -1.5357876031757944}, {\"index\": 7489, \"component 0\": 14.967372177898493, \"component 1\": -14.580854285992661}, {\"index\": 7513, \"component 0\": -12.362413579502403, \"component 1\": -1.4054423732100463}, {\"index\": 7514, \"component 0\": -12.680902281929352, \"component 1\": -2.674704781778711}, {\"index\": 7528, \"component 0\": 21.39620552336024, \"component 1\": -11.419549521421072}, {\"index\": 7529, \"component 0\": 25.84542008288421, \"component 1\": -17.318329790378947}, {\"index\": 7533, \"component 0\": -7.259933080755492, \"component 1\": -3.967130607103199}, {\"index\": 7548, \"component 0\": -9.690841496856393, \"component 1\": -3.3853144342932904}, {\"index\": 7570, \"component 0\": -16.789002037135212, \"component 1\": 0.130077892234016}, {\"index\": 7576, \"component 0\": 1.9173682358318642, \"component 1\": 5.027800806096838}, {\"index\": 7582, \"component 0\": 23.768694752763945, \"component 1\": 2.7697261810796423}, {\"index\": 7584, \"component 0\": 22.305191094582163, \"component 1\": 3.7776389549134213}, {\"index\": 7630, \"component 0\": 6.104796309281166, \"component 1\": 36.059537067658795}, {\"index\": 7641, \"component 0\": 13.862746461696066, \"component 1\": 46.21454902564737}, {\"index\": 7643, \"component 0\": -6.106636551848617, \"component 1\": -4.351606227266737}, {\"index\": 7747, \"component 0\": -11.949609931594535, \"component 1\": -0.3819814446916553}, {\"index\": 7787, \"component 0\": 13.561758926745286, \"component 1\": -14.260475791038296}, {\"index\": 7822, \"component 0\": 38.06822185900621, \"component 1\": 2.3237196775407396}, {\"index\": 7836, \"component 0\": 2.925724583436284, \"component 1\": -8.877223619936373}, {\"index\": 7860, \"component 0\": 1.9044329061013463, \"component 1\": 13.196609806913798}, {\"index\": 7883, \"component 0\": 0.18834347889667347, \"component 1\": -5.356655795763885}, {\"index\": 7909, \"component 0\": 2.299368777286146, \"component 1\": 3.1682682946317278}, {\"index\": 8029, \"component 0\": -0.4051964026304349, \"component 1\": 2.0349972867703627}, {\"index\": 8030, \"component 0\": -0.32467067067431277, \"component 1\": 0.6461239188577186}, {\"index\": 8050, \"component 0\": 18.844112857037512, \"component 1\": -13.815609153051351}, {\"index\": 8134, \"component 0\": -18.11251023405173, \"component 1\": 0.1940465238213991}, {\"index\": 8143, \"component 0\": -3.0203199492588175, \"component 1\": 11.781087625914715}, {\"index\": 8145, \"component 0\": -2.0073220550262745, \"component 1\": 10.956282556146315}, {\"index\": 8148, \"component 0\": 23.844277295288133, \"component 1\": -1.7434856961356604}, {\"index\": 8149, \"component 0\": -15.131758630757318, \"component 1\": 5.349390646157156}, {\"index\": 8198, \"component 0\": 41.08693742204491, \"component 1\": -1.4461832574358637}, {\"index\": 8210, \"component 0\": 11.925978334736733, \"component 1\": -10.526615498057563}, {\"index\": 8235, \"component 0\": 21.860627462873737, \"component 1\": 0.2726189261629868}, {\"index\": 8244, \"component 0\": 9.727047826302806, \"component 1\": -10.923330726833832}, {\"index\": 8245, \"component 0\": 28.819712666665698, \"component 1\": 4.255644517536793}, {\"index\": 8247, \"component 0\": 1.3098116863964608, \"component 1\": -4.208678764817408}, {\"index\": 8295, \"component 0\": 9.475151623660532, \"component 1\": 7.963316773543838}, {\"index\": 8296, \"component 0\": 8.296064463923376, \"component 1\": 7.1749988277498336}, {\"index\": 8345, \"component 0\": -2.984696213880407, \"component 1\": -3.5814082127286477}, {\"index\": 8347, \"component 0\": 36.480483205194126, \"component 1\": -7.563384310254077}, {\"index\": 8356, \"component 0\": -1.7790803521575684, \"component 1\": 0.7900937787048941}, {\"index\": 8375, \"component 0\": -9.26447451799271, \"component 1\": -2.0960592150911306}, {\"index\": 8378, \"component 0\": -6.966344698929912, \"component 1\": -2.1739240404022784}, {\"index\": 8412, \"component 0\": -1.369955108526601, \"component 1\": -6.220313717678449}, {\"index\": 8434, \"component 0\": -14.034705096938069, \"component 1\": -0.1259710479639674}, {\"index\": 8476, \"component 0\": -9.553064637989015, \"component 1\": -1.5742354500679563}, {\"index\": 8490, \"component 0\": -0.7125851711510139, \"component 1\": -2.7605886003886604}, {\"index\": 8495, \"component 0\": -0.3091089518930976, \"component 1\": -5.060309638581759}, {\"index\": 8521, \"component 0\": -14.102861157016985, \"component 1\": -2.646526887240922}, {\"index\": 8538, \"component 0\": -6.260062461654322, \"component 1\": -0.968346623976153}, {\"index\": 8543, \"component 0\": 2.2361945952121927, \"component 1\": -6.8752001174132795}, {\"index\": 8544, \"component 0\": -4.901945600119673, \"component 1\": -0.20553682929978057}, {\"index\": 8579, \"component 0\": -9.11388887402767, \"component 1\": 5.901321023918923}, {\"index\": 8582, \"component 0\": 11.165489581330712, \"component 1\": 28.678259697514633}, {\"index\": 8585, \"component 0\": 30.37102297644787, \"component 1\": -16.840568885814314}, {\"index\": 8621, \"component 0\": -4.495249686021472, \"component 1\": -2.344996511527105}, {\"index\": 8625, \"component 0\": 15.299241189644302, \"component 1\": 15.165885391573152}, {\"index\": 8661, \"component 0\": -8.293446825084022, \"component 1\": 1.6028055806319284}, {\"index\": 8676, \"component 0\": -12.25241105300599, \"component 1\": 1.8383845723201957}, {\"index\": 8738, \"component 0\": -12.773722463715554, \"component 1\": -0.08901212744716924}, {\"index\": 8757, \"component 0\": 13.761689136303508, \"component 1\": -8.992511798360187}, {\"index\": 8758, \"component 0\": 5.174172951990371, \"component 1\": 22.71813453066377}, {\"index\": 8760, \"component 0\": 10.858353470929963, \"component 1\": -10.740160381027511}, {\"index\": 8763, \"component 0\": -12.055604184448256, \"component 1\": -1.9638642312626735}, {\"index\": 8767, \"component 0\": -5.659036413917095, \"component 1\": -6.543998244035599}, {\"index\": 8769, \"component 0\": 11.049361420229413, \"component 1\": -10.72991209786368}, {\"index\": 8820, \"component 0\": 3.561979921597964, \"component 1\": -5.601742052653472}, {\"index\": 8824, \"component 0\": 3.867420185879675, \"component 1\": -7.050761246668019}, {\"index\": 8856, \"component 0\": 2.850901442334967, \"component 1\": -6.086412226341878}, {\"index\": 8869, \"component 0\": -19.463449282448703, \"component 1\": 20.68834446052315}, {\"index\": 8874, \"component 0\": 6.424242240294927, \"component 1\": -7.306568645514878}, {\"index\": 8878, \"component 0\": -8.545885508815427, \"component 1\": 12.638728232733163}, {\"index\": 8881, \"component 0\": -4.407336062007694, \"component 1\": -3.5454553835090454}, {\"index\": 8885, \"component 0\": 57.5720969153797, \"component 1\": -24.66493380538237}, {\"index\": 8888, \"component 0\": 1.386750677266199, \"component 1\": 35.419334344689915}, {\"index\": 8912, \"component 0\": -6.184892625299809, \"component 1\": -2.3608437067239816}, {\"index\": 8913, \"component 0\": -1.8223891424393972, \"component 1\": -3.4602579467618053}, {\"index\": 8940, \"component 0\": -4.719276904563824, \"component 1\": -0.8157028475090072}, {\"index\": 8944, \"component 0\": 7.077244185658959, \"component 1\": 3.8863182900886137}, {\"index\": 8951, \"component 0\": 25.94382225064804, \"component 1\": -5.528150099028556}, {\"index\": 8961, \"component 0\": -19.018782052618047, \"component 1\": 4.382218764786753}, {\"index\": 8967, \"component 0\": -9.408349370224668, \"component 1\": 0.4986281827598531}, {\"index\": 8981, \"component 0\": 36.713111131139335, \"component 1\": -9.539570463045248}, {\"index\": 8987, \"component 0\": 23.96706305994635, \"component 1\": -4.706548558519129}, {\"index\": 8988, \"component 0\": 6.457235039721629, \"component 1\": -0.23006694612049472}, {\"index\": 8997, \"component 0\": 2.564437060874475, \"component 1\": -4.259170046227393}, {\"index\": 9014, \"component 0\": 9.586840542259994, \"component 1\": -11.320157629944575}, {\"index\": 9067, \"component 0\": -5.253816072895736, \"component 1\": 11.871671074126805}, {\"index\": 9093, \"component 0\": 9.82858148477731, \"component 1\": -7.12583028008072}, {\"index\": 9101, \"component 0\": 7.600413891503854, \"component 1\": 7.855695056601474}, {\"index\": 9111, \"component 0\": 29.484173497114234, \"component 1\": -3.224328026763196}, {\"index\": 9145, \"component 0\": -7.222235554508566, \"component 1\": 1.0476181085580567}, {\"index\": 9183, \"component 0\": -0.011542354048360792, \"component 1\": -1.4290253275350253}, {\"index\": 9184, \"component 0\": 15.278770438878032, \"component 1\": -8.60574518037538}, {\"index\": 9187, \"component 0\": -1.4435346212539453, \"component 1\": -3.554507407868827}, {\"index\": 9190, \"component 0\": -2.631248431178722, \"component 1\": -1.5177855252057912}, {\"index\": 9221, \"component 0\": -18.45482854476271, \"component 1\": 5.945894954661231}, {\"index\": 9229, \"component 0\": 3.838049529583453, \"component 1\": -8.843906860254043}, {\"index\": 9246, \"component 0\": 40.13548315353415, \"component 1\": 11.745664949800297}, {\"index\": 9251, \"component 0\": 5.897332320479354, \"component 1\": 7.462142332648195}, {\"index\": 9269, \"component 0\": 40.204241163951664, \"component 1\": 4.988894208875229}, {\"index\": 9294, \"component 0\": -19.776496504881486, \"component 1\": 1.3235929524524128}, {\"index\": 9295, \"component 0\": -20.0826347479303, \"component 1\": 0.74733256072073}, {\"index\": 9328, \"component 0\": 17.874912629289447, \"component 1\": -13.103592636750754}, {\"index\": 9374, \"component 0\": 1.7808915924708608, \"component 1\": -4.588822351998196}, {\"index\": 9392, \"component 0\": 4.553862064056563, \"component 1\": 8.7032154684274}, {\"index\": 9401, \"component 0\": 45.79410105535804, \"component 1\": 102.77089161448023}, {\"index\": 9447, \"component 0\": -18.581206780414245, \"component 1\": -0.43909442421657163}, {\"index\": 9513, \"component 0\": -13.155701149276496, \"component 1\": -1.225410757650455}, {\"index\": 9518, \"component 0\": -19.279129761410665, \"component 1\": 0.8283747657240288}, {\"index\": 9575, \"component 0\": -12.09436136773099, \"component 1\": 6.576718550639629}, {\"index\": 9597, \"component 0\": 18.341319612039996, \"component 1\": -13.105567029761813}, {\"index\": 9598, \"component 0\": 2.7062101471183335, \"component 1\": -10.498163331449598}, {\"index\": 9601, \"component 0\": 9.880022974675981, \"component 1\": -10.210872485473296}, {\"index\": 9626, \"component 0\": -3.4123608292134593, \"component 1\": -7.679077822829196}, {\"index\": 9627, \"component 0\": 14.560151135238833, \"component 1\": -14.069010269148126}, {\"index\": 9634, \"component 0\": 19.92495952413261, \"component 1\": -11.572260534948487}, {\"index\": 9635, \"component 0\": -13.104725463739275, \"component 1\": -3.104649111356464}, {\"index\": 9659, \"component 0\": -13.622337616838385, \"component 1\": -1.5675763680852337}, {\"index\": 9660, \"component 0\": 6.841943022276709, \"component 1\": -8.082386198705109}, {\"index\": 9661, \"component 0\": -17.549120362640217, \"component 1\": 0.2720088733935764}, {\"index\": 9663, \"component 0\": -14.402262103264214, \"component 1\": -2.318521512962576}, {\"index\": 9675, \"component 0\": -17.171174634876962, \"component 1\": 1.5689910558293692}, {\"index\": 9711, \"component 0\": -6.893453524600829, \"component 1\": -4.05090270122983}, {\"index\": 9718, \"component 0\": 14.24980984343656, \"component 1\": 16.494008359767324}, {\"index\": 9719, \"component 0\": 13.053056441097327, \"component 1\": 18.651574799246927}, {\"index\": 9741, \"component 0\": 4.3674195702147625, \"component 1\": -7.822352361954288}, {\"index\": 9753, \"component 0\": 19.8835812341444, \"component 1\": -5.976406330412191}, {\"index\": 9754, \"component 0\": -13.100250786761334, \"component 1\": -1.9050817081102716}, {\"index\": 9763, \"component 0\": 25.030309304834596, \"component 1\": -19.98277845909753}, {\"index\": 9833, \"component 0\": -13.230965320472286, \"component 1\": -2.2516374937230896}, {\"index\": 9861, \"component 0\": 0.49959672344286654, \"component 1\": -0.44913029775366087}, {\"index\": 9877, \"component 0\": 2.2868600682706584, \"component 1\": -10.773275371300105}, {\"index\": 9910, \"component 0\": -20.551326987227952, \"component 1\": -0.053064978228721915}, {\"index\": 9929, \"component 0\": -20.335328476275322, \"component 1\": 1.7287682516437988}, {\"index\": 9944, \"component 0\": 28.749292377056253, \"component 1\": -5.145748954152486}, {\"index\": 9963, \"component 0\": -2.395317615231036, \"component 1\": 6.706267454293814}, {\"index\": 9971, \"component 0\": 1.8379863604114273, \"component 1\": -8.527541634550884}, {\"index\": 10033, \"component 0\": -10.177705261690706, \"component 1\": 0.9276597070532993}, {\"index\": 10057, \"component 0\": -7.181385966877379, \"component 1\": 0.363436416342652}, {\"index\": 10077, \"component 0\": 6.137667019993225, \"component 1\": 14.104012816501788}, {\"index\": 10093, \"component 0\": 1.011308109479204, \"component 1\": -5.94817895997752}, {\"index\": 10130, \"component 0\": 8.230850714797516, \"component 1\": -8.247583236134332}, {\"index\": 10132, \"component 0\": 28.27384812083364, \"component 1\": -2.611786231210913}, {\"index\": 10146, \"component 0\": -5.082092329490379, \"component 1\": 11.793702627689681}, {\"index\": 10148, \"component 0\": -2.9078480820416135, \"component 1\": -4.2916536831393035}, {\"index\": 10149, \"component 0\": -1.6475176608139992, \"component 1\": -2.326323676121806}, {\"index\": 10154, \"component 0\": -16.966716121889338, \"component 1\": 0.9881302601610211}, {\"index\": 10157, \"component 0\": -14.82122010683861, \"component 1\": 0.5053774693465904}, {\"index\": 10206, \"component 0\": 32.0854847104758, \"component 1\": -13.091580831347756}, {\"index\": 10209, \"component 0\": 57.89087747580192, \"component 1\": -10.59905249960996}, {\"index\": 10212, \"component 0\": 2.1659412944909757, \"component 1\": -4.723271560977972}, {\"index\": 10223, \"component 0\": 41.52033135437948, \"component 1\": 1.074052846702511}, {\"index\": 10237, \"component 0\": 2.0545783037266343, \"component 1\": -2.5729279652406545}, {\"index\": 10251, \"component 0\": 11.78342582103553, \"component 1\": -10.734149286621737}, {\"index\": 10262, \"component 0\": -0.5864409055936437, \"component 1\": 0.9030187767167948}, {\"index\": 10263, \"component 0\": 9.60776448799245, \"component 1\": -9.644491529112392}, {\"index\": 10376, \"component 0\": 13.350426347833006, \"component 1\": 3.6356497586832104}, {\"index\": 10436, \"component 0\": 17.233459368870435, \"component 1\": -11.548975703031438}, {\"index\": 10453, \"component 0\": 7.522087719840449, \"component 1\": -8.588428953653242}, {\"index\": 10478, \"component 0\": -1.0085043602239914, \"component 1\": 1.2834561922028402}, {\"index\": 10491, \"component 0\": -17.946885791907015, \"component 1\": 0.8301748147320367}, {\"index\": 10514, \"component 0\": 19.82368747658699, \"component 1\": -12.220622237031538}, {\"index\": 10516, \"component 0\": 18.50084029033131, \"component 1\": -12.419712343759905}, {\"index\": 10528, \"component 0\": -0.7166304657645046, \"component 1\": 20.908378602520592}, {\"index\": 10548, \"component 0\": 13.86931025720099, \"component 1\": 18.682325728346683}, {\"index\": 10557, \"component 0\": -4.708810717519809, \"component 1\": -3.540888023755822}, {\"index\": 10577, \"component 0\": 5.309316396444669, \"component 1\": -6.068218605172157}, {\"index\": 10599, \"component 0\": -5.5375185093889385, \"component 1\": -0.9411884454265882}, {\"index\": 10604, \"component 0\": -6.950770843055101, \"component 1\": -2.894921784476154}, {\"index\": 10622, \"component 0\": 57.82933772011273, \"component 1\": 40.52892832490153}, {\"index\": 10627, \"component 0\": 5.580994516407868, \"component 1\": 29.452054383517968}, {\"index\": 10629, \"component 0\": 13.364585221821617, \"component 1\": -10.444919463546965}, {\"index\": 10635, \"component 0\": -6.531854549584178, \"component 1\": -2.4497519130269}, {\"index\": 10660, \"component 0\": 26.002274984404718, \"component 1\": -17.035154145794394}, {\"index\": 10676, \"component 0\": -10.42205543149621, \"component 1\": 60.02570923848133}, {\"index\": 10682, \"component 0\": -0.7883591958803171, \"component 1\": -3.2820594833606225}, {\"index\": 10683, \"component 0\": 1.228395651499308, \"component 1\": 109.3337936339623}, {\"index\": 10691, \"component 0\": -14.11806087310019, \"component 1\": -0.9028926485612052}, {\"index\": 10692, \"component 0\": -15.735089844393297, \"component 1\": 0.07358832882230293}, {\"index\": 10697, \"component 0\": -17.906176004695023, \"component 1\": 0.04198360118617095}, {\"index\": 10703, \"component 0\": 9.065542019605065, \"component 1\": 21.28763115392681}, {\"index\": 10704, \"component 0\": 10.44196949081747, \"component 1\": 10.643818481614945}, {\"index\": 10722, \"component 0\": 27.137688693627613, \"component 1\": -8.862000521638848}, {\"index\": 10732, \"component 0\": 15.55080230200324, \"component 1\": 0.11903548237867323}, {\"index\": 10740, \"component 0\": 13.782507395354255, \"component 1\": -15.65993854542345}, {\"index\": 10774, \"component 0\": 20.52419136065278, \"component 1\": 25.523639774422943}, {\"index\": 10827, \"component 0\": -6.920790222427887, \"component 1\": -0.46360083197131197}, {\"index\": 10863, \"component 0\": 8.102164184543346, \"component 1\": -12.235279741424995}, {\"index\": 10864, \"component 0\": -2.3414921824908967, \"component 1\": -4.103409364675025}, {\"index\": 10881, \"component 0\": 19.92240449954919, \"component 1\": -13.910104657242766}, {\"index\": 10884, \"component 0\": 9.20912315325024, \"component 1\": 12.413652835389879}, {\"index\": 10897, \"component 0\": 1.7167652926689034, \"component 1\": -5.217806699564131}, {\"index\": 10900, \"component 0\": -11.111311549232521, \"component 1\": 28.51227305740278}, {\"index\": 10903, \"component 0\": 12.930965944044125, \"component 1\": 1.282300633933656}, {\"index\": 10925, \"component 0\": -3.0408145956790857, \"component 1\": 1.802931580487822}, {\"index\": 10929, \"component 0\": 17.914077148877794, \"component 1\": -14.685863351331818}, {\"index\": 10939, \"component 0\": -1.2865315695422652, \"component 1\": -2.230413607410875}, {\"index\": 10947, \"component 0\": -10.795509717335126, \"component 1\": 2.1729253044583237}, {\"index\": 10990, \"component 0\": -18.67035443904282, \"component 1\": 0.2043383842687938}, {\"index\": 11009, \"component 0\": 16.798183774241185, \"component 1\": 16.77603874784818}, {\"index\": 11020, \"component 0\": 14.690236347768382, \"component 1\": 2.387968758335169}, {\"index\": 11032, \"component 0\": -11.604741095936735, \"component 1\": 0.7838914678137732}, {\"index\": 11037, \"component 0\": -15.644612490154977, \"component 1\": -1.4673842825188104}, {\"index\": 11041, \"component 0\": 12.519718002616676, \"component 1\": -2.1098395743141847}, {\"index\": 11056, \"component 0\": -9.928127406718701, \"component 1\": -2.151883789830686}, {\"index\": 11074, \"component 0\": 17.312770597934755, \"component 1\": -9.45370830570718}, {\"index\": 11079, \"component 0\": -12.33049095969292, \"component 1\": 4.066573039966557}, {\"index\": 11086, \"component 0\": 3.838463591036751, \"component 1\": -6.5261373238616605}, {\"index\": 11104, \"component 0\": 5.644961853504437, \"component 1\": -5.494716107601953}, {\"index\": 11109, \"component 0\": 37.14246328574372, \"component 1\": 4.758430741328601}, {\"index\": 11113, \"component 0\": -1.372619226471457, \"component 1\": -5.042084551870225}, {\"index\": 11125, \"component 0\": 7.58238926430493, \"component 1\": -10.324969642204564}, {\"index\": 11126, \"component 0\": -2.719181862102888, \"component 1\": -5.092077554586522}, {\"index\": 11130, \"component 0\": 2.2368038094447398, \"component 1\": -4.480128237992312}, {\"index\": 11157, \"component 0\": -14.259722725543787, \"component 1\": -0.24007826343734762}, {\"index\": 11158, \"component 0\": -15.23371889240548, \"component 1\": 1.487379832955159}, {\"index\": 11161, \"component 0\": -10.08370155825079, \"component 1\": 23.739657723519105}, {\"index\": 11162, \"component 0\": -11.874307069373637, \"component 1\": -1.4957428260293004}, {\"index\": 11173, \"component 0\": -7.040395124306528, \"component 1\": 8.798450796462049}, {\"index\": 11176, \"component 0\": -4.201384544259343, \"component 1\": -3.433563660906148}, {\"index\": 11177, \"component 0\": -4.205395680566267, \"component 1\": -3.4281719518925886}, {\"index\": 11194, \"component 0\": -2.9154950506245556, \"component 1\": -2.8395974831843755}, {\"index\": 11231, \"component 0\": 27.036080848264113, \"component 1\": -13.25124541130738}, {\"index\": 11243, \"component 0\": -18.40714397115116, \"component 1\": 1.9051914889763835}, {\"index\": 11287, \"component 0\": 14.106126149530304, \"component 1\": -10.526147465665245}, {\"index\": 11288, \"component 0\": -3.217217298855976, \"component 1\": 8.794622521754695}, {\"index\": 11302, \"component 0\": 13.15671857838437, \"component 1\": 16.598138879465502}, {\"index\": 11318, \"component 0\": 7.013815214215909, \"component 1\": -8.416895111996723}, {\"index\": 11336, \"component 0\": 14.99619765631164, \"component 1\": -9.985356811158322}, {\"index\": 11358, \"component 0\": 5.445205158159016, \"component 1\": -4.410104826027265}, {\"index\": 11361, \"component 0\": 3.529180402579115, \"component 1\": -3.8723830682626783}, {\"index\": 11362, \"component 0\": -13.09799878058088, \"component 1\": 0.24211673337266482}, {\"index\": 11377, \"component 0\": 11.562581167569089, \"component 1\": -9.386508100890898}, {\"index\": 11379, \"component 0\": 0.9630662274980955, \"component 1\": -0.5506865454993655}, {\"index\": 11396, \"component 0\": 52.5546062636431, \"component 1\": -4.893265273046232}, {\"index\": 11404, \"component 0\": -18.683847329874503, \"component 1\": -0.97393402511665}, {\"index\": 11406, \"component 0\": -20.09431203834312, \"component 1\": 0.16009404452464304}, {\"index\": 11410, \"component 0\": -20.551326987227952, \"component 1\": -0.053064978228721915}, {\"index\": 11412, \"component 0\": -20.54731585092103, \"component 1\": -0.05845668724228126}, {\"index\": 11413, \"component 0\": -20.568050985881477, \"component 1\": 0.22896744815073933}, {\"index\": 11414, \"component 0\": -18.341193783312637, \"component 1\": -0.2673245782773418}, {\"index\": 11415, \"component 0\": -16.03611829475904, \"component 1\": 9.30152973142384}, {\"index\": 11417, \"component 0\": -20.288116519336292, \"component 1\": 1.647788126478868}, {\"index\": 11418, \"component 0\": -17.950896928213936, \"component 1\": 0.835566523745596}, {\"index\": 11423, \"component 0\": -21.963607296115427, \"component 1\": 0.48992919822321523}, {\"index\": 11424, \"component 0\": -19.227105290338145, \"component 1\": -0.04048151119359511}, {\"index\": 11425, \"component 0\": -21.96761843242235, \"component 1\": 0.49532090723677435}, {\"index\": 11426, \"component 0\": -21.963607296115427, \"component 1\": 0.48992919822321523}, {\"index\": 11427, \"component 0\": -20.639385599225623, \"component 1\": 0.5025126652583425}, {\"index\": 11428, \"component 0\": -20.62187020867266, \"component 1\": 0.6965844596737711}, {\"index\": 11431, \"component 0\": -20.551326987227952, \"component 1\": -0.053064978228721915}, {\"index\": 11432, \"component 0\": -21.96761843242235, \"component 1\": 0.49532090723677435}, {\"index\": 11437, \"component 0\": -5.012753236403691, \"component 1\": -0.9869030624422539}, {\"index\": 11438, \"component 0\": -20.292127655643217, \"component 1\": 1.6531798354924272}, {\"index\": 11441, \"component 0\": -20.62187020867266, \"component 1\": 0.6965844596737711}, {\"index\": 11442, \"component 0\": -21.963607296115427, \"component 1\": 0.48992919822321523}, {\"index\": 11444, \"component 0\": -17.87336658400161, \"component 1\": 1.9272498826103441}, {\"index\": 11445, \"component 0\": -21.96761843242235, \"component 1\": 0.49532090723677435}, {\"index\": 11446, \"component 0\": -21.963607296115427, \"component 1\": 0.48992919822321523}, {\"index\": 11448, \"component 0\": -21.96761843242235, \"component 1\": 0.49532090723677435}, {\"index\": 11482, \"component 0\": -4.18896500276187, \"component 1\": -3.6046446394157914}, {\"index\": 11486, \"component 0\": -17.275578157293953, \"component 1\": -1.5115364925550272}, {\"index\": 11538, \"component 0\": 17.91764980644644, \"component 1\": -17.445094726975462}, {\"index\": 11548, \"component 0\": -12.135280775974891, \"component 1\": -0.2469704373676752}, {\"index\": 11584, \"component 0\": -6.266084739548139, \"component 1\": -5.284905304956461}, {\"index\": 11586, \"component 0\": 15.62191271968042, \"component 1\": -11.182679814680773}, {\"index\": 11589, \"component 0\": -14.86544724907017, \"component 1\": -2.132597036783607}, {\"index\": 11651, \"component 0\": 14.150012198622232, \"component 1\": 3.22663164864429}, {\"index\": 11657, \"component 0\": -10.409285797676514, \"component 1\": -2.56566892755453}, {\"index\": 11664, \"component 0\": -8.914734914771781, \"component 1\": -0.32970266309022644}, {\"index\": 11666, \"component 0\": -11.540131604805639, \"component 1\": -4.7424285908605395}, {\"index\": 11667, \"component 0\": -16.13316161150468, \"component 1\": -1.9478527200219733}, {\"index\": 11671, \"component 0\": 30.890953095840118, \"component 1\": -1.1597368007875517}, {\"index\": 11683, \"component 0\": 10.09670028311093, \"component 1\": 12.424248604119182}, {\"index\": 11698, \"component 0\": -12.540209330197877, \"component 1\": -0.7827867933424362}, {\"index\": 11700, \"component 0\": -9.414440529478398, \"component 1\": -1.1936748413195593}, {\"index\": 11702, \"component 0\": 29.03382258624943, \"component 1\": 27.449160117590683}, {\"index\": 11708, \"component 0\": -17.25953361206626, \"component 1\": -1.5331033286092641}, {\"index\": 11729, \"component 0\": -8.842654255785375, \"component 1\": -3.472260524153603}, {\"index\": 11732, \"component 0\": -9.359950360941124, \"component 1\": -3.167332954863863}, {\"index\": 11739, \"component 0\": -18.426126016431397, \"component 1\": 0.3665536528453752}, {\"index\": 11748, \"component 0\": 3.6369210601022015, \"component 1\": -4.401232356319519}, {\"index\": 11758, \"component 0\": 17.216541887862242, \"component 1\": -14.317846088568844}, {\"index\": 11779, \"component 0\": 15.269084382502168, \"component 1\": 1.2506115759439838}, {\"index\": 11796, \"component 0\": -13.648843458823189, \"component 1\": 0.685461332908504}, {\"index\": 11798, \"component 0\": -14.76783719581411, \"component 1\": -0.47891280670207104}, {\"index\": 11817, \"component 0\": 3.042334916374176, \"component 1\": -9.099297169784649}, {\"index\": 11836, \"component 0\": -20.89412512501194, \"component 1\": 3.4772944455973183}, {\"index\": 11854, \"component 0\": -2.968812160975822, \"component 1\": -3.427242817210981}, {\"index\": 11856, \"component 0\": 9.433621479655493, \"component 1\": -7.8247306961514935}, {\"index\": 11857, \"component 0\": 3.6374370217242595, \"component 1\": -2.2214207621295046}, {\"index\": 11865, \"component 0\": 7.905739151577445, \"component 1\": -6.398284943887103}, {\"index\": 11887, \"component 0\": 7.399833140052843, \"component 1\": -3.52556631826199}, {\"index\": 11890, \"component 0\": 0.4748126481736872, \"component 1\": -5.066809756503705}, {\"index\": 11896, \"component 0\": 0.5219520362915281, \"component 1\": -6.0987370295529875}, {\"index\": 11916, \"component 0\": -15.316799149063131, \"component 1\": 0.015722091115878856}, {\"index\": 11918, \"component 0\": -21.96761843242235, \"component 1\": 0.49532090723677435}, {\"index\": 11919, \"component 0\": -20.277187103124085, \"component 1\": 1.6363059448215929}, {\"index\": 11923, \"component 0\": -19.07558826189885, \"component 1\": 1.3843285598623598}, {\"index\": 11926, \"component 0\": -15.19004305075154, \"component 1\": 10.511449841369016}, {\"index\": 11935, \"component 0\": -18.683847329874503, \"component 1\": -0.97393402511665}, {\"index\": 11966, \"component 0\": -4.874058987407685, \"component 1\": -2.6512572114905986}, {\"index\": 11981, \"component 0\": 17.537967118093082, \"component 1\": 18.936725158555294}, {\"index\": 11986, \"component 0\": 32.813782927783336, \"component 1\": -8.824635069234224}, {\"index\": 11987, \"component 0\": 9.833373054474427, \"component 1\": -10.967260925411551}, {\"index\": 11989, \"component 0\": 6.227244328426629, \"component 1\": -12.204272968228242}, {\"index\": 12008, \"component 0\": 30.270560125078678, \"component 1\": 1.13864607435124}, {\"index\": 12024, \"component 0\": -0.4063404881317898, \"component 1\": 3.7017124073615184}, {\"index\": 12057, \"component 0\": 9.085508582622273, \"component 1\": -2.2614043183992125}, {\"index\": 12070, \"component 0\": -19.999556622971745, \"component 1\": 1.360600943294591}, {\"index\": 12073, \"component 0\": -21.6143496363608, \"component 1\": 3.0650859007645206}, {\"index\": 12123, \"component 0\": 3.2986117157654284, \"component 1\": -6.027837039390743}, {\"index\": 12140, \"component 0\": 22.24645732553216, \"component 1\": -10.113940987907046}, {\"index\": 12148, \"component 0\": 17.23844545754309, \"component 1\": -14.496205347366766}, {\"index\": 12155, \"component 0\": 64.01841658245931, \"component 1\": 29.59657855703098}, {\"index\": 12159, \"component 0\": 16.666795021772842, \"component 1\": -8.287523342204933}, {\"index\": 12175, \"component 0\": 3.8394444188858383, \"component 1\": -8.309831738912003}, {\"index\": 12178, \"component 0\": 4.5636565438597, \"component 1\": -8.787338575922718}, {\"index\": 12196, \"component 0\": 13.168019173806812, \"component 1\": -14.217097923114263}, {\"index\": 12200, \"component 0\": 12.341450593671919, \"component 1\": -16.015850030992258}, {\"index\": 12201, \"component 0\": -9.832007574749804, \"component 1\": -3.5856098211408107}, {\"index\": 12208, \"component 0\": 20.455778561260765, \"component 1\": -17.14819859809368}, {\"index\": 12213, \"component 0\": 5.1486564034846, \"component 1\": 9.263192628273723}, {\"index\": 12255, \"component 0\": 8.73691661602341, \"component 1\": -7.087453731238222}, {\"index\": 12256, \"component 0\": -15.66730787412098, \"component 1\": 0.6299636025743458}, {\"index\": 12258, \"component 0\": -11.388314576760266, \"component 1\": 2.186806230290971}, {\"index\": 12268, \"component 0\": 12.213107155591771, \"component 1\": -12.952996858492305}, {\"index\": 12273, \"component 0\": -16.716107206159535, \"component 1\": 1.0047789854065465}, {\"index\": 12282, \"component 0\": -5.669998439050436, \"component 1\": -3.7953026558537015}, {\"index\": 12285, \"component 0\": 26.561190635695546, \"component 1\": 0.3877403896331346}, {\"index\": 12301, \"component 0\": 7.509082153522984, \"component 1\": -8.925944957580274}, {\"index\": 12336, \"component 0\": -14.352414966883419, \"component 1\": 0.6295410662529342}, {\"index\": 12351, \"component 0\": 28.050165320144654, \"component 1\": -21.699649908122986}, {\"index\": 12370, \"component 0\": 3.481275903548995, \"component 1\": -7.86174827781716}, {\"index\": 12375, \"component 0\": -13.794785530389728, \"component 1\": 13.58027166659957}, {\"index\": 12385, \"component 0\": 27.837049416100882, \"component 1\": -4.1751915022573085}, {\"index\": 12403, \"component 0\": -2.1062868943430213, \"component 1\": 10.92356186979391}, {\"index\": 12405, \"component 0\": -14.287313612797735, \"component 1\": -3.3103351426403504}, {\"index\": 12423, \"component 0\": -19.14909448660731, \"component 1\": 3.960368891350782}, {\"index\": 12424, \"component 0\": -2.353318793514177, \"component 1\": 19.977918108097178}, {\"index\": 12434, \"component 0\": -16.814795788853264, \"component 1\": -0.8963724601055985}, {\"index\": 12438, \"component 0\": -17.24962799665155, \"component 1\": 3.4058423299628453}, {\"index\": 12455, \"component 0\": -12.569878393614603, \"component 1\": 1.3493519602804684}, {\"index\": 12462, \"component 0\": 17.911204420973338, \"component 1\": -14.766187225799344}, {\"index\": 12510, \"component 0\": -2.0461571096963036, \"component 1\": -3.6275481146100654}, {\"index\": 12520, \"component 0\": 17.51076089514759, \"component 1\": -13.692356943017554}, {\"index\": 12523, \"component 0\": 17.705928138384866, \"component 1\": 4.709994815994395}, {\"index\": 12554, \"component 0\": -0.07191107394898921, \"component 1\": -4.6655567393620005}, {\"index\": 12563, \"component 0\": 42.496136636392045, \"component 1\": -0.8758369575282773}, {\"index\": 12575, \"component 0\": 27.99276618143461, \"component 1\": -18.57240807013683}, {\"index\": 12582, \"component 0\": -1.7239204856393568, \"component 1\": 10.02632820324688}, {\"index\": 12593, \"component 0\": -6.566510333101683, \"component 1\": -2.7212668799965463}, {\"index\": 12595, \"component 0\": -2.0874970644311257, \"component 1\": -5.474016665581201}, {\"index\": 12596, \"component 0\": -7.897119394129151, \"component 1\": -4.448801277972553}, {\"index\": 12610, \"component 0\": -3.323678283817775, \"component 1\": 62.70752498796182}, {\"index\": 12617, \"component 0\": 19.366405919438566, \"component 1\": -11.44757785566211}, {\"index\": 12636, \"component 0\": -19.279129761410665, \"component 1\": 0.8283747657240288}, {\"index\": 12655, \"component 0\": 1.6207027425396965, \"component 1\": 28.09705368230252}, {\"index\": 12664, \"component 0\": -7.850002533022101, \"component 1\": -4.253925415001472}, {\"index\": 12682, \"component 0\": 21.84371258659364, \"component 1\": 3.650919970495798}, {\"index\": 12730, \"component 0\": 15.128891341872905, \"component 1\": -0.11740096785032161}, {\"index\": 12740, \"component 0\": 8.284008814902847, \"component 1\": 6.607845182610822}, {\"index\": 12774, \"component 0\": -8.238858103668608, \"component 1\": -0.7244277730869699}, {\"index\": 12782, \"component 0\": -18.603344164099298, \"component 1\": 4.592100201679032}, {\"index\": 12783, \"component 0\": 8.783409883610128, \"component 1\": 10.808907024634092}, {\"index\": 12785, \"component 0\": 14.975227935803293, \"component 1\": 10.980082355026134}, {\"index\": 12801, \"component 0\": -12.434718694856961, \"component 1\": -2.0012476298975823}, {\"index\": 12802, \"component 0\": 10.785190030657711, \"component 1\": -11.57930044163241}, {\"index\": 12803, \"component 0\": 9.621608853856749, \"component 1\": -8.636989465705351}, {\"index\": 12809, \"component 0\": -6.696767552656811, \"component 1\": -4.2152223869909236}, {\"index\": 12829, \"component 0\": 39.29969271505081, \"component 1\": -11.675859230347424}, {\"index\": 12844, \"component 0\": 1.8333993407212352, \"component 1\": -7.562546524654099}, {\"index\": 12845, \"component 0\": 14.838548959638663, \"component 1\": -11.694070679191348}, {\"index\": 12852, \"component 0\": 38.77259936517166, \"component 1\": 2.545938941291606}, {\"index\": 12855, \"component 0\": 1.0914241409192336, \"component 1\": -3.553550128894961}, {\"index\": 12859, \"component 0\": 9.028506643298748, \"component 1\": 4.668823352955532}, {\"index\": 12870, \"component 0\": -6.583471024017449, \"component 1\": -5.378363052124824}, {\"index\": 12897, \"component 0\": 2.5207752166308453, \"component 1\": -3.785393272147645}, {\"index\": 12949, \"component 0\": -18.568063864264733, \"component 1\": 4.543084574204596}, {\"index\": 12968, \"component 0\": -2.711389052103898, \"component 1\": -0.3211833053724371}, {\"index\": 13033, \"component 0\": -2.414844183170451, \"component 1\": 1.5531540961171468}, {\"index\": 13035, \"component 0\": -10.138948183265734, \"component 1\": -3.8036429338405675}, {\"index\": 13038, \"component 0\": -0.40852139445123115, \"component 1\": -3.413692393457945}, {\"index\": 13072, \"component 0\": -8.95782133397166, \"component 1\": -1.6384071478570776}, {\"index\": 13093, \"component 0\": 26.80991519400883, \"component 1\": 9.064753868079812}, {\"index\": 13106, \"component 0\": 21.213503515808455, \"component 1\": -8.65472058708054}, {\"index\": 13187, \"component 0\": -18.671323789775016, \"component 1\": 1.3677927013161582}, {\"index\": 13190, \"component 0\": 23.583133208327972, \"component 1\": 0.7231600083925853}, {\"index\": 13191, \"component 0\": -21.690645694186827, \"component 1\": 1.1186667923398235}, {\"index\": 13193, \"component 0\": -18.448821561970313, \"component 1\": 2.847979827984602}, {\"index\": 13198, \"component 0\": 70.6914750090156, \"component 1\": 26.081345832112635}, {\"index\": 13237, \"component 0\": 1.2704418999567526, \"component 1\": -3.8651019359984287}, {\"index\": 13251, \"component 0\": 0.11004162431244424, \"component 1\": 4.638042585456728}, {\"index\": 13274, \"component 0\": -4.338059679863197, \"component 1\": -2.078618085549472}, {\"index\": 13275, \"component 0\": 37.26632999482227, \"component 1\": -6.8884954112639445}, {\"index\": 13292, \"component 0\": 11.400409475882444, \"component 1\": -7.3911244317843945}, {\"index\": 13321, \"component 0\": -1.9134240444788073, \"component 1\": 1.8797334865135327}, {\"index\": 13333, \"component 0\": -7.511627515639862, \"component 1\": 6.162182182612645}, {\"index\": 13365, \"component 0\": 3.85673798732265, \"component 1\": -3.0736529070801772}, {\"index\": 13377, \"component 0\": 45.316307641702764, \"component 1\": 8.955928277285928}, {\"index\": 13407, \"component 0\": 13.398275349837876, \"component 1\": -10.869769663684965}, {\"index\": 13453, \"component 0\": -21.411836931859227, \"component 1\": 1.9035951197465268}, {\"index\": 13454, \"component 0\": -18.67533492608194, \"component 1\": 1.3731844103297173}, {\"index\": 13492, \"component 0\": -18.474934723420716, \"component 1\": -1.320600304624959}, {\"index\": 13500, \"component 0\": -20.0826347479303, \"component 1\": 0.74733256072073}, {\"index\": 13501, \"component 0\": -20.0826347479303, \"component 1\": 0.74733256072073}, {\"index\": 13502, \"component 0\": -18.329581836911828, \"component 1\": 1.2196235884470714}, {\"index\": 13559, \"component 0\": -6.385872987830977, \"component 1\": 1.5946706024385822}, {\"index\": 13579, \"component 0\": 38.39462943560706, \"component 1\": 1.7232591132201802}, {\"index\": 13585, \"component 0\": -20.49188422685318, \"component 1\": 4.668106724821044}, {\"index\": 13587, \"component 0\": 9.113207663034856, \"component 1\": -11.12138608208783}, {\"index\": 13593, \"component 0\": -14.838173244240421, \"component 1\": 3.176263186439497}, {\"index\": 13594, \"component 0\": 9.062678369334957, \"component 1\": 21.068693598053436}, {\"index\": 13611, \"component 0\": -18.723168167469318, \"component 1\": 0.0612617932723607}, {\"index\": 13617, \"component 0\": -21.460561468311564, \"component 1\": 0.39313902313156457}, {\"index\": 13621, \"component 0\": 11.956565212240088, \"component 1\": -8.818430274939328}, {\"index\": 13622, \"component 0\": -17.954908064520858, \"component 1\": 0.8409582327591552}, {\"index\": 13623, \"component 0\": 14.45552580088403, \"component 1\": -8.737192887882813}, {\"index\": 13629, \"component 0\": -19.54853523839943, \"component 1\": 0.7403569424040524}, {\"index\": 13632, \"component 0\": -20.639385599225623, \"component 1\": 0.5025126652583425}, {\"index\": 13635, \"component 0\": -18.051009026284518, \"component 1\": 2.4278880379288403}, {\"index\": 13643, \"component 0\": -19.897553413608218, \"component 1\": 2.9426705005773606}, {\"index\": 13644, \"component 0\": -20.499906499467023, \"component 1\": 4.678890142848162}, {\"index\": 13645, \"component 0\": -20.698309223884067, \"component 1\": 0.5597191223223144}, {\"index\": 13649, \"component 0\": -19.897553413608218, \"component 1\": 2.9426705005773606}, {\"index\": 13664, \"component 0\": 5.622518859047066, \"component 1\": -9.00272959958208}, {\"index\": 13669, \"component 0\": -20.54731585092103, \"component 1\": -0.05845668724228126}, {\"index\": 13670, \"component 0\": -19.995545486664824, \"component 1\": 1.3552092342810318}, {\"index\": 13671, \"component 0\": -19.995545486664824, \"component 1\": 1.3552092342810318}, {\"index\": 13673, \"component 0\": -21.264225543973296, \"component 1\": 2.168684626423316}, {\"index\": 13678, \"component 0\": -17.699729073916124, \"component 1\": 2.5944836764114116}, {\"index\": 13679, \"component 0\": -20.362412860990098, \"component 1\": 1.1258585503613905}, {\"index\": 13680, \"component 0\": -20.078623611623378, \"component 1\": 0.7419408517071708}, {\"index\": 13684, \"component 0\": -20.495895363160102, \"component 1\": 4.673498433834602}, {\"index\": 13686, \"component 0\": -19.73380016999648, \"component 1\": 10.773615190312361}, {\"index\": 13692, \"component 0\": 6.528218472419586, \"component 1\": -7.325487487134142}, {\"index\": 13693, \"component 0\": -19.279129761410665, \"component 1\": 0.8283747657240288}, {\"index\": 13696, \"component 0\": -20.555338123534874, \"component 1\": -0.047673269215162795}, {\"index\": 13698, \"component 0\": 9.965501859372033, \"component 1\": -8.997612796658235}, {\"index\": 13699, \"component 0\": -20.639385599225623, \"component 1\": 0.5025126652583425}, {\"index\": 13701, \"component 0\": -20.551326987227952, \"component 1\": -0.053064978228721915}, {\"index\": 13706, \"component 0\": -18.666343302735896, \"component 1\": 0.19894667525523468}, {\"index\": 13707, \"component 0\": -20.078623611623378, \"component 1\": 0.7419408517071708}, {\"index\": 13708, \"component 0\": -20.551326987227952, \"component 1\": -0.053064978228721915}, {\"index\": 13709, \"component 0\": -16.423767412640764, \"component 1\": -1.4268725874219845}, {\"index\": 13710, \"component 0\": -15.931593170290439, \"component 1\": -1.2536821468716524}, {\"index\": 13711, \"component 0\": -20.555338123534874, \"component 1\": -0.047673269215162795}, {\"index\": 13712, \"component 0\": -10.761166766022104, \"component 1\": -4.016757600954394}, {\"index\": 13713, \"component 0\": -21.96761843242235, \"component 1\": 0.49532090723677435}, {\"index\": 13714, \"component 0\": -18.75208847283858, \"component 1\": -0.5710212541339914}, {\"index\": 13715, \"component 0\": -18.67983619356758, \"component 1\": -0.9793257341302093}, {\"index\": 13717, \"component 0\": -20.085716600502842, \"component 1\": 0.37849294383141374}, {\"index\": 13723, \"component 0\": -20.551326987227952, \"component 1\": -0.053064978228721915}, {\"index\": 13726, \"component 0\": -21.963607296115427, \"component 1\": 0.48992919822321523}, {\"index\": 13728, \"component 0\": -20.62187020867266, \"component 1\": 0.6965844596737711}, {\"index\": 13742, \"component 0\": -8.047149076485281, \"component 1\": -4.599808880245803}, {\"index\": 13743, \"component 0\": 14.977750794374483, \"component 1\": -11.42094554835732}, {\"index\": 13747, \"component 0\": 6.7601562477047805, \"component 1\": 15.007670652167096}, {\"index\": 13768, \"component 0\": 33.943741211423145, \"component 1\": 0.07948930551548683}, {\"index\": 13769, \"component 0\": 3.0868105250614826, \"component 1\": -7.37336804636675}, {\"index\": 13783, \"component 0\": -20.06535538856695, \"component 1\": 2.6016921353488405}, {\"index\": 13785, \"component 0\": 12.200871405693688, \"component 1\": -15.15560435500607}, {\"index\": 13792, \"component 0\": -2.082497691359502, \"component 1\": -5.8873681339494475}, {\"index\": 13793, \"component 0\": 8.051750615741513, \"component 1\": -10.703428001088984}, {\"index\": 13794, \"component 0\": -19.485855952431386, \"component 1\": 2.9396919781589412}, {\"index\": 13795, \"component 0\": -20.89412512501194, \"component 1\": 3.4772944455973183}, {\"index\": 13796, \"component 0\": -8.115118864635845, \"component 1\": 12.872753688503753}, {\"index\": 13805, \"component 0\": -15.433149011445659, \"component 1\": 0.9526343305724727}, {\"index\": 13808, \"component 0\": -13.519543688117206, \"component 1\": -1.2695502886843322}, {\"index\": 13818, \"component 0\": 24.83727404037603, \"component 1\": -13.821560649058561}, {\"index\": 13826, \"component 0\": -4.993258725229259, \"component 1\": -3.1543783576714466}, {\"index\": 13827, \"component 0\": 13.126969342746499, \"component 1\": -13.911842892803708}, {\"index\": 13832, \"component 0\": 6.916876844968664, \"component 1\": -7.180553691901249}, {\"index\": 13833, \"component 0\": 5.788645460767054, \"component 1\": -9.331839823946837}, {\"index\": 13839, \"component 0\": 8.59334149538406, \"component 1\": -14.679270719262373}, {\"index\": 13847, \"component 0\": 22.121399565126897, \"component 1\": -1.409617418130705}, {\"index\": 13848, \"component 0\": 13.446708869907447, \"component 1\": 4.028666652143831}, {\"index\": 13864, \"component 0\": -12.9289171710221, \"component 1\": -0.5260157157888118}, {\"index\": 13876, \"component 0\": 11.949932448127337, \"component 1\": -2.207314549885807}, {\"index\": 13877, \"component 0\": 10.671543503059159, \"component 1\": -8.185822623006384}, {\"index\": 13890, \"component 0\": -20.54991252465999, \"component 1\": 3.279130095715366}, {\"index\": 13891, \"component 0\": -18.156831727335213, \"component 1\": 3.4229879569754003}, {\"index\": 13895, \"component 0\": -20.698283965704107, \"component 1\": 3.229751545544654}, {\"index\": 13898, \"component 0\": 7.200486202281646, \"component 1\": -0.854199567410074}, {\"index\": 13902, \"component 0\": 0.16392328102851028, \"component 1\": 42.69298898185343}, {\"index\": 13915, \"component 0\": -11.623745779062924, \"component 1\": -0.1751666175489326}, {\"index\": 13917, \"component 0\": -19.801650873387857, \"component 1\": 1.3652867368102195}, {\"index\": 13919, \"component 0\": -16.846873561739898, \"component 1\": 8.198183709469125}, {\"index\": 13921, \"component 0\": 4.660893688697147, \"component 1\": 13.905712663335542}, {\"index\": 13926, \"component 0\": -20.551326987227952, \"component 1\": -0.053064978228721915}, {\"index\": 13927, \"component 0\": -15.789586348199533, \"component 1\": -0.9481532929108674}, {\"index\": 13928, \"component 0\": -11.39256999100474, \"component 1\": 0.9050128610500312}, {\"index\": 13935, \"component 0\": -20.35037945206933, \"component 1\": 1.109683423320713}, {\"index\": 13936, \"component 0\": -21.963607296115427, \"component 1\": 0.48992919822321523}, {\"index\": 13945, \"component 0\": -18.258840496082378, \"component 1\": 2.3135300739438565}, {\"index\": 13950, \"component 0\": -21.264225543973296, \"component 1\": 2.168684626423316}, {\"index\": 13957, \"component 0\": -18.403132834844236, \"component 1\": 1.8997997799628243}, {\"index\": 13958, \"component 0\": -20.61384793605881, \"component 1\": 0.6858010416466527}, {\"index\": 13959, \"component 0\": -10.882866981095907, \"component 1\": -3.352972201333355}, {\"index\": 13960, \"component 0\": 6.565475031297263, \"component 1\": -10.390002597068246}, {\"index\": 13964, \"component 0\": 3.4924551638593053, \"component 1\": -8.792575097221025}, {\"index\": 13967, \"component 0\": 12.101741187581194, \"component 1\": -8.34146296368974}, {\"index\": 13973, \"component 0\": 3.2208881133946363, \"component 1\": -10.956596160812309}, {\"index\": 13983, \"component 0\": 44.831691027869255, \"component 1\": -12.385281284579333}, {\"index\": 13993, \"component 0\": -6.6939687173881435, \"component 1\": -3.7985544673093012}, {\"index\": 13996, \"component 0\": 16.967727151196588, \"component 1\": -13.245147740956195}, {\"index\": 13997, \"component 0\": -3.875030367796123, \"component 1\": -6.270423506794037}, {\"index\": 13999, \"component 0\": 17.04746867233579, \"component 1\": 3.4282545893441836}, {\"index\": 14002, \"component 0\": 19.886306021789505, \"component 1\": -14.419289267878721}, {\"index\": 14003, \"component 0\": 18.900122195155816, \"component 1\": -19.758500157611707}, {\"index\": 14005, \"component 0\": -17.405563425939384, \"component 1\": -2.042786636600119}, {\"index\": 14006, \"component 0\": 20.682329858568366, \"component 1\": -14.854447948586236}, {\"index\": 14013, \"component 0\": 44.622244452416425, \"component 1\": -14.35923471374988}, {\"index\": 14016, \"component 0\": -11.98373949353339, \"component 1\": -3.7695637561133175}, {\"index\": 14021, \"component 0\": -14.268478485729958, \"component 1\": -0.9066897432658222}, {\"index\": 14025, \"component 0\": 4.473647848072694, \"component 1\": 3.280343948980121}, {\"index\": 14032, \"component 0\": -9.734384541308135, \"component 1\": -3.2197418343985875}, {\"index\": 14037, \"component 0\": -5.271703316479966, \"component 1\": 3.8925331779480805}, {\"index\": 14038, \"component 0\": 20.495828939903237, \"component 1\": 24.105817777261784}, {\"index\": 14039, \"component 0\": 7.844494632741117, \"component 1\": 12.540796388856176}, {\"index\": 14065, \"component 0\": 24.584348557831845, \"component 1\": -17.20134527273167}, {\"index\": 14068, \"component 0\": 2.037614660138029, \"component 1\": -4.406190752712523}, {\"index\": 14070, \"component 0\": 21.354136839068854, \"component 1\": -4.127327934964092}, {\"index\": 14087, \"component 0\": 17.832416483701877, \"component 1\": -2.8684533117091693}, {\"index\": 14124, \"component 0\": 10.34513577677651, \"component 1\": -12.30196319697897}, {\"index\": 14130, \"component 0\": -0.9844493946854538, \"component 1\": -9.292378599668137}, {\"index\": 14132, \"component 0\": 0.22924582207125077, \"component 1\": -10.190554125125233}, {\"index\": 14138, \"component 0\": -18.33359297321875, \"component 1\": 1.2250152974606308}, {\"index\": 14153, \"component 0\": -19.214623211925876, \"component 1\": 4.6297616648394175}, {\"index\": 14156, \"component 0\": -19.14508335030039, \"component 1\": 3.9549771823372226}, {\"index\": 14170, \"component 0\": 22.784560959102446, \"component 1\": -24.600751887494447}, {\"index\": 14172, \"component 0\": 35.85250823331899, \"component 1\": 3.685746952365531}, {\"index\": 14173, \"component 0\": 14.00297287075463, \"component 1\": -15.794223788338652}, {\"index\": 14175, \"component 0\": -7.139735568420969, \"component 1\": 0.8697586701772557}, {\"index\": 14201, \"component 0\": -18.75440191473357, \"component 1\": 0.7545243187422972}, {\"index\": 14202, \"component 0\": -20.078623611623378, \"component 1\": 0.7419408517071708}, {\"index\": 14208, \"component 0\": -19.210612075618954, \"component 1\": 4.624369955825859}, {\"index\": 14210, \"component 0\": -12.2383442353528, \"component 1\": -2.0601250509524087}, {\"index\": 14217, \"component 0\": -18.4699991466139, \"component 1\": 0.3088240490581762}, {\"index\": 14221, \"component 0\": -14.872449875292467, \"component 1\": -0.31906871419508975}, {\"index\": 14233, \"component 0\": -15.366616926307875, \"component 1\": 0.20837660168353933}, {\"index\": 14235, \"component 0\": -10.466760979430806, \"component 1\": -2.8522114908884815}, {\"index\": 14240, \"component 0\": -21.264225543973296, \"component 1\": 2.168684626423316}, {\"index\": 14243, \"component 0\": 20.03478747397015, \"component 1\": 0.39885529637671135}, {\"index\": 14244, \"component 0\": 5.281287541972277, \"component 1\": -9.645571083674126}, {\"index\": 14245, \"component 0\": -9.565867457469688, \"component 1\": -3.9493813581104997}, {\"index\": 14271, \"component 0\": 1.8605779761287824, \"component 1\": -8.36055587174261}, {\"index\": 14272, \"component 0\": -3.836125213177956, \"component 1\": -3.3096437002987225}, {\"index\": 14275, \"component 0\": -6.049768219245078, \"component 1\": -7.962315905653304}, {\"index\": 14285, \"component 0\": 7.672115589374562, \"component 1\": -13.264485138910189}, {\"index\": 14290, \"component 0\": -16.357504907101934, \"component 1\": 0.9373898316687161}, {\"index\": 14294, \"component 0\": 16.587456477224382, \"component 1\": -15.494747536849083}, {\"index\": 14310, \"component 0\": 55.51071224848912, \"component 1\": -6.785839083141104}, {\"index\": 14313, \"component 0\": 7.680514715260928, \"component 1\": -10.906512493570556}, {\"index\": 14323, \"component 0\": -18.378945343125583, \"component 1\": -0.5887504061556961}, {\"index\": 14324, \"component 0\": 9.951422361807763, \"component 1\": 7.767389828156713}, {\"index\": 14325, \"component 0\": 12.677316737376223, \"component 1\": -0.6136544661848613}, {\"index\": 14328, \"component 0\": 57.56525313774084, \"component 1\": 12.564485445658063}, {\"index\": 14350, \"component 0\": -8.065032171782637, \"component 1\": -4.82315020477307}, {\"index\": 14351, \"component 0\": 1.092787859264262, \"component 1\": 5.901287153066064}, {\"index\": 14354, \"component 0\": -4.61664453329205, \"component 1\": -6.4725160760264915}, {\"index\": 14366, \"component 0\": 26.091695395129406, \"component 1\": -22.793674019910696}, {\"index\": 14378, \"component 0\": 13.075677232377307, \"component 1\": 0.4677903018518892}, {\"index\": 14390, \"component 0\": -19.58151042798878, \"component 1\": 0.6814713408993074}, {\"index\": 14408, \"component 0\": -19.227105290338145, \"component 1\": -0.04048151119359511}, {\"index\": 14416, \"component 0\": -9.905310646793925, \"component 1\": -1.6277040540707626}, {\"index\": 14423, \"component 0\": -10.553015531370159, \"component 1\": -1.4374890078529536}, {\"index\": 14435, \"component 0\": -20.639385599225623, \"component 1\": 0.5025126652583425}, {\"index\": 14438, \"component 0\": 34.03539300533786, \"component 1\": -20.23984263565073}, {\"index\": 14439, \"component 0\": 12.302815442029747, \"component 1\": -9.869332003338858}, {\"index\": 14480, \"component 0\": -5.922965540997517, \"component 1\": -3.69971990805603}, {\"index\": 14487, \"component 0\": -16.59465607422001, \"component 1\": 1.2137483682476058}, {\"index\": 14499, \"component 0\": 12.355889940864406, \"component 1\": -8.70488427544655}, {\"index\": 14521, \"component 0\": 13.072281206936644, \"component 1\": -12.795094136213418}, {\"index\": 14540, \"component 0\": 9.848641198582364, \"component 1\": -10.960079380517897}, {\"index\": 14576, \"component 0\": -10.47070830913152, \"component 1\": -1.8045910546915631}, {\"index\": 14589, \"component 0\": 39.715706202787025, \"component 1\": -10.467342326803704}, {\"index\": 14591, \"component 0\": -1.3845819142649554, \"component 1\": -3.2399281532285578}, {\"index\": 14597, \"component 0\": 9.254622157334008, \"component 1\": -5.20747132597134}, {\"index\": 14600, \"component 0\": -17.02241079322041, \"component 1\": -0.375635166616089}, {\"index\": 14602, \"component 0\": -10.703325528121383, \"component 1\": 1.1494964849552218}, {\"index\": 14610, \"component 0\": -17.754968272476198, \"component 1\": -0.7410679931643802}, {\"index\": 14618, \"component 0\": 11.51230119014422, \"component 1\": -7.775218786648427}, {\"index\": 14619, \"component 0\": 11.360388568163204, \"component 1\": -14.029441507179499}, {\"index\": 14622, \"component 0\": 32.05618094287503, \"component 1\": -20.756064478980548}, {\"index\": 14628, \"component 0\": 8.261020115650435, \"component 1\": -7.815403823990277}, {\"index\": 14631, \"component 0\": 18.335095279963813, \"component 1\": -12.048026892233345}, {\"index\": 14638, \"component 0\": 24.992207294293664, \"component 1\": -8.275189515561717}, {\"index\": 14650, \"component 0\": -16.575773419555627, \"component 1\": -1.994820497574442}, {\"index\": 14677, \"component 0\": -16.995260926400476, \"component 1\": -2.027422378255479}, {\"index\": 14686, \"component 0\": 9.837979317797503, \"component 1\": 8.539382023863935}, {\"index\": 14696, \"component 0\": 19.013156007267494, \"component 1\": -12.996477039566498}, {\"index\": 14701, \"component 0\": 25.716741047990126, \"component 1\": -3.255135458749919}, {\"index\": 14711, \"component 0\": 3.5461078495137888, \"component 1\": 14.410445538363913}, {\"index\": 14713, \"component 0\": -16.56939061163746, \"component 1\": 1.2064995677756172}, {\"index\": 14722, \"component 0\": -15.776474284759356, \"component 1\": 1.520105514522529}, {\"index\": 14725, \"component 0\": -11.639801729774028, \"component 1\": -2.9133770451160466}, {\"index\": 14733, \"component 0\": -6.42021380414374, \"component 1\": 16.25742466627067}, {\"index\": 14736, \"component 0\": 83.1979468408542, \"component 1\": 84.28939457310844}, {\"index\": 14745, \"component 0\": -11.211650107433453, \"component 1\": -2.0401996753840947}, {\"index\": 14747, \"component 0\": -21.407825795552306, \"component 1\": 1.8982034107329677}, {\"index\": 14753, \"component 0\": -13.258520955134335, \"component 1\": 3.3599806403113335}, {\"index\": 14771, \"component 0\": 2.38049576114695, \"component 1\": -8.228475338702566}, {\"index\": 14781, \"component 0\": -12.220472551269165, \"component 1\": 1.6993683113368194}, {\"index\": 14802, \"component 0\": -18.33359297321875, \"component 1\": 1.2250152974606308}, {\"index\": 14806, \"component 0\": 8.692421687583515, \"component 1\": 47.110783098492945}, {\"index\": 14808, \"component 0\": -18.753076445493427, \"component 1\": -1.0123436415418336}, {\"index\": 14829, \"component 0\": 1.9375736924253077, \"component 1\": -0.8534289273382597}, {\"index\": 14836, \"component 0\": -2.0555127980496684, \"component 1\": 15.761279378066652}, {\"index\": 14879, \"component 0\": 15.869208551401602, \"component 1\": -17.675250532566615}, {\"index\": 14887, \"component 0\": 2.3969329162541113, \"component 1\": -6.2688995671665815}, {\"index\": 14892, \"component 0\": -16.8277957986358, \"component 1\": -0.6971573256240511}, {\"index\": 14893, \"component 0\": 52.44919837448497, \"component 1\": -43.24788352878473}, {\"index\": 14896, \"component 0\": 50.66484949084382, \"component 1\": -35.82677997743215}, {\"index\": 14905, \"component 0\": 11.394797033209754, \"component 1\": -9.138339778711746}, {\"index\": 14907, \"component 0\": 5.40133221661907, \"component 1\": -10.446809850148707}, {\"index\": 14919, \"component 0\": 6.776442183477458, \"component 1\": -8.762060361241375}, {\"index\": 14925, \"component 0\": 31.271331433956803, \"component 1\": -8.388059692883704}, {\"index\": 14931, \"component 0\": -8.390785019142662, \"component 1\": 7.866513418347175}, {\"index\": 14943, \"component 0\": 0.9899757396889184, \"component 1\": -5.820986128955882}, {\"index\": 14948, \"component 0\": 11.963260403605894, \"component 1\": -8.875437676906628}, {\"index\": 14949, \"component 0\": 9.674837116838175, \"component 1\": -4.100206804727047}, {\"index\": 14958, \"component 0\": 22.87536747076744, \"component 1\": -19.146472708389624}, {\"index\": 14961, \"component 0\": 10.346076017370237, \"component 1\": -6.962077219496571}, {\"index\": 14968, \"component 0\": 14.132853161386528, \"component 1\": -14.917285325794511}, {\"index\": 14974, \"component 0\": -10.383769346458337, \"component 1\": -4.257525854227355}, {\"index\": 14978, \"component 0\": -17.347884615484837, \"component 1\": -0.7052962614061571}, {\"index\": 14982, \"component 0\": -16.504574604808425, \"component 1\": 0.0206027535955029}, {\"index\": 14989, \"component 0\": -21.971629568729274, \"component 1\": 0.5007126162503337}, {\"index\": 14990, \"component 0\": -21.34559266731557, \"component 1\": -0.18058707760678128}, {\"index\": 15003, \"component 0\": -19.018782052618047, \"component 1\": 4.382218764786753}, {\"index\": 15005, \"component 0\": -17.952993553593494, \"component 1\": 0.4946292156732759}, {\"index\": 15010, \"component 0\": -21.96761843242235, \"component 1\": 0.49532090723677435}, {\"index\": 15012, \"component 0\": -16.638930473262945, \"component 1\": 1.8812840502778103}, {\"index\": 15019, \"component 0\": -18.953278585479445, \"component 1\": 1.0427935680757745}, {\"index\": 15024, \"component 0\": -2.284802347949675, \"component 1\": -3.5760700243437045}, {\"index\": 15029, \"component 0\": -12.176127579633484, \"component 1\": 0.3288184806153074}, {\"index\": 15043, \"component 0\": -15.473560196003568, \"component 1\": -2.0688101461720736}, {\"index\": 15045, \"component 0\": -8.891707601627392, \"component 1\": -3.75006509637444}, {\"index\": 15047, \"component 0\": -15.473560196003568, \"component 1\": -2.0688101461720736}, {\"index\": 15057, \"component 0\": 34.497024700119354, \"component 1\": 10.795097669994654}, {\"index\": 15077, \"component 0\": 46.894528473301314, \"component 1\": 36.304939189205854}, {\"index\": 15080, \"component 0\": 7.3841942356572385, \"component 1\": -7.980902563436386}, {\"index\": 15088, \"component 0\": -20.01628062162527, \"component 1\": 1.6426333696740516}, {\"index\": 15090, \"component 0\": 2.028018989239721, \"component 1\": 8.555199030362468}, {\"index\": 15097, \"component 0\": 11.62562617001508, \"component 1\": -7.479528129108804}, {\"index\": 15099, \"component 0\": 12.699260782399952, \"component 1\": 17.87523094264144}, {\"index\": 15106, \"component 0\": -19.897553413608218, \"component 1\": 2.9426705005773606}, {\"index\": 15116, \"component 0\": -16.910163213768456, \"component 1\": 0.1912143635973389}, {\"index\": 15117, \"component 0\": -20.555338123534874, \"component 1\": -0.047673269215162795}, {\"index\": 15123, \"component 0\": -0.17879022800009903, \"component 1\": -4.846741282372909}, {\"index\": 15125, \"component 0\": 10.227608526653, \"component 1\": -11.23443629183324}, {\"index\": 15133, \"component 0\": -19.02279318892497, \"component 1\": 4.387610473800311}, {\"index\": 15139, \"component 0\": 12.417799408076977, \"component 1\": -16.336610150959892}, {\"index\": 15140, \"component 0\": 24.001146404023725, \"component 1\": -15.023903629596038}, {\"index\": 15169, \"component 0\": 30.33504198197391, \"component 1\": -1.723651885123322}, {\"index\": 15204, \"component 0\": -21.963607296115427, \"component 1\": 0.48992919822321523}, {\"index\": 15205, \"component 0\": -19.548376901262248, \"component 1\": 3.6785579980343166}, {\"index\": 15213, \"component 0\": -21.96761843242235, \"component 1\": 0.49532090723677435}, {\"index\": 15223, \"component 0\": 13.315712670889656, \"component 1\": -17.241010869473385}, {\"index\": 15234, \"component 0\": 10.634003612034599, \"component 1\": -12.89563737267023}, {\"index\": 15235, \"component 0\": -12.917400959027297, \"component 1\": 6.7010185968585665}, {\"index\": 15236, \"component 0\": 11.681172943020663, \"component 1\": -12.459326583500989}, {\"index\": 15238, \"component 0\": -17.758979408783123, \"component 1\": -0.7356762841508209}, {\"index\": 15248, \"component 0\": -21.971629568729274, \"component 1\": 0.5007126162503337}, {\"index\": 15260, \"component 0\": -9.255687228006645, \"component 1\": -0.18038181531550512}, {\"index\": 15261, \"component 0\": -15.303623759945886, \"component 1\": 0.046171056267795496}, {\"index\": 15262, \"component 0\": 28.95545899667147, \"component 1\": 8.79031408092321}, {\"index\": 15263, \"component 0\": -1.320390131640191, \"component 1\": -4.541168478729483}, {\"index\": 15275, \"component 0\": -21.96761843242235, \"component 1\": 0.49532090723677435}, {\"index\": 15294, \"component 0\": -13.44885149298819, \"component 1\": 1.357742356781749}, {\"index\": 15299, \"component 0\": 1.9877877982229923, \"component 1\": -8.033952410241845}, {\"index\": 15311, \"component 0\": -13.613107138280556, \"component 1\": -1.1978976770247858}, {\"index\": 15331, \"component 0\": -19.018782052618047, \"component 1\": 4.382218764786753}, {\"index\": 15333, \"component 0\": -21.411836931859227, \"component 1\": 1.9035951197465268}, {\"index\": 15338, \"component 0\": -20.61384793605881, \"component 1\": 0.6858010416466527}, {\"index\": 15341, \"component 0\": -20.5720621221884, \"component 1\": 0.23435915716429845}, {\"index\": 15342, \"component 0\": -15.356376908315186, \"component 1\": -1.6811260771712808}, {\"index\": 15344, \"component 0\": -2.37020716979922, \"component 1\": -4.220216283001887}, {\"index\": 15362, \"component 0\": 0.24977002984321084, \"component 1\": 0.1498630032174364}, {\"index\": 15363, \"component 0\": -18.66515035259981, \"component 1\": 4.631796019169098}, {\"index\": 15371, \"component 0\": -6.969237887415029, \"component 1\": -4.311016074191928}, {\"index\": 15376, \"component 0\": -15.502278590650864, \"component 1\": -0.7915424418871416}, {\"index\": 15378, \"component 0\": -16.466773805281882, \"component 1\": 1.97737292816055}, {\"index\": 15389, \"component 0\": -16.818034750408017, \"component 1\": 2.1220204050221194}, {\"index\": 15395, \"component 0\": 2.753894795064359, \"component 1\": -9.499965343336912}, {\"index\": 15406, \"component 0\": 17.828040093004898, \"component 1\": -1.6987146235446158}, {\"index\": 15431, \"component 0\": 35.10543902862978, \"component 1\": 2.3475469247397975}, {\"index\": 15439, \"component 0\": 6.491395186000091, \"component 1\": -6.593506836167355}, {\"index\": 15441, \"component 0\": -6.500131273688976, \"component 1\": -5.802889654760905}, {\"index\": 15468, \"component 0\": 10.01966476700951, \"component 1\": -6.9147776837295485}, {\"index\": 15477, \"component 0\": -18.426573344106338, \"component 1\": 0.18573603185792908}, {\"index\": 15487, \"component 0\": -7.097227378037555, \"component 1\": 10.880139458331534}, {\"index\": 15505, \"component 0\": -20.617859072365736, \"component 1\": 0.691192750660212}, {\"index\": 15511, \"component 0\": -18.368463383571154, \"component 1\": 5.9540608457666595}, {\"index\": 15535, \"component 0\": -17.75794378618511, \"component 1\": -0.2290179051742799}, {\"index\": 15547, \"component 0\": 0.11372601004195726, \"component 1\": -4.999888349434455}, {\"index\": 15548, \"component 0\": -8.644787381998604, \"component 1\": -1.7019244757237937}, {\"index\": 15553, \"component 0\": -21.407825795552306, \"component 1\": 1.8982034107329677}, {\"index\": 15561, \"component 0\": 3.5889891809852617, \"component 1\": -8.45884715260889}, {\"index\": 15562, \"component 0\": 1.3103012193981076, \"component 1\": 2.497824758808435}, {\"index\": 15564, \"component 0\": -2.7056226200257343, \"component 1\": -4.669687109557629}, {\"index\": 15569, \"component 0\": 12.504960941962594, \"component 1\": -10.715269372836392}, {\"index\": 15578, \"component 0\": -19.222645484539726, \"component 1\": 4.640545082866536}, {\"index\": 15586, \"component 0\": -16.369538316022705, \"component 1\": 0.953564958709394}, {\"index\": 15587, \"component 0\": -16.43907817764819, \"component 1\": 1.6283494412115869}, {\"index\": 15592, \"component 0\": -18.33760410952567, \"component 1\": 1.2304070064741899}, {\"index\": 15593, \"component 0\": 12.797741328833471, \"component 1\": -11.438208340255615}, {\"index\": 15594, \"component 0\": -19.801650873387857, \"component 1\": 1.3652867368102195}, {\"index\": 15598, \"component 0\": 31.439815484417476, \"component 1\": -9.526302821784267}, {\"index\": 15602, \"component 0\": -4.988919538189253, \"component 1\": -6.682971354943351}, {\"index\": 15614, \"component 0\": -19.2186343482328, \"component 1\": 4.635153373852978}, {\"index\": 15641, \"component 0\": -15.650043761755901, \"component 1\": -0.43766979117707583}, {\"index\": 15642, \"component 0\": -16.941714019711583, \"component 1\": 3.9033389774635725}, {\"index\": 15645, \"component 0\": -20.555338123534874, \"component 1\": -0.047673269215162795}, {\"index\": 15646, \"component 0\": -2.2819751635149563, \"component 1\": 5.69852054393302}, {\"index\": 15647, \"component 0\": -8.347153710853735, \"component 1\": -3.72944650572481}, {\"index\": 15654, \"component 0\": -7.164753566026275, \"component 1\": -2.61010865766409}, {\"index\": 15660, \"component 0\": -5.714815084262661, \"component 1\": 5.121998392042255}, {\"index\": 15672, \"component 0\": -21.971629568729274, \"component 1\": 0.5007126162503337}, {\"index\": 15678, \"component 0\": -20.0826347479303, \"component 1\": 0.74733256072073}, {\"index\": 15679, \"component 0\": -20.0826347479303, \"component 1\": 0.74733256072073}, {\"index\": 15687, \"component 0\": 10.602448923000972, \"component 1\": 4.649086025718341}, {\"index\": 15700, \"component 0\": 0.36157054241779196, \"component 1\": -3.319814085544945}, {\"index\": 15707, \"component 0\": 19.937353499250957, \"component 1\": -19.645036247933902}, {\"index\": 15709, \"component 0\": -21.959596159808505, \"component 1\": 0.4845374892096559}, {\"index\": 15756, \"component 0\": -8.293044037018237, \"component 1\": -1.479252448575337}, {\"index\": 15767, \"component 0\": 44.12947881713941, \"component 1\": -7.603087298930733}, {\"index\": 15790, \"component 0\": -8.10038931431688, \"component 1\": -2.052496274439096}, {\"index\": 15792, \"component 0\": 39.04617754917495, \"component 1\": 35.48033597435251}, {\"index\": 15800, \"component 0\": 6.29632660793376, \"component 1\": -4.404902356716439}, {\"index\": 15801, \"component 0\": -12.319920337154747, \"component 1\": 1.7645505607236474}, {\"index\": 15814, \"component 0\": 13.710918137394668, \"component 1\": -7.064359521498549}, {\"index\": 15816, \"component 0\": -3.820137658934079, \"component 1\": -5.695533808794982}, {\"index\": 15818, \"component 0\": 4.612811396772767, \"component 1\": -8.024167883547852}, {\"index\": 15824, \"component 0\": -5.29827161451221, \"component 1\": 0.42194739830780115}, {\"index\": 15827, \"component 0\": -1.485283616601068, \"component 1\": -3.415752864680828}, {\"index\": 15828, \"component 0\": -0.9881528105107122, \"component 1\": -2.7500066382868757}, {\"index\": 15842, \"component 0\": -3.3847623674720815, \"component 1\": -4.605933289054972}, {\"index\": 15847, \"component 0\": -19.999556622971745, \"component 1\": 1.360600943294591}, {\"index\": 15859, \"component 0\": 35.43662778623023, \"component 1\": -0.11657883206967434}, {\"index\": 15864, \"component 0\": -1.407695556468275, \"component 1\": -8.572334970853099}, {\"index\": 15927, \"component 0\": -18.33760410952567, \"component 1\": 1.2304070064741899}, {\"index\": 15931, \"component 0\": -7.7104804690226505, \"component 1\": -1.342376119326935}, {\"index\": 15940, \"component 0\": -6.66856621600218, \"component 1\": -3.2794200374510867}, {\"index\": 15949, \"component 0\": -15.402173858492523, \"component 1\": -1.224292483675366}, {\"index\": 15950, \"component 0\": 22.462704763520918, \"component 1\": -13.70156009770591}, {\"index\": 15967, \"component 0\": -14.536008798373656, \"component 1\": 1.138834475444419}, {\"index\": 15973, \"component 0\": -3.1853609322331504, \"component 1\": -2.5968925021737927}, {\"index\": 15979, \"component 0\": -4.97655809106996, \"component 1\": -2.695096638181428}, {\"index\": 15985, \"component 0\": -11.227143247175796, \"component 1\": -1.1715547941569653}, {\"index\": 15986, \"component 0\": 13.199246001608667, \"component 1\": -14.564552089051325}, {\"index\": 15997, \"component 0\": -1.5428197578373508, \"component 1\": -2.8926143249151584}, {\"index\": 16014, \"component 0\": 24.17377447507786, \"component 1\": 12.78194182205882}, {\"index\": 16017, \"component 0\": 16.238761941010836, \"component 1\": 65.29934648882423}, {\"index\": 16018, \"component 0\": -5.20523953104315, \"component 1\": 5.710546600905755}, {\"index\": 16025, \"component 0\": -8.59024105061105, \"component 1\": -0.8661498107629236}, {\"index\": 16067, \"component 0\": 27.596675107362994, \"component 1\": -15.083646966405219}, {\"index\": 16076, \"component 0\": 44.840314970545265, \"component 1\": -0.411220265978113}, {\"index\": 16094, \"component 0\": 11.111242743223855, \"component 1\": 18.50686152127584}, {\"index\": 16096, \"component 0\": 25.546229875653317, \"component 1\": 7.749379792016802}, {\"index\": 16108, \"component 0\": 19.953663687619652, \"component 1\": -14.804954777854348}, {\"index\": 16131, \"component 0\": -0.7694200788240275, \"component 1\": 38.9636142179737}, {\"index\": 16142, \"component 0\": -13.508551817571776, \"component 1\": -2.979226607023837}, {\"index\": 16160, \"component 0\": 30.412021033541194, \"component 1\": 8.825316072990613}, {\"index\": 16168, \"component 0\": -16.638930473262945, \"component 1\": 1.8812840502778103}, {\"index\": 16186, \"component 0\": 0.5750209561765716, \"component 1\": -6.024242080843099}, {\"index\": 16198, \"component 0\": -9.645749839453087, \"component 1\": 0.45093069189089885}, {\"index\": 16201, \"component 0\": -9.664693995376506, \"component 1\": -0.7320957833664201}, {\"index\": 16202, \"component 0\": 0.6454016329735639, \"component 1\": -3.6505342655426}, {\"index\": 16215, \"component 0\": -16.57340174794438, \"component 1\": 1.2118912767891763}, {\"index\": 16217, \"component 0\": -17.013382412635863, \"component 1\": 1.2429904735093162}, {\"index\": 16224, \"component 0\": 17.011504440987956, \"component 1\": -16.60395998002314}, {\"index\": 16232, \"component 0\": -16.62134750993619, \"component 1\": 0.3367120001101749}, {\"index\": 16250, \"component 0\": -9.328145577589137, \"component 1\": -0.3559013652057118}, {\"index\": 16311, \"component 0\": -3.4169023824198494, \"component 1\": -2.1836420662281206}, {\"index\": 16328, \"component 0\": -4.092792602318781, \"component 1\": -1.2017470441714873}, {\"index\": 16340, \"component 0\": -12.060425050117303, \"component 1\": -1.4993088068045135}, {\"index\": 16344, \"component 0\": -3.5148776239926733, \"component 1\": -2.9057947234707715}, {\"index\": 16350, \"component 0\": -19.44156448546075, \"component 1\": 1.2400928647855658}, {\"index\": 16364, \"component 0\": 11.86770092115163, \"component 1\": -13.005930505960936}, {\"index\": 16388, \"component 0\": 3.3652288691487144, \"component 1\": 1.9502513711312037}, {\"index\": 16392, \"component 0\": -0.09489592795982216, \"component 1\": -4.000996171371103}, {\"index\": 16398, \"component 0\": -6.79638439973444, \"component 1\": -2.3595722033828523}, {\"index\": 16407, \"component 0\": 30.609362706736807, \"component 1\": -15.92647160845503}, {\"index\": 16437, \"component 0\": 5.5033010683767705, \"component 1\": -4.2385398107917}, {\"index\": 16438, \"component 0\": 6.8846053451863245, \"component 1\": -1.0765397198151962}, {\"index\": 16459, \"component 0\": -1.664245384391743, \"component 1\": -5.821204971575696}, {\"index\": 16466, \"component 0\": 7.927905996058481, \"component 1\": 9.300565318194737}, {\"index\": 16467, \"component 0\": -4.635962067421611, \"component 1\": 10.916494324246738}, {\"index\": 16478, \"component 0\": -20.0826347479303, \"component 1\": 0.74733256072073}, {\"index\": 16492, \"component 0\": 8.880625649262626, \"component 1\": -11.300236897914719}, {\"index\": 16496, \"component 0\": -10.480061162697812, \"component 1\": 2.2806474082038477}, {\"index\": 16563, \"component 0\": -3.5361228793131554, \"component 1\": -3.2375161535036043}, {\"index\": 16590, \"component 0\": -12.20851825656636, \"component 1\": -1.4452388689472442}, {\"index\": 16593, \"component 0\": 24.38968198788003, \"component 1\": 0.765373340998692}, {\"index\": 16601, \"component 0\": -3.3484922018153274, \"component 1\": -4.755395888698256}, {\"index\": 16616, \"component 0\": -20.98872329514395, \"component 1\": 1.9483502097239291}, {\"index\": 16631, \"component 0\": 62.27875070749933, \"component 1\": 58.2584559010691}, {\"index\": 16639, \"component 0\": -17.338110469539167, \"component 1\": 0.20613843327680215}, {\"index\": 16668, \"component 0\": -12.230531704319173, \"component 1\": 0.013642626719786222}, {\"index\": 16671, \"component 0\": 1.9155590138516017, \"component 1\": -5.062065220132391}, {\"index\": 16690, \"component 0\": 10.880661639919742, \"component 1\": 91.70631270415046}, {\"index\": 16721, \"component 0\": -1.7244148052593469, \"component 1\": 0.07291747718540997}, {\"index\": 16732, \"component 0\": 13.273179628137719, \"component 1\": -5.1610672970458}, {\"index\": 16749, \"component 0\": 26.066976241218843, \"component 1\": -13.36879602810334}, {\"index\": 16774, \"component 0\": 20.275051598663147, \"component 1\": 39.92082086712716}, {\"index\": 16789, \"component 0\": -9.844019332225699, \"component 1\": -3.2295808370069037}, {\"index\": 16792, \"component 0\": -18.89836609712792, \"component 1\": 0.9909788200253611}, {\"index\": 16812, \"component 0\": -7.104553395403144, \"component 1\": -2.1741158638954268}, {\"index\": 16836, \"component 0\": 15.341511111125921, \"component 1\": 11.515133448616666}, {\"index\": 16838, \"component 0\": -20.074612475316457, \"component 1\": 0.7365491426936115}, {\"index\": 16888, \"component 0\": -13.1862233040132, \"component 1\": -0.566170505913147}, {\"index\": 16907, \"component 0\": -17.581292928420698, \"component 1\": 11.091651249341929}, {\"index\": 16910, \"component 0\": 6.2732831109647105, \"component 1\": -2.3023789687344722}, {\"index\": 16928, \"component 0\": 62.1177474845947, \"component 1\": 11.01051750695478}, {\"index\": 16964, \"component 0\": 4.513085144609271, \"component 1\": -3.8661812769930735}, {\"index\": 16974, \"component 0\": 5.52321189485566, \"component 1\": -7.283685819668588}, {\"index\": 16979, \"component 0\": -19.026804325231893, \"component 1\": 4.393002182813871}, {\"index\": 17002, \"component 0\": 1.6731794165368943, \"component 1\": -8.165994634802932}, {\"index\": 17003, \"component 0\": 27.120093156975727, \"component 1\": -9.403460589787809}, {\"index\": 17006, \"component 0\": 14.01584711160632, \"component 1\": -15.847861920058664}, {\"index\": 17022, \"component 0\": -20.625881344979582, \"component 1\": 0.7019761686873305}, {\"index\": 17050, \"component 0\": -3.1398047388567534, \"component 1\": -2.5520411714639883}, {\"index\": 17051, \"component 0\": 0.8492832426160684, \"component 1\": -4.223341146071981}, {\"index\": 17075, \"component 0\": -7.054347846138661, \"component 1\": -0.012361936959160214}, {\"index\": 17076, \"component 0\": 44.41144222588966, \"component 1\": 8.17915126744246}, {\"index\": 17090, \"component 0\": 20.04423909336512, \"component 1\": -15.065393361671905}, {\"index\": 17091, \"component 0\": 1.3822558120695185, \"component 1\": -7.33968439421988}, {\"index\": 17111, \"component 0\": -14.992960393559116, \"component 1\": 0.6890609332011837}, {\"index\": 17128, \"component 0\": -1.2497353887818416, \"component 1\": -4.307894365537557}, {\"index\": 17157, \"component 0\": -5.975127159025638, \"component 1\": -2.7507510693715664}, {\"index\": 17169, \"component 0\": -20.079592962355576, \"component 1\": 1.9053951687545347}, {\"index\": 17174, \"component 0\": -10.745970422638232, \"component 1\": -1.7294747855743546}, {\"index\": 17185, \"component 0\": -21.37974784140384, \"component 1\": 1.8604614476380532}, {\"index\": 17186, \"component 0\": 14.423689192540689, \"component 1\": -6.196390677261346}, {\"index\": 17200, \"component 0\": 11.732062095458687, \"component 1\": -5.95992648033195}, {\"index\": 17206, \"component 0\": 35.84990446298377, \"component 1\": 16.62529734757194}, {\"index\": 17209, \"component 0\": -2.703995089268432, \"component 1\": 10.51568583287376}, {\"index\": 17217, \"component 0\": -1.2080736740683715, \"component 1\": -3.695230390155263}, {\"index\": 17218, \"component 0\": 16.78254565316766, \"component 1\": -2.8525689382491537}, {\"index\": 17235, \"component 0\": -16.65543595452755, \"component 1\": 1.096490469899869}, {\"index\": 17236, \"component 0\": -17.345553026121785, \"component 1\": 0.7809666432087872}, {\"index\": 17248, \"component 0\": 12.31121679400327, \"component 1\": -7.111684562617988}, {\"index\": 17256, \"component 0\": -9.352480365319748, \"component 1\": -4.693120870790951}, {\"index\": 17261, \"component 0\": -3.489076606787589, \"component 1\": -0.9023644980313942}, {\"index\": 17280, \"component 0\": 1.7513680972166483, \"component 1\": 11.219976594004805}, {\"index\": 17284, \"component 0\": -18.431974073823177, \"component 1\": 1.2236617182371605}, {\"index\": 17285, \"component 0\": 0.6276493441725202, \"component 1\": -8.13769566690117}, {\"index\": 17288, \"component 0\": 4.5391139240006515, \"component 1\": -6.409590072591544}, {\"index\": 17299, \"component 0\": 0.06517564549255539, \"component 1\": -4.223602459173905}, {\"index\": 17300, \"component 0\": 2.716258323568151, \"component 1\": -7.005476655201557}, {\"index\": 17308, \"component 0\": -4.510011404537125, \"component 1\": -4.9791458462921945}, {\"index\": 17310, \"component 0\": -9.985780663109361, \"component 1\": -4.552981594953417}, {\"index\": 17320, \"component 0\": -17.93548970077318, \"component 1\": 1.4137409559438672}, {\"index\": 17321, \"component 0\": -8.688278886524355, \"component 1\": 13.168758746094111}, {\"index\": 17349, \"component 0\": -15.442801600749572, \"component 1\": -0.13565803624384498}, {\"index\": 17362, \"component 0\": -7.348630766309275, \"component 1\": 0.3660872966757833}, {\"index\": 17364, \"component 0\": 19.517445394185916, \"component 1\": -14.615807412439752}, {\"index\": 17380, \"component 0\": 48.868564464207026, \"component 1\": -19.45407740056251}, {\"index\": 17394, \"component 0\": -0.06447522840199316, \"component 1\": -5.441457048917072}, {\"index\": 17409, \"component 0\": 13.232716613221205, \"component 1\": -11.02631809204845}, {\"index\": 17425, \"component 0\": -0.010954545601506993, \"component 1\": 4.319893372517286}, {\"index\": 17430, \"component 0\": -16.67018335096577, \"component 1\": 0.2703799040717114}, {\"index\": 17438, \"component 0\": 45.83472318439668, \"component 1\": 14.426385827666403}, {\"index\": 17442, \"component 0\": 1.8328105190610584, \"component 1\": -9.119352402412733}, {\"index\": 17449, \"component 0\": 9.291346206614183, \"component 1\": -9.836803321518296}, {\"index\": 17457, \"component 0\": -1.2309068827019491, \"component 1\": -6.663376021946583}, {\"index\": 17462, \"component 0\": -4.239809124367959, \"component 1\": -5.411989615136109}, {\"index\": 17484, \"component 0\": 6.471027928683746, \"component 1\": -8.606222175823813}, {\"index\": 17494, \"component 0\": 0.5408453209157078, \"component 1\": 5.331390587818438}, {\"index\": 17507, \"component 0\": 2.7642666329676446, \"component 1\": 2.6753583863858337}, {\"index\": 17522, \"component 0\": -21.95558502350158, \"component 1\": 0.47914578019609677}, {\"index\": 17531, \"component 0\": -17.691706801302278, \"component 1\": 2.583700258384293}, {\"index\": 17535, \"component 0\": 7.738407798553622, \"component 1\": 35.0298536859631}, {\"index\": 17579, \"component 0\": -19.630886045414282, \"component 1\": 19.061165231143143}, {\"index\": 17607, \"component 0\": -15.45231163362863, \"component 1\": -0.3461612240572217}, {\"index\": 17619, \"component 0\": -8.574630985333293, \"component 1\": -2.268450117660043}, {\"index\": 17631, \"component 0\": -18.329581836911828, \"component 1\": 1.2196235884470714}, {\"index\": 17634, \"component 0\": -9.362905948900663, \"component 1\": 65.53201226297101}, {\"index\": 17667, \"component 0\": -18.33359297321875, \"component 1\": 1.2250152974606308}, {\"index\": 17700, \"component 0\": -13.477678217336605, \"component 1\": -1.2226522500628192}, {\"index\": 17764, \"component 0\": 15.565345614537254, \"component 1\": -2.2876095827285416}, {\"index\": 17783, \"component 0\": -2.0775318268953074, \"component 1\": -3.438525335423118}, {\"index\": 17805, \"component 0\": 6.36853028897662, \"component 1\": -8.70086113788517}, {\"index\": 17809, \"component 0\": 19.943510093084907, \"component 1\": -11.315374155685728}, {\"index\": 17823, \"component 0\": -12.958163933264988, \"component 1\": 2.113501209515608}, {\"index\": 17846, \"component 0\": 1.5533817209090195, \"component 1\": -5.240154055273099}, {\"index\": 17851, \"component 0\": 42.63955052187883, \"component 1\": -0.35047378625072056}, {\"index\": 17871, \"component 0\": -15.561976120853064, \"component 1\": 1.1893214816955064}, {\"index\": 17876, \"component 0\": 5.537554965864946, \"component 1\": -9.02511102801967}, {\"index\": 17915, \"component 0\": 9.920749687196583, \"component 1\": 40.50434211884749}, {\"index\": 17918, \"component 0\": 14.85613216022289, \"component 1\": 36.97220982833101}, {\"index\": 17927, \"component 0\": 4.655083701565219, \"component 1\": 35.964002078120295}, {\"index\": 17985, \"component 0\": -9.428855004939857, \"component 1\": 0.3271701596681382}, {\"index\": 17986, \"component 0\": -12.060000789549287, \"component 1\": 0.8156721959627213}, {\"index\": 17990, \"component 0\": -2.8402946186602818, \"component 1\": 6.533280570425136}, {\"index\": 18039, \"component 0\": -17.39433706371648, \"component 1\": 1.046012235654892}, {\"index\": 18044, \"component 0\": -20.0826347479303, \"component 1\": 0.74733256072073}, {\"index\": 18086, \"component 0\": -18.0340583770847, \"component 1\": 2.676883515226474}, {\"index\": 18092, \"component 0\": -5.366925388853823, \"component 1\": -2.626405961425885}, {\"index\": 18102, \"component 0\": 22.24112726059364, \"component 1\": 3.1321950139206445}, {\"index\": 18103, \"component 0\": 9.418405420684138, \"component 1\": -10.280683914786948}, {\"index\": 18139, \"component 0\": -17.029087238804795, \"component 1\": 1.85518467168088}, {\"index\": 18143, \"component 0\": -19.23111642664507, \"component 1\": -0.03508980218003599}, {\"index\": 18148, \"component 0\": -8.600593382765297, \"component 1\": -1.0626434340222835}, {\"index\": 18157, \"component 0\": 4.213274360388322, \"component 1\": -5.801360374544909}, {\"index\": 18159, \"component 0\": -2.6657857352471352, \"component 1\": -6.268890524223156}, {\"index\": 18160, \"component 0\": 15.01740015319099, \"component 1\": -9.117192286420053}, {\"index\": 18170, \"component 0\": -23.735738192563048, \"component 1\": 6.886021378146119}, {\"index\": 18175, \"component 0\": 33.3070904934956, \"component 1\": -9.03129031576158}, {\"index\": 18193, \"component 0\": -19.625512626447453, \"component 1\": 1.5395441997898107}, {\"index\": 18198, \"component 0\": -0.8480196152587656, \"component 1\": -2.702338992438243}, {\"index\": 18201, \"component 0\": -20.222587794017727, \"component 1\": 0.9783953529902347}, {\"index\": 18205, \"component 0\": -15.42756536236126, \"component 1\": -0.6389770684638012}, {\"index\": 18206, \"component 0\": 9.322041941107539, \"component 1\": -0.524476653514883}, {\"index\": 18218, \"component 0\": 5.587801529920566, \"component 1\": -8.007995089967501}, {\"index\": 18224, \"component 0\": 6.275364094772558, \"component 1\": -2.7300973252974856}, {\"index\": 18236, \"component 0\": 4.057944877522706, \"component 1\": -7.157548076797454}, {\"index\": 18245, \"component 0\": 18.440076298523806, \"component 1\": 7.003598236267212}, {\"index\": 18250, \"component 0\": 0.7970597157378867, \"component 1\": -3.4961104689572413}, {\"index\": 18257, \"component 0\": -18.602330010297955, \"component 1\": 8.912959613374795}, {\"index\": 18260, \"component 0\": -19.02279318892497, \"component 1\": 4.387610473800311}, {\"index\": 18261, \"component 0\": -19.222645484539726, \"component 1\": 4.640545082866536}, {\"index\": 18262, \"component 0\": -13.411606748376514, \"component 1\": 1.92941992015099}, {\"index\": 18265, \"component 0\": 21.56273323823239, \"component 1\": 11.037500928830676}, {\"index\": 18269, \"component 0\": -18.41212445819028, \"component 1\": 3.0740375150373085}, {\"index\": 18278, \"component 0\": -21.96761843242235, \"component 1\": 0.49532090723677435}, {\"index\": 18279, \"component 0\": -21.96761843242235, \"component 1\": 0.49532090723677435}, {\"index\": 18282, \"component 0\": -11.135345719447029, \"component 1\": 1.2881998420988405}, {\"index\": 18330, \"component 0\": 24.69511004258588, \"component 1\": -9.206711006855041}, {\"index\": 18331, \"component 0\": -0.5222062124805014, \"component 1\": 1.5559497871605232}, {\"index\": 18336, \"component 0\": -14.701102070782381, \"component 1\": -2.8365476144362947}, {\"index\": 18340, \"component 0\": -7.272419081658894, \"component 1\": -6.186409724273936}, {\"index\": 18343, \"component 0\": 3.304078567533311, \"component 1\": 10.883439027286425}, {\"index\": 18357, \"component 0\": 10.079398715195564, \"component 1\": -3.7743361670994964}, {\"index\": 18418, \"component 0\": -21.963607296115427, \"component 1\": 0.48992919822321523}, {\"index\": 18434, \"component 0\": -2.07194201577123, \"component 1\": -5.147961112645846}, {\"index\": 18439, \"component 0\": -6.534293280909631, \"component 1\": -0.6136472278772787}, {\"index\": 18446, \"component 0\": 3.849936121083054, \"component 1\": -3.346920443583645}, {\"index\": 18459, \"component 0\": -2.6726906481083703, \"component 1\": -4.087522160826362}, {\"index\": 18460, \"component 0\": 9.62336162829609, \"component 1\": 11.74943895516769}, {\"index\": 18476, \"component 0\": 25.366146639003272, \"component 1\": 11.711169558963244}, {\"index\": 18504, \"component 0\": -18.67983619356758, \"component 1\": -0.9793257341302093}, {\"index\": 18507, \"component 0\": -19.732335018773163, \"component 1\": 3.0560623389886232}, {\"index\": 18532, \"component 0\": -21.963607296115427, \"component 1\": 0.48992919822321523}, {\"index\": 18542, \"component 0\": -5.010447419639126, \"component 1\": 0.2664391196433207}, {\"index\": 18544, \"component 0\": -15.369301136859665, \"component 1\": 0.1746614413658878}, {\"index\": 18577, \"component 0\": 1.1747993097651452, \"component 1\": -1.8737536815918858}, {\"index\": 18579, \"component 0\": 5.877234590637575, \"component 1\": 7.4876658030482295}, {\"index\": 18588, \"component 0\": -18.671323789775016, \"component 1\": 1.3677927013161582}, {\"index\": 18610, \"component 0\": -1.3139117787999712, \"component 1\": 15.306837866379453}, {\"index\": 18635, \"component 0\": 10.185987705336935, \"component 1\": -11.962428888807219}, {\"index\": 18639, \"component 0\": -21.407825795552306, \"component 1\": 1.8982034107329677}, {\"index\": 18655, \"component 0\": -16.100536731087026, \"component 1\": 0.897708422526025}, {\"index\": 18664, \"component 0\": -21.963607296115427, \"component 1\": 0.48992919822321523}, {\"index\": 18674, \"component 0\": -21.96761843242235, \"component 1\": 0.49532090723677435}, {\"index\": 18677, \"component 0\": -2.24772513618151, \"component 1\": -6.783738307953225}, {\"index\": 18680, \"component 0\": -2.917560403244125, \"component 1\": 7.381659627789985}, {\"index\": 18693, \"component 0\": -3.038991147277582, \"component 1\": -2.4719875911232565}, {\"index\": 18727, \"component 0\": -19.995545486664824, \"component 1\": 1.3552092342810318}, {\"index\": 18753, \"component 0\": -8.24992654424474, \"component 1\": 0.6726673751648758}, {\"index\": 18758, \"component 0\": -13.77427399796327, \"component 1\": 2.3050350776342445}, {\"index\": 18763, \"component 0\": -12.496854811612764, \"component 1\": 0.24970306185954053}, {\"index\": 18766, \"component 0\": -14.172150450697584, \"component 1\": 2.3065957696190917}, {\"index\": 18780, \"component 0\": -8.833017712184217, \"component 1\": 1.6259975741730737}, {\"index\": 18813, \"component 0\": -16.04876505115716, \"component 1\": -1.1932636743667513}, {\"index\": 18843, \"component 0\": 10.542511005521796, \"component 1\": 5.654356388744482}, {\"index\": 18846, \"component 0\": -15.96206620108274, \"component 1\": -0.6719242506419889}, {\"index\": 18852, \"component 0\": -16.565379475330534, \"component 1\": 1.2011078587620578}, {\"index\": 18867, \"component 0\": -11.345363902948154, \"component 1\": 0.5839450723864565}, {\"index\": 18877, \"component 0\": -18.40714397115116, \"component 1\": 1.9051914889763835}, {\"index\": 18879, \"component 0\": -16.64294160956987, \"component 1\": 1.8866757592913694}, {\"index\": 18913, \"component 0\": -6.474745471074789, \"component 1\": -4.9281387631415505}, {\"index\": 18940, \"component 0\": 25.269170931942178, \"component 1\": -15.340207730488295}, {\"index\": 19012, \"component 0\": 19.161259734924933, \"component 1\": -7.051240033374543}, {\"index\": 19024, \"component 0\": -18.395110562230393, \"component 1\": 1.8890163619357059}, {\"index\": 19042, \"component 0\": -14.037035796363437, \"component 1\": 5.290600276000342}, {\"index\": 19075, \"component 0\": 13.591381860903617, \"component 1\": 18.40545526678671}, {\"index\": 19109, \"component 0\": -2.650029682532266, \"component 1\": -2.065226715415548}, {\"index\": 19113, \"component 0\": -3.029570810378032, \"component 1\": -1.3569580001491552}, {\"index\": 19127, \"component 0\": -20.0826347479303, \"component 1\": 0.74733256072073}, {\"index\": 19161, \"component 0\": -10.558899114432991, \"component 1\": -0.0582873574105397}, {\"index\": 19195, \"component 0\": 0.39555697801725476, \"component 1\": 6.4671573489288505}, {\"index\": 19201, \"component 0\": -19.067565989285008, \"component 1\": 1.3735451418352413}, {\"index\": 19225, \"component 0\": -6.379001400223068, \"component 1\": 4.032388889184351}, {\"index\": 19242, \"component 0\": -16.00408199788483, \"component 1\": -1.7598271455805357}, {\"index\": 19316, \"component 0\": 39.90958885081365, \"component 1\": 4.533715128584551}, {\"index\": 19338, \"component 0\": 12.376409996480639, \"component 1\": -11.047787700913624}, {\"index\": 19371, \"component 0\": 16.964767595137822, \"component 1\": -16.710975442792858}, {\"index\": 19407, \"component 0\": 9.007839204976456, \"component 1\": -0.8782489691947606}, {\"index\": 19435, \"component 0\": 25.01911839084511, \"component 1\": 11.949384533096323}, {\"index\": 19438, \"component 0\": -11.063867731443949, \"component 1\": -0.49769074414300785}, {\"index\": 19442, \"component 0\": -17.346132742153014, \"component 1\": 0.2169218513039206}, {\"index\": 19500, \"component 0\": -2.361261158002011, \"component 1\": 8.19584181354901}, {\"index\": 19505, \"component 0\": -13.348005685414265, \"component 1\": 1.290817313551798}, {\"index\": 19508, \"component 0\": 9.37276346107608, \"component 1\": 0.9353314158011699}, {\"index\": 19525, \"component 0\": 57.23566618936117, \"component 1\": 64.78420246946865}], \"data-164bd055259f64e137b93bda4eb36f96\": [{\"variable\": \"\\uc11c\\uc6b8\\ubc1560\", \"component 0\": 4.240629477788129, \"component 1\": 5.730470043347717}, {\"variable\": \"\\uacbd\\uae30\\ubc1560\", \"component 0\": 0.18095420607926335, \"component 1\": 8.116124097505876}, {\"variable\": \"\\uc778\\ucc9c\\ubc1560\", \"component 0\": 0.22092744897358094, \"component 1\": 7.69062774379048}, {\"variable\": \"\\uac15\\uc6d0\\ubc1560\", \"component 0\": 6.6400631115184146, \"component 1\": 2.4978869446738736}, {\"variable\": \"\\ub300\\uc804\\ubc1560\", \"component 0\": 0.6887190268188935, \"component 1\": 0.4967203761907699}, {\"variable\": \"\\ucda9\\ubd81\\ubc1560\", \"component 0\": 0.04475983598989796, \"component 1\": 7.382263075295279}, {\"variable\": \"\\ucda9\\ub0a8\\ubc1560\", \"component 0\": 0.3784088593153784, \"component 1\": 2.758354415564441}, {\"variable\": \"\\uc138\\uc885\\ubc1560\", \"component 0\": 0.03210875915056002, \"component 1\": 0.28337215218779704}, {\"variable\": \"\\uacbd\\ubd81\\ubc1560\", \"component 0\": 4.55550165346685, \"component 1\": 0.7901762791604352}, {\"variable\": \"\\uacbd\\ub0a8\\ubc1560\", \"component 0\": 2.6658425808275363, \"component 1\": 1.344491341121501}, {\"variable\": \"\\ub300\\uad6c\\ubc1560\", \"component 0\": 5.053838266177126, \"component 1\": 0.1327399485542471}, {\"variable\": \"\\uc6b8\\uc0b0\\ubc1560\", \"component 0\": 4.296619846174726, \"component 1\": 0.002411987000227143}, {\"variable\": \"\\ubd80\\uc0b0\\ubc1560\", \"component 0\": 18.118382634195363, \"component 1\": 3.4786873294896257}, {\"variable\": \"\\uad11\\uc8fc\\ubc1560\", \"component 0\": 7.848165618707521, \"component 1\": 0.01022121729198668}, {\"variable\": \"\\uc804\\ubd81\\ubc1560\", \"component 0\": 1.8033582849242475, \"component 1\": 0.14303154967101403}, {\"variable\": \"\\uc804\\ub0a8\\ubc1560\", \"component 0\": 10.247209701607526, \"component 1\": 1.0567544005403178}, {\"variable\": \"\\uc81c\\uc8fc\\ubc1560\", \"component 0\": 13.930868802818914, \"component 1\": 2.1403702927656387}, {\"variable\": \"\\uc11c\\uc6b8\\uc77c61\", \"component 0\": 4.053014304592196, \"component 1\": 6.222284212682814}, {\"variable\": \"\\uacbd\\uae30\\uc77c61\", \"component 0\": 0.5092254724039403, \"component 1\": 11.050558681555753}, {\"variable\": \"\\uc778\\ucc9c\\uc77c61\", \"component 0\": 0.8575285850385321, \"component 1\": 12.00839342403239}, {\"variable\": \"\\uac15\\uc6d0\\uc77c61\", \"component 0\": 9.215047437287378, \"component 1\": 3.9442311857481283}, {\"variable\": \"\\ub300\\uc804\\uc77c61\", \"component 0\": 1.0301959855677267, \"component 1\": 0.813298276991248}, {\"variable\": \"\\ucda9\\ubd81\\uc77c61\", \"component 0\": 0.10817524073274125, \"component 1\": 8.52519053238877}, {\"variable\": \"\\ucda9\\ub0a8\\uc77c61\", \"component 0\": 0.4878220023765659, \"component 1\": 3.7677288626453884}, {\"variable\": \"\\uc138\\uc885\\uc77c61\", \"component 0\": 0.030242338068171434, \"component 1\": 0.5933993051221437}, {\"variable\": \"\\uacbd\\ubd81\\uc77c61\", \"component 0\": 6.007481756784588, \"component 1\": 1.1263292590955785}, {\"variable\": \"\\uacbd\\ub0a8\\uc77c61\", \"component 0\": 2.8106805553238154, \"component 1\": 1.387443694430392}, {\"variable\": \"\\ub300\\uad6c\\uc77c61\", \"component 0\": 6.146697669952431, \"component 1\": 0.1281520023855308}, {\"variable\": \"\\uc6b8\\uc0b0\\uc77c61\", \"component 0\": 6.0916382943756116, \"component 1\": 0.005311027448835588}, {\"variable\": \"\\ubd80\\uc0b0\\uc77c61\", \"component 0\": 22.482700985723152, \"component 1\": 4.273927935060188}, {\"variable\": \"\\uad11\\uc8fc\\uc77c61\", \"component 0\": 9.472666953484847, \"component 1\": 0.008219371726195503}, {\"variable\": \"\\uc804\\ubd81\\uc77c61\", \"component 0\": 2.5588850478296115, \"component 1\": 0.3089930880549303}, {\"variable\": \"\\uc804\\ub0a8\\uc77c61\", \"component 0\": 11.585658602696356, \"component 1\": 1.4251026136804266}, {\"variable\": \"\\uc81c\\uc8fc\\uc77c61\", \"component 0\": 14.822529902936486, \"component 1\": 2.4670022637474527}, {\"variable\": \"KWON1\", \"component 0\": 0.2829760293366633, \"component 1\": 41.520387641230556}, {\"variable\": \"KWON2\", \"component 0\": 2.227686591812554, \"component 1\": 13.565769368090288}, {\"variable\": \"KWON3\", \"component 0\": 2.9685141177023957, \"component 1\": 13.395389852406842}, {\"variable\": \"KWON4\", \"component 0\": 10.5518947476069, \"component 1\": 5.82401312839692}, {\"variable\": \"KWON5\", \"component 0\": 5.338911758740771, \"component 1\": 29.617049231441158}, {\"variable\": \"KWON6\", \"component 0\": 38.13650238341422, \"component 1\": 4.873063403653672}, {\"variable\": \"KWON7\", \"component 0\": 23.662939121312235, \"component 1\": 3.986890640820548}, {\"variable\": \"KWON8\", \"component 0\": 16.82523186544185, \"component 1\": 3.913220253881337}, {\"variable\": \"Q11A$01\", \"component 0\": 1.0579886619827767, \"component 1\": 0.027493350191294605}, {\"variable\": \"Q11A$02\", \"component 0\": 0.9875219142276309, \"component 1\": 0.6863622985148492}, {\"variable\": \"Q11A$03\", \"component 0\": 3.2934254725286776, \"component 1\": 1.5636860330517093}, {\"variable\": \"Q11A$04\", \"component 0\": 1.9995287770029482, \"component 1\": 0.05362692243495302}, {\"variable\": \"Q11A$05\", \"component 0\": 2.284979901006791, \"component 1\": 1.0960992676800367}, {\"variable\": \"Q11A$06\", \"component 0\": 0.015800738888380128, \"component 1\": 0.08293476479340331}, {\"variable\": \"Q11A$07\", \"component 0\": 0.14002967858277918, \"component 1\": 0.11372377297618427}, {\"variable\": \"Q11A$08\", \"component 0\": 4.851377125086833, \"component 1\": 0.7541818597485851}, {\"variable\": \"Q11A$09\", \"component 0\": 9.343705221747035, \"component 1\": 3.6056623804155614}, {\"variable\": \"Q11A$10\", \"component 0\": 0.004816416355571133, \"component 1\": 5.484490912188048}, {\"variable\": \"Q11A$11\", \"component 0\": 1.2014494496503573e-30, \"component 1\": 4.991659223700017e-32}, {\"variable\": \"Q11A$12\", \"component 0\": 0.30056619065636286, \"component 1\": 15.997816594666814}, {\"variable\": \"Q11A$13\", \"component 0\": 0.005353062431593374, \"component 1\": 0.08252926937495392}, {\"variable\": \"Q11A$14\", \"component 0\": 1.2292593196379389, \"component 1\": 0.005382341725015656}, {\"variable\": \"Q11A$98\", \"component 0\": 0.00947959769210672, \"component 1\": 0.7274067247013273}, {\"variable\": \"Q11_1a01t\", \"component 0\": 11.876968587705301, \"component 1\": 50.57402657442327}, {\"variable\": \"Q11_1a02t\", \"component 0\": 1.4023707416134081, \"component 1\": 15.957258087966546}, {\"variable\": \"Q11_1a03t\", \"component 0\": 2.0370338042740843, \"component 1\": 11.52811934681791}, {\"variable\": \"Q11_1a04t\", \"component 0\": 11.767123481480295, \"component 1\": 6.5288061296149085}, {\"variable\": \"Q11_1a05t\", \"component 0\": 4.1970989430730254, \"component 1\": 6.463874388374559}, {\"variable\": \"Q11_1a06t\", \"component 0\": 2.305602541116448, \"component 1\": 20.25246735327213}, {\"variable\": \"Q11_1a07t\", \"component 0\": 0.9495123030514881, \"component 1\": 12.127833265983078}, {\"variable\": \"Q11_1a08t\", \"component 0\": 0.0416172120049694, \"component 1\": 0.18121399967467539}, {\"variable\": \"Q11_1a09t\", \"component 0\": 8.865767882571665, \"component 1\": 2.400736662033922}, {\"variable\": \"Q11_1a10t\", \"component 0\": 2.5581582583038545, \"component 1\": 2.0794080829135715}, {\"variable\": \"Q11_1a11t\", \"component 0\": 7.721535362747087, \"component 1\": 2.3975908569895585}, {\"variable\": \"Q11_1a12t\", \"component 0\": 5.84368952355111, \"component 1\": 0.29425377496359933}, {\"variable\": \"Q11_1a13t\", \"component 0\": 37.92019364194184, \"component 1\": 11.420575617670655}, {\"variable\": \"Q11_1a14t\", \"component 0\": 11.144026968699288, \"component 1\": 6.329036263881232}, {\"variable\": \"Q11_1a15t\", \"component 0\": 5.364328124397178, \"component 1\": 8.834880804759512}, {\"variable\": \"Q11_1a16t\", \"component 0\": 14.119988088788977, \"component 1\": 16.11120076168044}, {\"variable\": \"Q11_1a17t\", \"component 0\": 17.119739325207924, \"component 1\": 7.4200107869531555}, {\"variable\": \"Q3B1\", \"component 0\": 7.3915341681913, \"component 1\": 1.9240629103518956}, {\"variable\": \"Q3B2\", \"component 0\": 17.587165304729403, \"component 1\": 3.873644369992609}, {\"variable\": \"Q3B3\", \"component 0\": 14.030481175776282, \"component 1\": 3.7213786813090213}, {\"variable\": \"Q4A01\", \"component 0\": 8.307500392483965, \"component 1\": 0.3874807251916595}, {\"variable\": \"Q4A02\", \"component 0\": 0.07500251070194039, \"component 1\": 0.03407812576731838}, {\"variable\": \"Q4A03\", \"component 0\": 28.01630009949442, \"component 1\": 1.1954195219960213}, {\"variable\": \"Q4A04\", \"component 0\": 32.34309575287304, \"component 1\": 5.005622178181764}, {\"variable\": \"Q4A05\", \"component 0\": 20.61980738070587, \"component 1\": 4.663109458784988}, {\"variable\": \"Q4A06\", \"component 0\": 25.05224253171166, \"component 1\": 3.375355365051029}, {\"variable\": \"Q4A07\", \"component 0\": 2.0858834877016323, \"component 1\": 1.7935420595564424}, {\"variable\": \"Q4A08\", \"component 0\": 1.4469092712209262, \"component 1\": 1.3669111761690131}, {\"variable\": \"Q4A09\", \"component 0\": 0.010538018109199411, \"component 1\": 0.04597361150593739}, {\"variable\": \"Q4A10\", \"component 0\": 4.615133774798004, \"component 1\": 0.08924110995727491}, {\"variable\": \"Q4A11\", \"component 0\": 10.990358696299637, \"component 1\": 1.9914748286224644}, {\"variable\": \"Q4A12\", \"component 0\": 1.6599643174987295, \"component 1\": 0.8824961913988746}, {\"variable\": \"Q4A13\", \"component 0\": 3.8061310020042995, \"component 1\": 0.009303678029880445}, {\"variable\": \"Q4A14\", \"component 0\": 0.018954413336808838, \"component 1\": 0.005208555610778683}, {\"variable\": \"Q4A15\", \"component 0\": 0.0012413363487601518, \"component 1\": 0.023350253819528703}, {\"variable\": \"Q4A16\", \"component 0\": 0.0012413363487601518, \"component 1\": 0.023350253819528703}, {\"variable\": \"Q4A17\", \"component 0\": 0.22235548182632084, \"component 1\": 2.0101344199071316}, {\"variable\": \"Q4B1\", \"component 0\": 17.669215373995186, \"component 1\": 12.081974885504483}, {\"variable\": \"Q4B2\", \"component 0\": 20.525297255479604, \"component 1\": 3.3036253159416695}, {\"variable\": \"Q4B3\", \"component 0\": 19.295636492827324, \"component 1\": 4.357326985493246}, {\"variable\": \"Q5A01\", \"component 0\": 0.2829760293366633, \"component 1\": 41.520387641230556}, {\"variable\": \"Q5A02\", \"component 0\": 2.227686591812554, \"component 1\": 13.565769368090288}, {\"variable\": \"Q5A03\", \"component 0\": 2.9685141177023957, \"component 1\": 13.395389852406842}, {\"variable\": \"Q5A04\", \"component 0\": 10.5518947476069, \"component 1\": 5.82401312839692}, {\"variable\": \"Q5A05\", \"component 0\": 3.990320802943425, \"component 1\": 4.8901341543488215}, {\"variable\": \"Q5A06\", \"component 0\": 1.271275220015683, \"component 1\": 16.65628117924052}, {\"variable\": \"Q5A07\", \"component 0\": 1.4785119704474377, \"component 1\": 18.22564163056133}, {\"variable\": \"Q5A08\", \"component 0\": 0.0251980086959667, \"component 1\": 0.7604474105008614}, {\"variable\": \"Q5A09\", \"component 0\": 8.801088949564576, \"component 1\": 1.8249032352801386}, {\"variable\": \"Q5A10\", \"component 0\": 2.3796365283740313, \"component 1\": 0.984019490988714}, {\"variable\": \"Q5A11\", \"component 0\": 7.5322484363849584, \"component 1\": 0.19725998695378882}, {\"variable\": \"Q5A12\", \"component 0\": 7.182706197796982, \"component 1\": 0.047974389453313136}, {\"variable\": \"Q5A13\", \"component 0\": 36.28739231717479, \"component 1\": 5.505676881924708}, {\"variable\": \"Q5A14\", \"component 0\": 10.984542206729735, \"component 1\": 0.8257898424574383}, {\"variable\": \"Q5A15\", \"component 0\": 4.57554816397058, \"component 1\": 1.2157078500688783}, {\"variable\": \"Q5A16\", \"component 0\": 14.730054957676998, \"component 1\": 5.442563870388911}, {\"variable\": \"Q5A17\", \"component 0\": 16.82523186544185, \"component 1\": 3.913220253881337}]}}, {\"mode\": \"vega-lite\"});\n",
       "</script>"
      ],
      "text/plain": [
       "alt.LayerChart(...)"
      ]
     },
     "execution_count": 35,
     "metadata": {},
     "output_type": "execute_result"
    }
   ],
   "source": [
    "famd.plot(\n",
    "    X,\n",
    "    x_component=0,\n",
    "    y_component=1\n",
    ")"
   ]
  },
  {
   "cell_type": "code",
   "execution_count": 36,
   "id": "53cb1f3d",
   "metadata": {
    "id": "53cb1f3d",
    "scrolled": true
   },
   "outputs": [],
   "source": [
    "df_famd=pd.DataFrame(famd.row_coordinates(X))\n",
    "df_famd.columns=['component0', 'component1']"
   ]
  },
  {
   "cell_type": "code",
   "execution_count": 37,
   "id": "1fd35134",
   "metadata": {
    "scrolled": true
   },
   "outputs": [
    {
     "data": {
      "text/html": [
       "<div>\n",
       "<style scoped>\n",
       "    .dataframe tbody tr th:only-of-type {\n",
       "        vertical-align: middle;\n",
       "    }\n",
       "\n",
       "    .dataframe tbody tr th {\n",
       "        vertical-align: top;\n",
       "    }\n",
       "\n",
       "    .dataframe thead th {\n",
       "        text-align: right;\n",
       "    }\n",
       "</style>\n",
       "<table border=\"1\" class=\"dataframe\">\n",
       "  <thead>\n",
       "    <tr style=\"text-align: right;\">\n",
       "      <th></th>\n",
       "      <th>Q3B1</th>\n",
       "      <th>Q3B2</th>\n",
       "      <th>Q3B3</th>\n",
       "      <th>Q4A01</th>\n",
       "      <th>Q4A02</th>\n",
       "      <th>Q4A03</th>\n",
       "      <th>Q4A04</th>\n",
       "      <th>Q4A05</th>\n",
       "      <th>Q4A06</th>\n",
       "      <th>Q4A07</th>\n",
       "      <th>...</th>\n",
       "      <th>울산일61</th>\n",
       "      <th>부산일61</th>\n",
       "      <th>광주일61</th>\n",
       "      <th>전북일61</th>\n",
       "      <th>전남일61</th>\n",
       "      <th>제주일61</th>\n",
       "      <th>cao_cluster</th>\n",
       "      <th>hua_cluster</th>\n",
       "      <th>component0</th>\n",
       "      <th>component1</th>\n",
       "    </tr>\n",
       "  </thead>\n",
       "  <tbody>\n",
       "    <tr>\n",
       "      <th>34</th>\n",
       "      <td>4.0</td>\n",
       "      <td>6.0</td>\n",
       "      <td>2.0</td>\n",
       "      <td>1.0</td>\n",
       "      <td>2.0</td>\n",
       "      <td>3.0</td>\n",
       "      <td></td>\n",
       "      <td></td>\n",
       "      <td></td>\n",
       "      <td>7.0</td>\n",
       "      <td>...</td>\n",
       "      <td>0.0</td>\n",
       "      <td>0.0</td>\n",
       "      <td>0.0</td>\n",
       "      <td>0.0</td>\n",
       "      <td>0.0</td>\n",
       "      <td>0.0</td>\n",
       "      <td>2</td>\n",
       "      <td>1</td>\n",
       "      <td>-3.872790</td>\n",
       "      <td>41.893906</td>\n",
       "    </tr>\n",
       "    <tr>\n",
       "      <th>190</th>\n",
       "      <td>6.0</td>\n",
       "      <td>1.0</td>\n",
       "      <td>10.0</td>\n",
       "      <td>1.0</td>\n",
       "      <td>2.0</td>\n",
       "      <td></td>\n",
       "      <td></td>\n",
       "      <td>5.0</td>\n",
       "      <td></td>\n",
       "      <td>7.0</td>\n",
       "      <td>...</td>\n",
       "      <td>0.0</td>\n",
       "      <td>0.0</td>\n",
       "      <td>0.0</td>\n",
       "      <td>0.0</td>\n",
       "      <td>0.0</td>\n",
       "      <td>0.0</td>\n",
       "      <td>2</td>\n",
       "      <td>1</td>\n",
       "      <td>-9.110731</td>\n",
       "      <td>14.780930</td>\n",
       "    </tr>\n",
       "    <tr>\n",
       "      <th>192</th>\n",
       "      <td>6.0</td>\n",
       "      <td>2.0</td>\n",
       "      <td>4.0</td>\n",
       "      <td>1.0</td>\n",
       "      <td>2.0</td>\n",
       "      <td></td>\n",
       "      <td></td>\n",
       "      <td>5.0</td>\n",
       "      <td></td>\n",
       "      <td></td>\n",
       "      <td>...</td>\n",
       "      <td>0.0</td>\n",
       "      <td>0.0</td>\n",
       "      <td>0.0</td>\n",
       "      <td>0.0</td>\n",
       "      <td>0.0</td>\n",
       "      <td>0.0</td>\n",
       "      <td>2</td>\n",
       "      <td>1</td>\n",
       "      <td>-8.751761</td>\n",
       "      <td>16.536151</td>\n",
       "    </tr>\n",
       "    <tr>\n",
       "      <th>329</th>\n",
       "      <td>6.0</td>\n",
       "      <td></td>\n",
       "      <td></td>\n",
       "      <td>1.0</td>\n",
       "      <td></td>\n",
       "      <td></td>\n",
       "      <td></td>\n",
       "      <td></td>\n",
       "      <td></td>\n",
       "      <td>7.0</td>\n",
       "      <td>...</td>\n",
       "      <td>0.0</td>\n",
       "      <td>0.0</td>\n",
       "      <td>0.0</td>\n",
       "      <td>0.0</td>\n",
       "      <td>0.0</td>\n",
       "      <td>0.0</td>\n",
       "      <td>1</td>\n",
       "      <td>0</td>\n",
       "      <td>-19.724878</td>\n",
       "      <td>4.525741</td>\n",
       "    </tr>\n",
       "    <tr>\n",
       "      <th>332</th>\n",
       "      <td>13.0</td>\n",
       "      <td>6.0</td>\n",
       "      <td></td>\n",
       "      <td></td>\n",
       "      <td>2.0</td>\n",
       "      <td>3.0</td>\n",
       "      <td></td>\n",
       "      <td></td>\n",
       "      <td></td>\n",
       "      <td></td>\n",
       "      <td>...</td>\n",
       "      <td>0.0</td>\n",
       "      <td>0.0</td>\n",
       "      <td>0.0</td>\n",
       "      <td>0.0</td>\n",
       "      <td>0.0</td>\n",
       "      <td>0.0</td>\n",
       "      <td>1</td>\n",
       "      <td>0</td>\n",
       "      <td>0.762535</td>\n",
       "      <td>88.672803</td>\n",
       "    </tr>\n",
       "  </tbody>\n",
       "</table>\n",
       "<p>5 rows × 118 columns</p>\n",
       "</div>"
      ],
      "text/plain": [
       "     Q3B1 Q3B2  Q3B3 Q4A01 Q4A02 Q4A03 Q4A04 Q4A05 Q4A06 Q4A07  ... 울산일61  \\\n",
       "34    4.0  6.0   2.0   1.0   2.0   3.0                     7.0  ...   0.0   \n",
       "190   6.0  1.0  10.0   1.0   2.0               5.0         7.0  ...   0.0   \n",
       "192   6.0  2.0   4.0   1.0   2.0               5.0              ...   0.0   \n",
       "329   6.0              1.0                                 7.0  ...   0.0   \n",
       "332  13.0  6.0               2.0   3.0                          ...   0.0   \n",
       "\n",
       "    부산일61 광주일61 전북일61 전남일61 제주일61 cao_cluster hua_cluster component0  \\\n",
       "34    0.0   0.0   0.0   0.0   0.0           2           1  -3.872790   \n",
       "190   0.0   0.0   0.0   0.0   0.0           2           1  -9.110731   \n",
       "192   0.0   0.0   0.0   0.0   0.0           2           1  -8.751761   \n",
       "329   0.0   0.0   0.0   0.0   0.0           1           0 -19.724878   \n",
       "332   0.0   0.0   0.0   0.0   0.0           1           0   0.762535   \n",
       "\n",
       "    component1  \n",
       "34   41.893906  \n",
       "190  14.780930  \n",
       "192  16.536151  \n",
       "329   4.525741  \n",
       "332  88.672803  \n",
       "\n",
       "[5 rows x 118 columns]"
      ]
     },
     "execution_count": 37,
     "metadata": {},
     "output_type": "execute_result"
    }
   ],
   "source": [
    "df3=pd.concat([df3, df_famd], axis=1)\n",
    "df3.head()"
   ]
  },
  {
   "cell_type": "markdown",
   "id": "6540a3e5",
   "metadata": {},
   "source": [
    "## 3.2. Visualization"
   ]
  },
  {
   "cell_type": "code",
   "execution_count": 38,
   "id": "55de8ac4",
   "metadata": {
    "scrolled": false
   },
   "outputs": [
    {
     "data": {
      "text/plain": [
       "Text(0, 0.5, 'component 1')"
      ]
     },
     "execution_count": 38,
     "metadata": {},
     "output_type": "execute_result"
    },
    {
     "data": {
      "image/png": "[encoded data removed]",
      "text/plain": [
       "<Figure size 1200x500 with 3 Axes>"
      ]
     },
     "metadata": {},
     "output_type": "display_data"
    }
   ],
   "source": [
    "import matplotlib.pyplot as plt\n",
    "\n",
    "fig, ax=plt.subplots(1, 3, figsize=(12,5))\n",
    "\n",
    "plt.suptitle('Clusters',fontsize=15)\n",
    "\n",
    "df_famd_0 = df3[df3['hua_cluster'] == 0]\n",
    "df_famd_1 = df3[df3['hua_cluster'] == 1]\n",
    "df_famd_2 = df3[df3['hua_cluster'] == 2]\n",
    "\n",
    "# target 별 시각화\n",
    "ax[0].scatter(df_famd_0['component0'], df_famd_0['component1'], color = 'orange', alpha = 0.7, label = 'Group 1')\n",
    "ax[1].scatter(df_famd_1['component0'], df_famd_1['component1'], color = 'red', alpha = 0.7, label = 'Group 2')\n",
    "ax[2].scatter(df_famd_2['component0'], df_famd_2['component1'], color = 'green', alpha = 0.7, label = 'Group 3')\n",
    "\n",
    "for i in range(3):\n",
    "    ax[i].set_xlabel('component 0')\n",
    "    ax[i].set_title(f'Group {i+1}')\n",
    "\n",
    "ax[0].set_ylabel('component 1')"
   ]
  },
  {
   "cell_type": "code",
   "execution_count": null,
   "id": "92638a91",
   "metadata": {},
   "outputs": [],
   "source": []
  }
 ],
 "metadata": {
  "colab": {
   "collapsed_sections": [
    "-RxQmYEuzwml"
   ],
   "provenance": []
  },
  "kernelspec": {
   "display_name": "Python 3 (ipykernel)",
   "language": "python",
   "name": "python3"
  },
  "language_info": {
   "codemirror_mode": {
    "name": "ipython",
    "version": 3
   },
   "file_extension": ".py",
   "mimetype": "text/x-python",
   "name": "python",
   "nbconvert_exporter": "python",
   "pygments_lexer": "ipython3",
   "version": "3.10.9"
  }
 },
 "nbformat": 4,
 "nbformat_minor": 5
}
